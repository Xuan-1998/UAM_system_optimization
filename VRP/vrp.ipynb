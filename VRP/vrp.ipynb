{
 "cells": [
  {
   "cell_type": "code",
   "execution_count": 1,
   "metadata": {},
   "outputs": [],
   "source": [
    "import pandas as pd\n",
    "import numpy as np\n",
    "import matplotlib.pyplot as plt\n",
    "import seaborn as sns"
   ]
  },
  {
   "cell_type": "code",
   "execution_count": 5,
   "metadata": {},
   "outputs": [],
   "source": [
    "demand = pd.read_csv('../input/schedule_5min_0612.csv')\n",
    "demand['schedule'] = demand['schedule'] // 5 + 1"
   ]
  },
  {
   "cell_type": "code",
   "execution_count": 9,
   "metadata": {},
   "outputs": [
    {
     "data": {
      "text/plain": [
       "array([ 0.774,  0.798,  0.822,  0.852,  0.882,  0.918,  0.948,  0.996,\n",
       "        1.032,  1.08 ,  1.128,  1.182,  1.242,  1.314,  1.386,  1.47 ,\n",
       "        1.56 ,  1.668,  1.8  ,  1.938,  2.106,  2.304,  2.538,  2.832,\n",
       "        3.216,  3.702,  4.356,  5.322,  6.816,  9.492, 15.732, 55.668])"
      ]
     },
     "execution_count": 9,
     "metadata": {},
     "output_type": "execute_result"
    }
   ],
   "source": [
    "cs = np.array([0.0129,0.0133,0.0137,0.0142,0.0147,\n",
    "                                0.0153,0.0158,0.0166,0.0172,0.018,\n",
    "                                0.0188,0.0197,0.0207,0.0219,0.0231,\n",
    "                                0.0245,0.026,0.0278,0.03,0.0323,\n",
    "                                0.0351,0.0384,0.0423,0.0472,0.0536,\n",
    "                                0.0617,0.0726,0.0887,0.1136,0.1582,\n",
    "                                0.2622,0.9278,])*60\n",
    "cs = np.cumsum(cs)\n",
    "soc_transition_time\n",
    "\n",
    "\n"
   ]
  },
  {
   "cell_type": "code",
   "execution_count": 10,
   "metadata": {},
   "outputs": [
    {
     "data": {
      "text/plain": [
       "array([  0.774,   1.572,   2.394,   3.246,   4.128,   5.046,   5.994,\n",
       "         6.99 ,   8.022,   9.102,  10.23 ,  11.412,  12.654,  13.968,\n",
       "        15.354,  16.824,  18.384,  20.052,  21.852,  23.79 ,  25.896,\n",
       "        28.2  ,  30.738,  33.57 ,  36.786,  40.488,  44.844,  50.166,\n",
       "        56.982,  66.474,  82.206, 137.874])"
      ]
     },
     "execution_count": 10,
     "metadata": {},
     "output_type": "execute_result"
    }
   ],
   "source": [
    "cs"
   ]
  },
  {
   "cell_type": "code",
   "execution_count": null,
   "metadata": {},
   "outputs": [],
   "source": []
  }
 ],
 "metadata": {
  "kernelspec": {
   "display_name": "base",
   "language": "python",
   "name": "python3"
  },
  "language_info": {
   "codemirror_mode": {
    "name": "ipython",
    "version": 3
   },
   "file_extension": ".py",
   "mimetype": "text/x-python",
   "name": "python",
   "nbconvert_exporter": "python",
   "pygments_lexer": "ipython3",
   "version": "3.11.0"
  }
 },
 "nbformat": 4,
 "nbformat_minor": 2
}
