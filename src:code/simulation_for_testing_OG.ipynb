{
 "cells": [
  {
   "cell_type": "code",
   "execution_count": 2,
   "metadata": {},
   "outputs": [],
   "source": [
    "def vertiopt(tH):\n",
    "    na0 = [0] * tH\n",
    "    na1 = [0] * tH\n",
    "    nb0 = [0] * tH\n",
    "    nb1 = [0] * tH\n",
    "    va0 = [0] * tH\n",
    "    va1 = [0] * tH\n",
    "    vb0 = [0] * tH\n",
    "    vb1 = [0] * tH\n",
    "    uab0 = [0] * tH\n",
    "    uab1 = [1] * tH\n",
    "    uba0 = [0] * tH\n",
    "    uba1 = [2] * tH\n",
    "\n",
    "    va1[1] = 0\n",
    "    vb0[1] = 0\n",
    "    vb1[1] = 0\n",
    "\n",
    "    na0[1] = na0[0] + uba1[0] - uab0[0] - va0[0]\n",
    "    na1[1] = na1[0] - uab1[0] - va1[0]\n",
    "    nb0[1] = nb0[0] + uab1[0] - uba0[0] - vb0[0]\n",
    "    nb1[1] = nb1[0] - uba1[0] - vb1[0]\n",
    "    \n",
    "    va0[1] = na0[0]\n",
    "    vb0[1] = nb0[0]\n",
    "    va1[1] = 0\n",
    "    vb1[1] = 0\n",
    "\n",
    "    for t in range(2, tH):\n",
    "        uab0[t] = 0\n",
    "        uba1[t] = 2\n",
    "        va1[t] = 0\n",
    "        uab1[t] = 1\n",
    "\n",
    "        va0[t] = na0[t-1]\n",
    "        vb0[t] = nb0[t-1]\n",
    "        uba0[t] = 0\n",
    "        vb1[t] = 0\n",
    "\n",
    "        na0[t] = na0[t-1] + uba1[t-1] - uab0[t-1] - va0[t-2] - va0[t-1]\n",
    "        na1[t] = na1[t-1] - uab1[t-1] + va0[t-2] - va1[t-2] - va1[t-1]\n",
    "        nb0[t] = nb0[t-1] + uab1[t-1] - uba0[t-1] - vb0[t-2] - vb0[t-1]\n",
    "        nb1[t] = nb1[t-1] - uba1[t-1] + vb0[t-2] - vb1[t-2] - vb1[t-1]\n",
    "\n",
    "    return na0, na1, nb0, nb1, va0, va1, vb0, vb1, uab0, uab1, uba0, uba1\n"
   ]
  },
  {
   "cell_type": "code",
   "execution_count": 3,
   "metadata": {},
   "outputs": [],
   "source": [
    "data = vertiopt(4)"
   ]
  },
  {
   "cell_type": "code",
   "execution_count": 5,
   "metadata": {},
   "outputs": [
    {
     "data": {
      "text/plain": [
       "([0, 2, 4, 4],\n",
       " [0, -1, -2, -3],\n",
       " [0, 1, 2, 2],\n",
       " [0, -2, -4, -6],\n",
       " [0, 0, 2, 4],\n",
       " [0, 0, 0, 0],\n",
       " [0, 0, 1, 2],\n",
       " [0, 0, 0, 0],\n",
       " [0, 0, 0, 0],\n",
       " [1, 1, 1, 1],\n",
       " [0, 0, 0, 0],\n",
       " [2, 2, 2, 2])"
      ]
     },
     "execution_count": 5,
     "metadata": {},
     "output_type": "execute_result"
    }
   ],
   "source": [
    "data"
   ]
  },
  {
   "cell_type": "code",
   "execution_count": null,
   "metadata": {},
   "outputs": [],
   "source": []
  }
 ],
 "metadata": {
  "kernelspec": {
   "display_name": "Python 3",
   "language": "python",
   "name": "python3"
  },
  "language_info": {
   "codemirror_mode": {
    "name": "ipython",
    "version": 3
   },
   "file_extension": ".py",
   "mimetype": "text/x-python",
   "name": "python",
   "nbconvert_exporter": "python",
   "pygments_lexer": "ipython3",
   "version": "3.11.3"
  },
  "orig_nbformat": 4
 },
 "nbformat": 4,
 "nbformat_minor": 2
}
