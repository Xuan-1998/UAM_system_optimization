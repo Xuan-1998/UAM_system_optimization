{
 "cells": [
  {
   "cell_type": "code",
   "execution_count": null,
   "metadata": {},
   "outputs": [],
   "source": [
    "import sys\n",
    "sys.path.append('../')\n",
    "from model.op import number_aircrafts_lp"
   ]
  },
  {
   "cell_type": "code",
   "execution_count": null,
   "metadata": {},
   "outputs": [],
   "source": [
    "tau = [[0, 9.8], [9.8, 0]]\n",
    "\n",
    "kappa = [[0, 7.932], [8.249, 0]]\n",
    "\n",
    "gamma = [3.237872699, 3.729470167, 4.404786588, 5.379957014, \n",
    "         6.913363091, 9.685271742, 16.30528373, 71.41103553]\n",
    "\n",
    "number_aircrafts_lp(tau=tau, kappa=kappa, gamma=gamma, schedule='schedule', schedule_time_step=288, output_path='testingfunction')"
   ]
  }
 ],
 "metadata": {
  "language_info": {
   "name": "python"
  },
  "orig_nbformat": 4
 },
 "nbformat": 4,
 "nbformat_minor": 2
}
