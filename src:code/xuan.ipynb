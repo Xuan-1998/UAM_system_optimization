{
 "cells": [
  {
   "cell_type": "code",
   "execution_count": 1,
   "metadata": {},
   "outputs": [],
   "source": [
    "import sys\n",
    "import importlib\n",
    "sys.path.append('../')\n",
    "import model.op\n",
    "importlib.reload(model.op)\n",
    "from model.op import number_aircrafts_lp\n",
    "import numpy as np\n",
    "import pandas as pd\n",
    "import matplotlib.pyplot as plt\n",
    "import seaborn as sns\n",
    "import ParseLP\n",
    "importlib.reload(ParseLP)\n",
    "from ParseLP import convert2df, calculate_num_aircrafts"
   ]
  },
  {
   "cell_type": "code",
   "execution_count": 2,
   "metadata": {},
   "outputs": [],
   "source": [
    "\n",
    "# output_file = 'variable_values'\n",
    "output_file = 'output_12 miles'\n",
    "specificn, specificu, specificc = convert2df(output_file)"
   ]
  },
  {
   "cell_type": "code",
   "execution_count": 3,
   "metadata": {},
   "outputs": [],
   "source": [
    "# Obtain Airport Specific Aircraft States\n",
    "specificu01 = specificu[specificu['i'] == 0].reset_index(drop=True)\n",
    "specificu10 = specificu[specificu['i'] == 1].reset_index(drop=True)\n",
    "\n",
    "specificc01 = specificc[specificc['i'] == 0].reset_index(drop=True)\n",
    "specificc10 = specificc[specificc['i'] == 1].reset_index(drop=True)\n",
    "\n",
    "specificn01 = specificn[specificn['i'] == 0].reset_index(drop=True)\n",
    "specificn10 = specificn[specificn['i'] == 1].reset_index(drop=True)"
   ]
  },
  {
   "cell_type": "code",
   "execution_count": 4,
   "metadata": {},
   "outputs": [],
   "source": [
    "# Load Charging Time Array\n",
    "# gamma = [3.237872699, 3.729470167, 4.404786588, 5.379957014, 6.913363091,\n",
    "#         9.685271742, 16.30528373, 71.41103553]\n",
    "\n",
    "gamma = [1.567183013,1.670689686,1.79349788,1.935972287,2.103057098,\n",
    "         2.30172949,2.541890384,2.83806663,3.212473781,3.70088931,\n",
    "         4.364896382,5.32037536,6.814736187,9.490547548,15.74119426,55.66984127]\n",
    "gamma = np.array(gamma) / 5\n",
    "gamma = np.ceil(gamma)"
   ]
  },
  {
   "cell_type": "code",
   "execution_count": 5,
   "metadata": {},
   "outputs": [
    {
     "ename": "TypeError",
     "evalue": "'float' object cannot be interpreted as an integer",
     "output_type": "error",
     "traceback": [
      "\u001b[0;31m---------------------------------------------------------------------------\u001b[0m",
      "\u001b[0;31mTypeError\u001b[0m                                 Traceback (most recent call last)",
      "Cell \u001b[0;32mIn[5], line 1\u001b[0m\n\u001b[0;32m----> 1\u001b[0m lax_all_c, lax_all_n, lax_all_u \u001b[39m=\u001b[39m calculate_num_aircrafts(specificc01, specificu01, specificn01, gamma\u001b[39m=\u001b[39;49mgamma, flight_time\u001b[39m=\u001b[39;49mnp\u001b[39m.\u001b[39;49marray([[\u001b[39m0\u001b[39;49m,\u001b[39m2\u001b[39;49m],[\u001b[39m2\u001b[39;49m,\u001b[39m0\u001b[39;49m]]))\n\u001b[1;32m      2\u001b[0m dtla_all_c, dtla_all_n, dtla_all_u \u001b[39m=\u001b[39m calculate_num_aircrafts(specificc10, specificu10, specificn10, gamma\u001b[39m=\u001b[39mgamma, flight_time\u001b[39m=\u001b[39mnp\u001b[39m.\u001b[39marray([[\u001b[39m0\u001b[39m,\u001b[39m2\u001b[39m],[\u001b[39m2\u001b[39m,\u001b[39m0\u001b[39m]]))\n\u001b[1;32m      3\u001b[0m all_c, all_n, all_u \u001b[39m=\u001b[39m calculate_num_aircrafts(specificc, specificu, specificn, gamma\u001b[39m=\u001b[39mgamma, flight_time\u001b[39m=\u001b[39mnp\u001b[39m.\u001b[39marray([[\u001b[39m0\u001b[39m,\u001b[39m2\u001b[39m],[\u001b[39m2\u001b[39m,\u001b[39m0\u001b[39m]]))\n",
      "File \u001b[0;32m~/Desktop/GitHub Repos/AIR Lab/UAM_system_optimization/src:code/ParseLP.py:52\u001b[0m, in \u001b[0;36mcalculate_num_aircrafts\u001b[0;34m(specificc, specificu, specificn, gamma, flight_time)\u001b[0m\n\u001b[1;32m     50\u001b[0m \u001b[39mdef\u001b[39;00m \u001b[39mcalculate_num_aircrafts\u001b[39m(specificc, specificu, specificn, gamma, flight_time\u001b[39m=\u001b[39mnp\u001b[39m.\u001b[39marray([[\u001b[39m0\u001b[39m,\u001b[39m2\u001b[39m],[\u001b[39m2\u001b[39m,\u001b[39m0\u001b[39m]])):\n\u001b[1;32m     51\u001b[0m     end \u001b[39m=\u001b[39m specificn[\u001b[39m'\u001b[39m\u001b[39mt\u001b[39m\u001b[39m'\u001b[39m]\u001b[39m.\u001b[39mmax() \u001b[39m+\u001b[39m \u001b[39m1\u001b[39m\n\u001b[0;32m---> 52\u001b[0m     all_c \u001b[39m=\u001b[39m np\u001b[39m.\u001b[39;49mzeros(shape\u001b[39m=\u001b[39;49m(\u001b[39m1\u001b[39;49m,end), dtype\u001b[39m=\u001b[39;49m\u001b[39mint\u001b[39;49m)\n\u001b[1;32m     53\u001b[0m     \u001b[39mfor\u001b[39;00m i \u001b[39min\u001b[39;00m \u001b[39mrange\u001b[39m(specificc\u001b[39m.\u001b[39mshape[\u001b[39m0\u001b[39m]):\n\u001b[1;32m     54\u001b[0m         val \u001b[39m=\u001b[39m \u001b[39mint\u001b[39m(specificc[\u001b[39m'\u001b[39m\u001b[39mamount\u001b[39m\u001b[39m'\u001b[39m][i])\n",
      "\u001b[0;31mTypeError\u001b[0m: 'float' object cannot be interpreted as an integer"
     ]
    }
   ],
   "source": [
    "lax_all_c, lax_all_n, lax_all_u = calculate_num_aircrafts(specificc01, specificu01, specificn01, gamma=gamma, flight_time=np.array([[0,2],[2,0]]))\n",
    "dtla_all_c, dtla_all_n, dtla_all_u = calculate_num_aircrafts(specificc10, specificu10, specificn10, gamma=gamma, flight_time=np.array([[0,2],[2,0]]))\n",
    "all_c, all_n, all_u = calculate_num_aircrafts(specificc, specificu, specificn, gamma=gamma, flight_time=np.array([[0,2],[2,0]]))"
   ]
  },
  {
   "cell_type": "code",
   "execution_count": null,
   "metadata": {},
   "outputs": [],
   "source": []
  }
 ],
 "metadata": {
  "kernelspec": {
   "display_name": "Python 3",
   "language": "python",
   "name": "python3"
  },
  "language_info": {
   "codemirror_mode": {
    "name": "ipython",
    "version": 3
   },
   "file_extension": ".py",
   "mimetype": "text/x-python",
   "name": "python",
   "nbconvert_exporter": "python",
   "pygments_lexer": "ipython3",
   "version": "3.11.3"
  },
  "orig_nbformat": 4
 },
 "nbformat": 4,
 "nbformat_minor": 2
}
