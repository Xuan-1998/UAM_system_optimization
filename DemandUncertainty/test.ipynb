{
 "cells": [
  {
   "cell_type": "code",
   "execution_count": 249,
   "metadata": {},
   "outputs": [],
   "source": [
    "import importlib\n",
    "import UAM_Schedule\n",
    "importlib.reload(UAM_Schedule)\n",
    "import spill_op\n",
    "importlib.reload(spill_op)\n",
    "from UAM_Schedule import UAM_Schedule\n",
    "from op import number_aircrafts_lp_v2\n",
    "import pandas as pd\n",
    "import numpy as np\n",
    "import matplotlib.pyplot as plt\n",
    "from spill_op import spill_op"
   ]
  },
  {
   "cell_type": "code",
   "execution_count": 101,
   "metadata": {},
   "outputs": [],
   "source": [
    "import re\n",
    "with open(f'../output/demand_variation/fleet_op_result/alpha_7/{10}_{13}_fleetsize.txt'.format(month, day), 'r') as f:\n",
    "            fleetsize = int(float(re.search(r'\\d+(\\.\\d+)?', f.readline())[0]))"
   ]
  },
  {
   "cell_type": "code",
   "execution_count": 102,
   "metadata": {},
   "outputs": [
    {
     "data": {
      "text/plain": [
       "15"
      ]
     },
     "execution_count": 102,
     "metadata": {},
     "output_type": "execute_result"
    }
   ],
   "source": [
    "fleetsize"
   ]
  },
  {
   "cell_type": "code",
   "execution_count": 91,
   "metadata": {},
   "outputs": [],
   "source": [
    "flight_schedule = pd.read_csv('../output/demand_variation/schedule/alpha_7/10_13.csv')\n",
    "occupancy = pd.read_csv('../output/demand_variation/schedule/alpha_7/num_pax_10_13.csv')"
   ]
  },
  {
   "cell_type": "code",
   "execution_count": 103,
   "metadata": {},
   "outputs": [
    {
     "name": "stdout",
     "output_type": "stream",
     "text": [
      "Set parameter Threads to value 2\n",
      "Set parameter Method to value 2\n",
      "Set parameter MIPGap to value 0.05\n",
      "Set parameter FeasibilityTol to value 1e-07\n",
      "Gurobi Optimizer version 10.0.3 build v10.0.3rc0 (mac64[arm])\n",
      "\n",
      "CPU model: Apple M2 Pro\n",
      "Thread count: 10 physical cores, 10 logical processors, using up to 2 threads\n",
      "\n",
      "Optimize a model with 22075 rows, 346290 columns and 705764 nonzeros\n",
      "Model fingerprint: 0xa0b6b260\n",
      "Variable types: 0 continuous, 346290 integer (0 binary)\n",
      "Coefficient statistics:\n",
      "  Matrix range     [1e+00, 4e+00]\n",
      "  Objective range  [1e-05, 1e+00]\n",
      "  Bounds range     [0e+00, 0e+00]\n",
      "  RHS range        [1e+00, 2e+01]\n",
      "Presolve removed 2496 rows and 7348 columns\n",
      "Presolve time: 0.55s\n",
      "Presolved: 19579 rows, 338942 columns, 691616 nonzeros\n",
      "Variable types: 0 continuous, 338942 integer (18 binary)\n",
      "Root barrier log...\n",
      "\n",
      "Ordering time: 0.37s\n",
      "\n",
      "Barrier statistics:\n",
      " AA' NZ     : 3.653e+05\n",
      " Factor NZ  : 6.183e+06 (roughly 200 MB of memory)\n",
      " Factor Ops : 2.607e+09 (less than 1 second per iteration)\n",
      " Threads    : 2\n",
      "\n",
      "                  Objective                Residual\n",
      "Iter       Primal          Dual         Primal    Dual     Compl     Time\n",
      "   0   1.66743589e+12 -1.88145610e+13  9.75e+11 8.75e-01  1.43e+10     2s\n",
      "   1   8.63141087e+11 -1.52071688e+13  6.29e+11 1.10e+01  9.57e+09     2s\n",
      "   2   6.08904940e+11 -1.24518721e+13  3.80e+11 7.42e+00  6.00e+09     2s\n",
      "   3   4.67920477e+11 -8.66676244e+12  2.85e+11 4.04e+00  4.29e+09     2s\n",
      "   4   3.17694024e+11 -5.55231523e+12  1.88e+11 1.69e+00  2.83e+09     2s\n",
      "   5   8.94799659e+10 -1.92338428e+12  5.15e+10 1.44e-01  8.43e+08     2s\n",
      "   6   4.75912090e+09 -5.07746138e+11  2.71e+09 1.74e-12  4.55e+07     2s\n",
      "   7   5.00899580e+08 -9.58690217e+10  2.83e+08 1.91e-12  4.91e+06     2s\n",
      "   8   7.33319542e+07 -2.30453607e+10  4.12e+07 1.79e-12  7.44e+05     3s\n",
      "   9   1.40524526e+07 -8.39994516e+09  7.88e+06 2.56e-12  1.54e+05     3s\n",
      "  10   2.81570991e+06 -3.20127942e+09  1.58e+06 1.40e-12  3.51e+04     3s\n",
      "  11   5.53904095e+05 -1.05451497e+09  3.10e+05 1.42e-12  8.12e+03     3s\n",
      "  12   9.82673294e+04 -3.08480843e+08  5.44e+04 2.39e-12  1.78e+03     3s\n",
      "  13   1.45455202e+04 -7.08206047e+07  7.37e+03 1.76e-12  3.27e+02     3s\n",
      "  14   4.89972987e+03 -1.26381950e+07  1.96e+03 1.38e-12  7.14e+01     3s\n",
      "  15   3.10837362e+03 -4.28023421e+06  9.77e+02 1.89e-12  3.02e+01     3s\n",
      "  16   2.40730945e+03 -2.49217034e+06  6.09e+02 1.61e-12  1.84e+01     3s\n",
      "  17   2.01395527e+03 -1.40917658e+06  4.19e+02 1.53e-12  1.19e+01     3s\n",
      "  18   1.53344067e+03 -8.25618624e+05  2.22e+02 1.68e-12  6.59e+00     3s\n",
      "  19   1.12122720e+03 -3.07042411e+05  1.19e+02 1.84e-12  3.20e+00     3s\n",
      "  20   3.51970408e+02 -4.54929530e+04  1.90e+01 1.73e-12  4.99e-01     4s\n",
      "  21   2.27839955e+02 -1.96448091e+04  6.98e+00 1.96e-12  1.86e-01     4s\n",
      "  22   2.72502897e+02 -1.34668144e+04  4.11e+00 1.43e-12  1.11e-01     4s\n",
      "  23   3.71704156e+02 -8.78033798e+03  2.25e+00 2.06e-12  6.11e-02     4s\n",
      "  24   4.05047277e+02 -6.05872874e+03  1.55e+00 1.61e-12  3.91e-02     4s\n",
      "  25   4.52058248e+02 -3.02175012e+03  6.69e-01 1.09e-12  1.63e-02     4s\n",
      "  26   4.48017763e+02 -1.51716955e+03  1.87e-01 8.67e-13  6.77e-03     4s\n",
      "  27   4.08900265e+02 -7.71544014e+02  1.14e-01 6.65e-13  3.84e-03     4s\n",
      "  28   3.64164226e+02 -4.17453224e+02  8.18e-02 5.46e-13  2.48e-03     4s\n",
      "  29   3.11875996e+02 -3.42046639e+02  6.23e-02 5.45e-13  2.04e-03     4s\n",
      "  30   3.02344502e+02 -2.65566978e+02  5.93e-02 5.66e-13  1.77e-03     5s\n",
      "  31   2.58669545e+02 -1.98986523e+02  4.79e-02 5.40e-13  1.41e-03     5s\n",
      "  32   2.17417787e+02 -1.23678873e+02  3.83e-02 4.55e-13  1.05e-03     5s\n",
      "  33   1.81649946e+02 -9.50532236e+01  3.02e-02 4.92e-13  8.44e-04     5s\n",
      "  34   1.67828370e+02 -6.80143633e+01  2.70e-02 4.87e-13  7.19e-04     5s\n",
      "  35   1.53010487e+02 -4.97607615e+01  2.35e-02 5.82e-13  6.16e-04     5s\n",
      "  36   1.38221659e+02 -3.22716919e+01  2.00e-02 5.66e-13  5.16e-04     5s\n",
      "  37   1.21601645e+02 -1.08393380e+01  1.49e-02 5.05e-13  3.96e-04     5s\n",
      "  38   1.15334244e+02  9.07362425e+00  1.28e-02 3.71e-13  3.18e-04     5s\n",
      "  39   1.10241739e+02  2.05295377e+01  1.13e-02 3.66e-13  2.68e-04     5s\n",
      "  40   1.06407102e+02  3.01481550e+01  1.00e-02 3.39e-13  2.27e-04     5s\n",
      "  41   1.00805025e+02  3.50109778e+01  8.22e-03 3.20e-13  1.95e-04     6s\n",
      "  42   9.81159589e+01  3.80766530e+01  7.32e-03 3.73e-13  1.77e-04     6s\n",
      "  43   9.55859759e+01  4.22786896e+01  6.54e-03 3.24e-13  1.57e-04     6s\n",
      "  44   9.06803290e+01  4.69441216e+01  5.12e-03 3.41e-13  1.28e-04     6s\n",
      "  45   9.03666004e+01  4.87772009e+01  4.94e-03 4.01e-13  1.22e-04     6s\n",
      "  46   8.94103131e+01  5.40461767e+01  4.65e-03 3.23e-13  1.04e-04     6s\n",
      "  47   8.57943377e+01  5.61358604e+01  3.50e-03 3.40e-13  8.67e-05     6s\n",
      "  48   8.44236816e+01  5.88292834e+01  3.03e-03 3.34e-13  7.47e-05     6s\n",
      "  49   8.30579485e+01  6.08425743e+01  2.58e-03 3.64e-13  6.47e-05     6s\n",
      "  50   8.10938749e+01  6.26188929e+01  1.92e-03 4.01e-13  5.35e-05     6s\n",
      "  51   8.01418037e+01  6.42365362e+01  1.61e-03 3.57e-13  4.60e-05     7s\n",
      "  52   7.96796674e+01  6.53851489e+01  1.46e-03 4.18e-13  4.13e-05     7s\n",
      "  53   7.91221464e+01  6.61380630e+01  1.28e-03 4.55e-13  3.75e-05     7s\n",
      "  54   7.87227604e+01  6.70192114e+01  1.15e-03 3.92e-13  3.37e-05     7s\n",
      "  55   7.81358182e+01  6.73792609e+01  9.67e-04 4.09e-13  3.09e-05     7s\n",
      "  56   7.76403704e+01  6.84529098e+01  8.26e-04 4.32e-13  2.64e-05     7s\n",
      "  57   7.74183010e+01  6.91295447e+01  7.67e-04 4.13e-13  2.38e-05     7s\n",
      "  58   7.69363396e+01  6.96561303e+01  6.35e-04 3.92e-13  2.09e-05     7s\n",
      "  59   7.65777696e+01  7.00746449e+01  5.38e-04 4.00e-13  1.86e-05     7s\n",
      "  60   7.63468987e+01  7.04550229e+01  4.79e-04 3.91e-13  1.69e-05     7s\n",
      "  61   7.60714333e+01  7.13971687e+01  4.08e-04 3.41e-13  1.34e-05     7s\n",
      "  62   7.59416874e+01  7.16934407e+01  3.72e-04 3.95e-13  1.22e-05     8s\n",
      "  63   7.55636304e+01  7.19117271e+01  2.75e-04 4.37e-13  1.04e-05     8s\n",
      "  64   7.54107266e+01  7.21455262e+01  2.38e-04 4.47e-13  9.31e-06     8s\n",
      "  65   7.52731176e+01  7.22903674e+01  2.09e-04 4.43e-13  8.49e-06     8s\n",
      "  66   7.51879731e+01  7.26850100e+01  1.90e-04 4.04e-13  7.14e-06     8s\n",
      "  67   7.49167850e+01  7.29379267e+01  1.32e-04 4.01e-13  5.63e-06     8s\n",
      "  68   7.48317834e+01  7.31400626e+01  1.15e-04 3.38e-13  4.81e-06     8s\n",
      "  69   7.47366968e+01  7.32973376e+01  9.73e-05 3.48e-13  4.09e-06     8s\n",
      "  70   7.46553713e+01  7.34345105e+01  8.17e-05 3.68e-13  3.47e-06     8s\n",
      "  71   7.45250641e+01  7.35623927e+01  5.79e-05 3.01e-13  2.73e-06     8s\n",
      "  72   7.44698831e+01  7.36598914e+01  4.83e-05 3.11e-13  2.30e-06     8s\n",
      "  73   7.44384276e+01  7.37255887e+01  4.32e-05 3.28e-13  2.02e-06     9s\n",
      "  74   7.43949506e+01  7.38057892e+01  3.63e-05 3.01e-13  1.67e-06     9s\n",
      "  75   7.43496293e+01  7.38676906e+01  2.92e-05 3.01e-13  1.37e-06     9s\n",
      "  76   7.43098885e+01  7.39179843e+01  2.33e-05 3.23e-13  1.11e-06     9s\n",
      "  77   7.42790690e+01  7.39622520e+01  1.89e-05 3.02e-13  8.99e-07     9s\n",
      "  78   7.42351525e+01  7.39978826e+01  1.30e-05 2.92e-13  6.72e-07     9s\n",
      "  79   7.42045497e+01  7.40394888e+01  9.11e-06 2.46e-13  4.68e-07     9s\n",
      "  80   7.41904602e+01  7.40554434e+01  7.42e-06 2.64e-13  3.82e-07     9s\n",
      "  81   7.41803736e+01  7.40656868e+01  6.17e-06 3.13e-13  3.25e-07     9s\n",
      "  82   7.41715162e+01  7.40731726e+01  5.14e-06 3.38e-13  2.78e-07     9s\n",
      "  83   7.41652653e+01  7.40815126e+01  4.44e-06 3.32e-13  2.37e-07    10s\n",
      "  84   7.41580444e+01  7.40868158e+01  3.64e-06 3.22e-13  2.01e-07    10s\n",
      "  85   7.41507333e+01  7.40986229e+01  2.83e-06 2.79e-13  1.48e-07    10s\n",
      "  86   7.41438956e+01  7.41028453e+01  2.10e-06 3.02e-13  1.16e-07    10s\n",
      "  87   7.41387679e+01  7.41070177e+01  1.58e-06 3.23e-13  8.98e-08    10s\n",
      "  88   7.41349659e+01  7.41109047e+01  1.21e-06 2.59e-13  6.81e-08    10s\n",
      "  89   7.41313131e+01  7.41122388e+01  8.67e-07 2.72e-13  5.39e-08    10s\n",
      "  90   7.41297431e+01  7.41140484e+01  7.28e-07 2.57e-13  4.43e-08    10s\n",
      "  91   7.41272642e+01  7.41153081e+01  5.21e-07 2.56e-13  3.37e-08    10s\n",
      "  92   7.41263523e+01  7.41164390e+01  4.53e-07 2.78e-13  2.80e-08    10s\n",
      "  93   7.41252450e+01  7.41168301e+01  3.72e-07 2.92e-13  2.38e-08    11s\n",
      "  94   7.41241185e+01  7.41174204e+01  2.92e-07 3.03e-13  1.89e-08    11s\n",
      "  95   7.41228588e+01  7.41180468e+01  2.02e-07 2.73e-13  1.36e-08    11s\n",
      "  96   7.41220975e+01  7.41184260e+01  1.48e-07 2.85e-13  1.03e-08    11s\n",
      "  97   7.41214987e+01  7.41188204e+01  1.07e-07 2.67e-13  7.55e-09    11s\n",
      "  98   7.41209788e+01  7.41190651e+01  7.21e-08 2.63e-13  5.39e-09    11s\n",
      "  99   7.41207093e+01  7.41192872e+01  5.47e-08 2.50e-13  4.01e-09    11s\n",
      " 100   7.41204451e+01  7.41194230e+01  3.76e-08 2.43e-13  2.88e-09    11s\n",
      " 101   7.41202291e+01  7.41195301e+01  2.44e-08 2.34e-13  1.97e-09    11s\n",
      " 102   7.41200647e+01  7.41195989e+01  1.47e-08 2.37e-13  1.31e-09    12s\n",
      " 103   7.41199923e+01  7.41196731e+01  1.08e-08 2.06e-13  8.97e-10    12s\n",
      " 104   7.41199114e+01  7.41197110e+01  6.77e-09 2.08e-13  5.67e-10    12s\n",
      " 105   7.41198383e+01  7.41197230e+01  9.85e-09 2.58e-13  3.26e-10    12s\n",
      " 106   7.41198169e+01  7.41197402e+01  7.30e-09 2.38e-13  2.17e-10    12s\n",
      " 107   7.41198108e+01  7.41197568e+01  5.88e-09 2.14e-13  1.53e-10    12s\n",
      " 108   7.41198014e+01  7.41197636e+01  3.57e-09 2.48e-13  1.07e-10    12s\n",
      " 109   7.41197965e+01  7.41197710e+01  2.23e-09 2.16e-13  7.23e-11    12s\n",
      " 110   7.41197910e+01  7.41197758e+01  5.35e-09 2.05e-13  4.36e-11    12s\n",
      " 111   7.41197878e+01  7.41197783e+01  2.83e-09 2.17e-13  2.71e-11    12s\n",
      " 112   7.41197858e+01  7.41197813e+01  1.25e-09 2.34e-13  1.30e-11    12s\n",
      " 113   7.41197852e+01  7.41197828e+01  1.83e-09 1.64e-13  6.78e-12    13s\n",
      " 114   7.41197847e+01  7.41197835e+01  9.72e-10 2.32e-13  3.32e-12    13s\n",
      " 115   7.41197846e+01  7.41197836e+01  7.86e-10 2.20e-13  2.63e-12    13s\n",
      " 116   7.41197844e+01  7.41197839e+01  4.04e-10 1.89e-13  1.47e-12    13s\n",
      "\n",
      "Barrier solved model in 116 iterations and 12.87 seconds (31.49 work units)\n",
      "Optimal objective 7.41197844e+01\n",
      "\n",
      "\n",
      "Root crossover log...\n",
      "\n",
      "   12684 DPushes remaining with DInf 0.0000000e+00                13s\n",
      "       0 DPushes remaining with DInf 0.0000000e+00                13s\n",
      "\n",
      "   75399 PPushes remaining with PInf 3.2809372e-03                13s\n",
      "       0 PPushes remaining with PInf 0.0000000e+00                14s\n",
      "\n",
      "  Push phase complete: Pinf 0.0000000e+00, Dinf 3.9933727e-02     14s\n",
      "\n",
      "\n",
      "Root simplex log...\n",
      "\n",
      "Iteration    Objective       Primal Inf.    Dual Inf.      Time\n",
      "   88086    7.4119784e+01   0.000000e+00   3.983436e-02     14s\n",
      "   90079    7.4119784e+01   0.000000e+00   0.000000e+00     14s\n",
      "   90079    7.4119784e+01   0.000000e+00   0.000000e+00     14s\n",
      "\n",
      "Root relaxation: objective 7.411978e+01, 90079 iterations, 13.52 seconds (33.78 work units)\n",
      "Total elapsed time = 19.26s\n",
      "Total elapsed time = 20.45s\n",
      "\n",
      "    Nodes    |    Current Node    |     Objective Bounds      |     Work\n",
      " Expl Unexpl |  Obj  Depth IntInf | Incumbent    BestBd   Gap | It/Node Time\n",
      "\n",
      "     0     0   74.11978    0 2762          -   74.11978      -     -   22s\n",
      "\n",
      "Interrupt request received\n",
      "     0     0          -    0               -   74.11978      -     -   39s\n",
      "\n",
      "Cutting planes:\n",
      "  Gomory: 1\n",
      "  MIR: 11\n",
      "  Zero half: 1\n",
      "\n",
      "Explored 1 nodes (137878 simplex iterations) in 39.27 seconds (59.47 work units)\n",
      "Thread count was 2 (of 10 available processors)\n",
      "\n",
      "Solution count 0\n",
      "\n",
      "Solve interrupted\n",
      "Best objective -, best bound 7.411978414032e+01, gap -\n"
     ]
    },
    {
     "ename": "AttributeError",
     "evalue": "Unable to retrieve attribute 'x'",
     "output_type": "error",
     "traceback": [
      "\u001b[0;31m---------------------------------------------------------------------------\u001b[0m",
      "\u001b[0;31mAttributeError\u001b[0m                            Traceback (most recent call last)",
      "\u001b[1;32m/Users/Albert/Desktop/Supernal/UAM_system_optimization/DemandUncertainty/test.ipynb Cell 5\u001b[0m line \u001b[0;36m1\n\u001b[0;32m----> <a href='vscode-notebook-cell:/Users/Albert/Desktop/Supernal/UAM_system_optimization/DemandUncertainty/test.ipynb#Y222sZmlsZQ%3D%3D?line=0'>1</a>\u001b[0m spill_op(flight_schedule, occupancy, schedule_time_step\u001b[39m=\u001b[39m\u001b[39m288\u001b[39m, fleet_size\u001b[39m=\u001b[39m\u001b[39m12\u001b[39m, output_path\u001b[39m=\u001b[39m\u001b[39m'\u001b[39m\u001b[39m'\u001b[39m)\n",
      "File \u001b[0;32m~/Desktop/Supernal/UAM_system_optimization/DemandUncertainty/spill_op.py:137\u001b[0m, in \u001b[0;36mspill_op\u001b[0;34m(flight_schedule, occupancy, schedule_time_step, fleet_size, output_path, seat_capacity, tau, kappa, gamma, fixed_cost, variable_cost)\u001b[0m\n\u001b[1;32m    134\u001b[0m total_spill \u001b[39m=\u001b[39m sij\u001b[39m.\u001b[39msum(\u001b[39m'\u001b[39m\u001b[39m*\u001b[39m\u001b[39m'\u001b[39m, \u001b[39m'\u001b[39m\u001b[39m*\u001b[39m\u001b[39m'\u001b[39m, \u001b[39m'\u001b[39m\u001b[39m*\u001b[39m\u001b[39m'\u001b[39m)\u001b[39m.\u001b[39mgetValue() \n\u001b[1;32m    136\u001b[0m \u001b[39m# Print the total fleet size\u001b[39;00m\n\u001b[0;32m--> 137\u001b[0m \u001b[39mprint\u001b[39m(\u001b[39m'\u001b[39m\u001b[39mTotal Spill:\u001b[39m\u001b[39m'\u001b[39m, total_spill)\n\u001b[1;32m    139\u001b[0m \u001b[39m# If you want to save it to a file, you can do something like this:\u001b[39;00m\n\u001b[1;32m    140\u001b[0m \u001b[39mwith\u001b[39;00m \u001b[39mopen\u001b[39m(output_path\u001b[39m+\u001b[39m\u001b[39m'\u001b[39m\u001b[39m_fleetsize.txt\u001b[39m\u001b[39m'\u001b[39m, \u001b[39m'\u001b[39m\u001b[39mw\u001b[39m\u001b[39m'\u001b[39m) \u001b[39mas\u001b[39;00m file:\n",
      "File \u001b[0;32msrc/gurobipy/linexpr.pxi:396\u001b[0m, in \u001b[0;36mgurobipy.LinExpr.getValue\u001b[0;34m()\u001b[0m\n",
      "File \u001b[0;32msrc/gurobipy/var.pxi:125\u001b[0m, in \u001b[0;36mgurobipy.Var.__getattr__\u001b[0;34m()\u001b[0m\n",
      "File \u001b[0;32msrc/gurobipy/var.pxi:153\u001b[0m, in \u001b[0;36mgurobipy.Var.getAttr\u001b[0;34m()\u001b[0m\n",
      "File \u001b[0;32msrc/gurobipy/attrutil.pxi:100\u001b[0m, in \u001b[0;36mgurobipy.__getattr\u001b[0;34m()\u001b[0m\n",
      "\u001b[0;31mAttributeError\u001b[0m: Unable to retrieve attribute 'x'"
     ]
    }
   ],
   "source": [
    "spill_op(flight_schedule, occupancy, schedule_time_step=288, fleet_size=12, output_path='')"
   ]
  },
  {
   "cell_type": "code",
   "execution_count": 223,
   "metadata": {},
   "outputs": [],
   "source": [
    "month = 5\n",
    "day = 12\n",
    "month = month+201900\n",
    "\n",
    "lax_flight_arr = a.lax_flight[(a.lax_flight['ON_YYYYMM'] == month) & (a.lax_flight['ON_DAY'] == day) & (a.lax_flight['ARR_LOCID'] == ' LAX')]\n",
    "lax_flight_arr['time'] = lax_flight_arr['T_OOOI_ARR'].dt.hour * 60 + lax_flight_arr['T_OOOI_ARR'].dt.minute\n",
    "lax_flight_arr = lax_flight_arr.sort_values('time').reset_index(drop=True)\n",
    "lax_flight_dep = a.lax_flight[(a.lax_flight['ON_YYYYMM'] == month) & (a.lax_flight['ON_DAY'] == day) & (a.lax_flight['DEP_LOCID'] == ' LAX')]\n",
    "lax_flight_dep['time'] = lax_flight_dep['T_OAG_S_DE'].dt.hour * 60 + lax_flight_dep['T_OAG_S_DE'].dt.minute\n",
    "lax_flight_dep = lax_flight_dep.sort_values('time').reset_index(drop=True)"
   ]
  },
  {
   "cell_type": "code",
   "execution_count": 224,
   "metadata": {},
   "outputs": [],
   "source": [
    "np.random.seed(1000)\n",
    "auto_regressive_alpha = 0 \n",
    "\n",
    "yearly_arr_capacity, yearly_dep_capacity = a.yearly_capacity\n",
    "directional_demand = 1500\n",
    "# Calculate pax demand per scheduled flight\n",
    "lax_flight_arr['capacity'] = lax_flight_arr['capacity']/yearly_arr_capacity * directional_demand * 365\n",
    "lax_flight_dep['capacity'] = lax_flight_dep['capacity']/yearly_dep_capacity * directional_demand * 365\n",
    "\n",
    "lax_flight_arr = get_autoregressive_pax_count(lax_flight_arr, auto_regressive_alpha)\n",
    "lax_flight_dep = get_autoregressive_pax_count(lax_flight_dep, auto_regressive_alpha)"
   ]
  },
  {
   "cell_type": "code",
   "execution_count": 231,
   "metadata": {},
   "outputs": [
    {
     "data": {
      "text/plain": [
       "1481"
      ]
     },
     "execution_count": 231,
     "metadata": {},
     "output_type": "execute_result"
    }
   ],
   "source": [
    "lax_dtla = np.empty((1,))\n",
    "for i in range(lax_flight_arr.shape[0]):\n",
    "    num_pax = lax_flight_arr.iloc[i,1]\n",
    "    delta_t = skewnorm.rvs(3, loc=31, scale=np.sqrt(2*1.5**2), size=num_pax)\n",
    "    delta_t += lax_flight_arr.iloc[i,0]\n",
    "    lax_dtla = np.concatenate([lax_dtla, delta_t])\n",
    "lax_dtla[lax_dtla >= 1440] -= 1440\n",
    "lax_dtla = np.sort(lax_dtla)\n",
    "len(lax_dtla)\n",
    "build_schedules(lax_dtla, 5)[1].sum()"
   ]
  },
  {
   "cell_type": "code",
   "execution_count": 250,
   "metadata": {},
   "outputs": [],
   "source": [
    "a = UAM_Schedule('LAX_ind.csv', 'T_F41SCHEDULE_B43.csv')"
   ]
  },
  {
   "cell_type": "code",
   "execution_count": 253,
   "metadata": {},
   "outputs": [],
   "source": [
    "w = []\n",
    "for i in range(10):\n",
    "    d,b,c = a.get_one_day(5,12, 0.5)\n",
    "    w.append(d.shape[0])\n",
    "    "
   ]
  },
  {
   "cell_type": "code",
   "execution_count": 254,
   "metadata": {},
   "outputs": [
    {
     "data": {
      "text/plain": [
       "(array([ 0.,  0.,  0.,  0.,  0.,  0.,  0.,  0.,  0.,  0., 10.,  0.,  0.,\n",
       "         0.,  0.,  0.,  0.,  0.,  0.,  0.]),\n",
       " array([757.5 , 757.55, 757.6 , 757.65, 757.7 , 757.75, 757.8 , 757.85,\n",
       "        757.9 , 757.95, 758.  , 758.05, 758.1 , 758.15, 758.2 , 758.25,\n",
       "        758.3 , 758.35, 758.4 , 758.45, 758.5 ]),\n",
       " <BarContainer object of 20 artists>)"
      ]
     },
     "execution_count": 254,
     "metadata": {},
     "output_type": "execute_result"
    },
    {
     "data": {
      "image/png": "[encoded data removed]",
      "text/plain": [
       "<Figure size 640x480 with 1 Axes>"
      ]
     },
     "metadata": {},
     "output_type": "display_data"
    }
   ],
   "source": [
    "import matplotlib.pyplot as plt\n",
    "plt.hist(w, bins=20)"
   ]
  },
  {
   "cell_type": "code",
   "execution_count": 104,
   "metadata": {},
   "outputs": [],
   "source": [
    "month = 7\n",
    "day = 13\n",
    "month = month+201900\n",
    "\n",
    "lax_flight_arr = a.lax_flight[(a.lax_flight['ON_YYYYMM'] == month) & (a.lax_flight['ON_DAY'] == day) & (a.lax_flight['USER_CLASS'] == 'C') & (a.lax_flight['ARR_LOCID'] == ' LAX')]\n",
    "lax_flight_arr['time'] = lax_flight_arr['T_OOOI_ARR'].dt.hour * 60 + lax_flight_arr['T_OOOI_ARR'].dt.minute\n",
    "lax_flight_arr = lax_flight_arr.sort_values('time').reset_index(drop=True)\n",
    "lax_flight_dep = a.lax_flight[(a.lax_flight['ON_YYYYMM'] == month) & (a.lax_flight['ON_DAY'] == day) & (a.lax_flight['USER_CLASS'] == 'C') & (a.lax_flight['DEP_LOCID'] == ' LAX')]\n",
    "lax_flight_dep['time'] = lax_flight_dep['T_OAG_S_DE'].dt.hour * 60 + lax_flight_dep['T_OAG_S_DE'].dt.minute\n",
    "lax_flight_dep = lax_flight_dep.sort_values('time').reset_index(drop=True)"
   ]
  },
  {
   "cell_type": "code",
   "execution_count": 105,
   "metadata": {},
   "outputs": [],
   "source": [
    "yearly_arr_capacity, yearly_dep_capacity = a.yearly_capacity\n",
    "directional_demand = 1500"
   ]
  },
  {
   "cell_type": "code",
   "execution_count": 106,
   "metadata": {},
   "outputs": [],
   "source": [
    "lax_flight_arr['capacity'] = lax_flight_arr['capacity']/yearly_arr_capacity * directional_demand * 365\n",
    "lax_flight_dep['capacity'] = lax_flight_dep['capacity']/yearly_dep_capacity * directional_demand * 365"
   ]
  },
  {
   "cell_type": "code",
   "execution_count": 107,
   "metadata": {},
   "outputs": [
    {
     "data": {
      "text/plain": [
       "1212.131950719012"
      ]
     },
     "execution_count": 107,
     "metadata": {},
     "output_type": "execute_result"
    }
   ],
   "source": [
    "lax_flight_dep['capacity'].sum()"
   ]
  },
  {
   "cell_type": "code",
   "execution_count": 118,
   "metadata": {},
   "outputs": [
    {
     "data": {
      "text/plain": [
       "(50979807.0, 51263323.0)"
      ]
     },
     "execution_count": 118,
     "metadata": {},
     "output_type": "execute_result"
    }
   ],
   "source": [
    "a.yearly_capacity"
   ]
  },
  {
   "cell_type": "code",
   "execution_count": 113,
   "metadata": {},
   "outputs": [
    {
     "data": {
      "text/plain": [
       "array([202007, 201901, 201902, 201903, 201904, 201905, 201906, 201907,\n",
       "       201908, 201909, 201910, 201911, 201912, 202001, 202002, 202003,\n",
       "       202004, 202006, 202005])"
      ]
     },
     "execution_count": 113,
     "metadata": {},
     "output_type": "execute_result"
    }
   ],
   "source": [
    "a.lax_flight['DEP_YYYYMM'].unique()"
   ]
  },
  {
   "cell_type": "code",
   "execution_count": 247,
   "metadata": {},
   "outputs": [],
   "source": [
    "np.random.seed(10)"
   ]
  },
  {
   "cell_type": "code",
   "execution_count": 248,
   "metadata": {},
   "outputs": [
    {
     "data": {
      "text/plain": [
       "(        schedule        od\n",
       " 0       1.767731  LAX_DTLA\n",
       " 1       3.486903  LAX_DTLA\n",
       " 2       5.223555  LAX_DTLA\n",
       " 3      12.052038  LAX_DTLA\n",
       " 4      23.065060  LAX_DTLA\n",
       " ..           ...       ...\n",
       " 789  1411.934015  DTLA_LAX\n",
       " 790  1421.846723  DTLA_LAX\n",
       " 791  1431.684488  DTLA_LAX\n",
       " 792  1438.424998  DTLA_LAX\n",
       " 793  1440.000000  DTLA_LAX\n",
       " \n",
       " [794 rows x 2 columns],\n",
       "       passenger_id  passenger_arrival_time origin_vertiport_id  \\\n",
       " 0                0                  3761.0                DTLA   \n",
       " 1                1                  4525.0                DTLA   \n",
       " 2                2                  4652.0                DTLA   \n",
       " 3                3                  4936.0                DTLA   \n",
       " 4                4                  5361.0                DTLA   \n",
       " ...            ...                     ...                 ...   \n",
       " 3011          3011                 86249.0                 LAX   \n",
       " 3012          3012                 86284.0                 LAX   \n",
       " 3013          3013                 86285.0                 LAX   \n",
       " 3014          3014                 86293.0                 LAX   \n",
       " 3015          3015                 86324.0                 LAX   \n",
       " \n",
       "      destination_vertiport_id  \n",
       " 0                         LAX  \n",
       " 1                         LAX  \n",
       " 2                         LAX  \n",
       " 3                         LAX  \n",
       " 4                         LAX  \n",
       " ...                       ...  \n",
       " 3011                     DTLA  \n",
       " 3012                     DTLA  \n",
       " 3013                     DTLA  \n",
       " 3014                     DTLA  \n",
       " 3015                     DTLA  \n",
       " \n",
       " [3016 rows x 4 columns],\n",
       "      num_pax        od\n",
       " 0          4  LAX_DTLA\n",
       " 1          4  LAX_DTLA\n",
       " 2          4  LAX_DTLA\n",
       " 3          2  LAX_DTLA\n",
       " 4          4  LAX_DTLA\n",
       " ..       ...       ...\n",
       " 789        4  DTLA_LAX\n",
       " 790        2  DTLA_LAX\n",
       " 791        1  DTLA_LAX\n",
       " 792        2  DTLA_LAX\n",
       " 793        1  DTLA_LAX\n",
       " \n",
       " [794 rows x 2 columns])"
      ]
     },
     "execution_count": 248,
     "metadata": {},
     "output_type": "execute_result"
    }
   ],
   "source": [
    "a.get_one_day(5,12)"
   ]
  },
  {
   "cell_type": "code",
   "execution_count": null,
   "metadata": {},
   "outputs": [],
   "source": []
  }
 ],
 "metadata": {
  "kernelspec": {
   "display_name": "Python 3",
   "language": "python",
   "name": "python3"
  },
  "language_info": {
   "codemirror_mode": {
    "name": "ipython",
    "version": 3
   },
   "file_extension": ".py",
   "mimetype": "text/x-python",
   "name": "python",
   "nbconvert_exporter": "python",
   "pygments_lexer": "ipython3",
   "version": "3.9.13"
  }
 },
 "nbformat": 4,
 "nbformat_minor": 2
}
