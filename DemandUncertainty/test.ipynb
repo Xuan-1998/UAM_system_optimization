{
 "cells": [
  {
   "cell_type": "code",
   "execution_count": 5,
   "metadata": {},
   "outputs": [],
   "source": [
    "import pandas as pd\n",
    "import numpy as np\n",
    "import matplotlib.pyplot as plt\n",
    "import importlib\n",
    "import seaborn as sns\n",
    "import model.ParseLP\n",
    "importlib.reload(model.ParseLP)\n",
    "from model.ParseLP import convert2df, calculate_num_aircrafts"
   ]
  },
  {
   "cell_type": "code",
   "execution_count": 6,
   "metadata": {},
   "outputs": [],
   "source": [
    "output_file = 'testingfunction'\n",
    "specificn, specificu, specificc = convert2df(output_file)"
   ]
  },
  {
   "cell_type": "code",
   "execution_count": 7,
   "metadata": {},
   "outputs": [
    {
     "ename": "ValueError",
     "evalue": "setting an array element with a sequence. The requested array has an inhomogeneous shape after 1 dimensions. The detected shape was (23,) + inhomogeneous part.",
     "output_type": "error",
     "traceback": [
      "\u001b[0;31m---------------------------------------------------------------------------\u001b[0m",
      "\u001b[0;31mValueError\u001b[0m                                Traceback (most recent call last)",
      "\u001b[1;32m/Users/Albert/Desktop/Supernal/UAM_system_optimization/DemandUncertainty/test.ipynb Cell 3\u001b[0m line \u001b[0;36m1\n\u001b[0;32m----> <a href='vscode-notebook-cell:/Users/Albert/Desktop/Supernal/UAM_system_optimization/DemandUncertainty/test.ipynb#W2sZmlsZQ%3D%3D?line=0'>1</a>\u001b[0m schedule\u001b[39m.\u001b[39;49mget_one_day(\u001b[39m3\u001b[39;49m, \u001b[39m2\u001b[39;49m, \u001b[39m0.6\u001b[39;49m)\n",
      "File \u001b[0;32m~/Desktop/Supernal/UAM_system_optimization/DemandUncertainty/auto_regressive_demand.py:45\u001b[0m, in \u001b[0;36mUAM_Schedule.get_one_day\u001b[0;34m(self, month, day, auto_regressive)\u001b[0m\n\u001b[1;32m     42\u001b[0m \u001b[39mfor\u001b[39;00m value, idx \u001b[39min\u001b[39;00m \u001b[39menumerate\u001b[39m(dtla_lax_rate):\n\u001b[1;32m     43\u001b[0m     dtla_lax_schedule\u001b[39m.\u001b[39mappend(np\u001b[39m.\u001b[39mrandom\u001b[39m.\u001b[39muniform(idx\u001b[39m*\u001b[39m\u001b[39m60\u001b[39m, idx\u001b[39m*\u001b[39m\u001b[39m60\u001b[39m\u001b[39m+\u001b[39m\u001b[39m60\u001b[39m, size\u001b[39m=\u001b[39mvalue))\n\u001b[0;32m---> 45\u001b[0m \u001b[39mreturn\u001b[39;00m np\u001b[39m.\u001b[39marray(dtla_lax_schedule)\n",
      "\u001b[0;31mValueError\u001b[0m: setting an array element with a sequence. The requested array has an inhomogeneous shape after 1 dimensions. The detected shape was (23,) + inhomogeneous part."
     ]
    }
   ],
   "source": [
    "schedule.get_one_day(3, 2, 0.6)"
   ]
  },
  {
   "cell_type": "code",
   "execution_count": null,
   "metadata": {},
   "outputs": [],
   "source": []
  }
 ],
 "metadata": {
  "kernelspec": {
   "display_name": "Python 3",
   "language": "python",
   "name": "python3"
  },
  "language_info": {
   "codemirror_mode": {
    "name": "ipython",
    "version": 3
   },
   "file_extension": ".py",
   "mimetype": "text/x-python",
   "name": "python",
   "nbconvert_exporter": "python",
   "pygments_lexer": "ipython3",
   "version": "3.11.1"
  }
 },
 "nbformat": 4,
 "nbformat_minor": 2
}
