{
 "cells": [
  {
   "cell_type": "code",
   "execution_count": 1,
   "metadata": {},
   "outputs": [],
   "source": [
    "from gurobipy import Model, quicksum, GRB\n",
    "import importlib\n",
    "import src.topo\n",
    "importlib.reload(src.topo)\n",
    "from src.topo import ChargingNetwork\n",
    "\n",
    "import pandas as pd\n",
    "import numpy as np\n",
    "from tqdm import tqdm"
   ]
  },
  {
   "cell_type": "code",
   "execution_count": 2,
   "metadata": {},
   "outputs": [],
   "source": [
    "flight_time = np.array([[0,2,4,4,4,3],\n",
    "                        [2,0,2,3,3,4],\n",
    "                        [4,2,0,3,2,5],\n",
    "                        [4,3,3,0,2,3],\n",
    "                        [4,3,2,2,0,1],\n",
    "                        [3,4,5,3,1,0]])\n",
    "energy_consumption = flight_time * 2\n",
    "od_matrix = np.array([[0,1,1,1,1,1],\n",
    "                      [1,0,0,0,0,0],\n",
    "                      [1,0,0,0,0,0],\n",
    "                      [1,0,0,0,0,0],\n",
    "                      [1,0,0,0,0,0],\n",
    "                      [1,0,0,0,0,0]])\n"
   ]
  },
  {
   "cell_type": "code",
   "execution_count": 3,
   "metadata": {},
   "outputs": [],
   "source": [
    "cn = ChargingNetwork(vertiports=['LAX', 'DTLA', 'LGB', 'WDHL', 'ELSG', 'US'],\n",
    "                     flight_time=flight_time,\n",
    "                     energy_consumption=energy_consumption,\n",
    "                     od_matrix=od_matrix)\n",
    "nodes, supply, edges, cost, c = cn.populate_network()"
   ]
  },
  {
   "cell_type": "code",
   "execution_count": 5,
   "metadata": {},
   "outputs": [
    {
     "data": {
      "text/plain": [
       "58016"
      ]
     },
     "execution_count": 5,
     "metadata": {},
     "output_type": "execute_result"
    }
   ],
   "source": []
  },
  {
   "cell_type": "code",
   "execution_count": null,
   "metadata": {},
   "outputs": [],
   "source": []
  },
  {
   "cell_type": "code",
   "execution_count": null,
   "metadata": {},
   "outputs": [],
   "source": []
  },
  {
   "cell_type": "code",
   "execution_count": 2,
   "metadata": {},
   "outputs": [],
   "source": [
    "schedule = pd.read_csv(\"../input/schedule_5min_0612.csv\")"
   ]
  },
  {
   "cell_type": "code",
   "execution_count": 3,
   "metadata": {},
   "outputs": [],
   "source": [
    "topo = NetworkTopology(vertiports=['LAX', 'DTLA'], \n",
    "                       flight_time=np.array([[0,2],[2,0]]), \n",
    "                       energy_consumption=np.array([[0,4],[4,0]]))"
   ]
  },
  {
   "cell_type": "code",
   "execution_count": 4,
   "metadata": {},
   "outputs": [],
   "source": [
    "nodes, supply, edges, cost, c = topo.populate_network()"
   ]
  },
  {
   "cell_type": "code",
   "execution_count": 5,
   "metadata": {},
   "outputs": [],
   "source": [
    "K=32\n",
    "def get_flight_edges(i, model_param):\n",
    "    v1, v2, t = i\n",
    "    return quicksum(model_param[(v1, t, k), (v2, t+2, k-4)] for k in range(4,K+1))\n",
    " \n"
   ]
  },
  {
   "cell_type": "code",
   "execution_count": 6,
   "metadata": {},
   "outputs": [],
   "source": [
    "def get_flight_edges(i, model_param):\n",
    "    v1, v2, t = i\n",
    "    return quicksum(model_param[(v1, t, k), (v2, t+2, k-4)] for k in range(4,K))"
   ]
  },
  {
   "cell_type": "code",
   "execution_count": 7,
   "metadata": {},
   "outputs": [],
   "source": [
    "schedule['schedule'] = schedule['schedule'] // 5\n",
    "schedule['schedule'] = schedule['schedule'].astype(int)"
   ]
  },
  {
   "cell_type": "code",
   "execution_count": 8,
   "metadata": {},
   "outputs": [],
   "source": [
    "grouped_schedule = schedule.groupby(['od', 'schedule']).size().reset_index()"
   ]
  },
  {
   "cell_type": "code",
   "execution_count": 9,
   "metadata": {},
   "outputs": [],
   "source": [
    "flight_demand = {}\n",
    "od_key = {'LAX': 0, 'DTLA': 1}\n",
    "for i in range(len(grouped_schedule)):\n",
    "    od, schedule, demand = grouped_schedule.iloc[i]\n",
    "    o, d = od.split('_')\n",
    "    o = od_key[o]\n",
    "    d = od_key[d]\n",
    "    flight_demand[(o, d, schedule)] = demand"
   ]
  },
  {
   "cell_type": "code",
   "execution_count": 10,
   "metadata": {},
   "outputs": [
    {
     "name": "stdout",
     "output_type": "stream",
     "text": [
      "Set parameter Username\n",
      "Academic license - for non-commercial use only - expires 2024-04-29\n",
      "Building Flow Balance Constraints\n"
     ]
    },
    {
     "name": "stderr",
     "output_type": "stream",
     "text": [
      "100%|██████████| 19142/19142 [04:42<00:00, 67.67it/s]\n"
     ]
    },
    {
     "name": "stdout",
     "output_type": "stream",
     "text": [
      "Solving the Relaxation Problem\n"
     ]
    },
    {
     "name": "stderr",
     "output_type": "stream",
     "text": [
      "  0%|          | 1/300 [00:01<07:31,  1.51s/it]"
     ]
    },
    {
     "name": "stdout",
     "output_type": "stream",
     "text": [
      "Iteration: 0\n",
      "Primal Objective: 0.0\n",
      "Lagrangian Dual Objective: 0.0\n",
      "Total Cost: 0.0\n",
      "Source-Sink Flow: 20.0\n"
     ]
    },
    {
     "name": "stderr",
     "output_type": "stream",
     "text": [
      "  1%|          | 2/300 [00:10<28:48,  5.80s/it]"
     ]
    },
    {
     "name": "stdout",
     "output_type": "stream",
     "text": [
      "Iteration: 1\n",
      "Primal Objective: 20.0\n",
      "Lagrangian Dual Objective: -319.7999999999993\n",
      "Total Cost: -299.7999999999993\n",
      "Source-Sink Flow: 0.0\n"
     ]
    },
    {
     "name": "stderr",
     "output_type": "stream",
     "text": [
      "  1%|          | 3/300 [00:31<1:03:52, 12.90s/it]"
     ]
    },
    {
     "name": "stdout",
     "output_type": "stream",
     "text": [
      "Iteration: 2\n",
      "Primal Objective: 20.0\n",
      "Lagrangian Dual Objective: -599.6928000000012\n",
      "Total Cost: -579.6928000000012\n",
      "Source-Sink Flow: 0.0\n"
     ]
    },
    {
     "name": "stderr",
     "output_type": "stream",
     "text": [
      "  1%|▏         | 4/300 [00:43<1:02:25, 12.66s/it]"
     ]
    },
    {
     "name": "stdout",
     "output_type": "stream",
     "text": [
      "Iteration: 3\n",
      "Primal Objective: 20.0\n",
      "Lagrangian Dual Objective: -706.5307680000006\n",
      "Total Cost: -686.5307680000006\n",
      "Source-Sink Flow: 0.0\n"
     ]
    },
    {
     "name": "stderr",
     "output_type": "stream",
     "text": [
      "  2%|▏         | 5/300 [00:56<1:01:54, 12.59s/it]"
     ]
    },
    {
     "name": "stdout",
     "output_type": "stream",
     "text": [
      "Iteration: 4\n",
      "Primal Objective: 20.0\n",
      "Lagrangian Dual Objective: -760.2554035199997\n",
      "Total Cost: -740.2554035199997\n",
      "Source-Sink Flow: 0.0\n"
     ]
    },
    {
     "name": "stderr",
     "output_type": "stream",
     "text": [
      "  2%|▏         | 6/300 [01:05<56:32, 11.54s/it]  "
     ]
    },
    {
     "name": "stdout",
     "output_type": "stream",
     "text": [
      "Iteration: 5\n",
      "Primal Objective: 20.0\n",
      "Lagrangian Dual Objective: -822.5889158207989\n",
      "Total Cost: -802.5889158207989\n",
      "Source-Sink Flow: 0.0\n"
     ]
    },
    {
     "name": "stderr",
     "output_type": "stream",
     "text": [
      "  2%|▏         | 7/300 [01:13<50:32, 10.35s/it]"
     ]
    },
    {
     "name": "stdout",
     "output_type": "stream",
     "text": [
      "Iteration: 6\n",
      "Primal Objective: 20.0\n",
      "Lagrangian Dual Objective: -849.410060665728\n",
      "Total Cost: -829.410060665728\n",
      "Source-Sink Flow: 0.0\n"
     ]
    },
    {
     "name": "stderr",
     "output_type": "stream",
     "text": [
      "  3%|▎         | 8/300 [01:20<45:22,  9.32s/it]"
     ]
    },
    {
     "name": "stdout",
     "output_type": "stream",
     "text": [
      "Iteration: 7\n",
      "Primal Objective: 20.0\n",
      "Lagrangian Dual Objective: -888.9477442760209\n",
      "Total Cost: -868.9477442760209\n",
      "Source-Sink Flow: 0.0\n"
     ]
    },
    {
     "name": "stderr",
     "output_type": "stream",
     "text": [
      "  3%|▎         | 9/300 [01:28<43:09,  8.90s/it]"
     ]
    },
    {
     "name": "stdout",
     "output_type": "stream",
     "text": [
      "Iteration: 8\n",
      "Primal Objective: 20.0\n",
      "Lagrangian Dual Objective: -855.9907746901038\n",
      "Total Cost: -835.9907746901038\n",
      "Source-Sink Flow: 0.0\n"
     ]
    },
    {
     "name": "stderr",
     "output_type": "stream",
     "text": [
      "  3%|▎         | 10/300 [01:37<42:46,  8.85s/it]"
     ]
    },
    {
     "name": "stdout",
     "output_type": "stream",
     "text": [
      "Iteration: 9\n",
      "Primal Objective: 20.0\n",
      "Lagrangian Dual Objective: -813.5717665949043\n",
      "Total Cost: -793.5717665949043\n",
      "Source-Sink Flow: 0.0\n"
     ]
    },
    {
     "name": "stderr",
     "output_type": "stream",
     "text": [
      "  4%|▎         | 11/300 [01:44<40:15,  8.36s/it]"
     ]
    },
    {
     "name": "stdout",
     "output_type": "stream",
     "text": [
      "Iteration: 10\n",
      "Primal Objective: 20.0\n",
      "Lagrangian Dual Objective: -688.6219060664507\n",
      "Total Cost: -668.6219060664507\n",
      "Source-Sink Flow: 0.0\n"
     ]
    },
    {
     "name": "stderr",
     "output_type": "stream",
     "text": [
      "  4%|▍         | 12/300 [01:51<37:18,  7.77s/it]"
     ]
    },
    {
     "name": "stdout",
     "output_type": "stream",
     "text": [
      "Iteration: 11\n",
      "Primal Objective: 20.0\n",
      "Lagrangian Dual Objective: -662.4546498174387\n",
      "Total Cost: -642.4546498174387\n",
      "Source-Sink Flow: 0.0\n"
     ]
    },
    {
     "name": "stderr",
     "output_type": "stream",
     "text": [
      "  4%|▍         | 13/300 [01:59<37:21,  7.81s/it]"
     ]
    },
    {
     "name": "stdout",
     "output_type": "stream",
     "text": [
      "Iteration: 12\n",
      "Primal Objective: 20.0\n",
      "Lagrangian Dual Objective: -643.3118660990528\n",
      "Total Cost: -623.3118660990528\n",
      "Source-Sink Flow: 0.0\n"
     ]
    },
    {
     "name": "stderr",
     "output_type": "stream",
     "text": [
      "  5%|▍         | 14/300 [02:07<38:27,  8.07s/it]"
     ]
    },
    {
     "name": "stdout",
     "output_type": "stream",
     "text": [
      "Iteration: 13\n",
      "Primal Objective: 20.0\n",
      "Lagrangian Dual Objective: -577.176531451585\n",
      "Total Cost: -557.176531451585\n",
      "Source-Sink Flow: 0.0\n"
     ]
    },
    {
     "name": "stderr",
     "output_type": "stream",
     "text": [
      "  5%|▌         | 15/300 [02:15<38:19,  8.07s/it]"
     ]
    },
    {
     "name": "stdout",
     "output_type": "stream",
     "text": [
      "Iteration: 14\n",
      "Primal Objective: 20.0\n",
      "Lagrangian Dual Objective: -564.5701965626984\n",
      "Total Cost: -544.5701965626984\n",
      "Source-Sink Flow: 0.0\n"
     ]
    },
    {
     "name": "stderr",
     "output_type": "stream",
     "text": [
      "  5%|▌         | 16/300 [02:25<39:37,  8.37s/it]"
     ]
    },
    {
     "name": "stdout",
     "output_type": "stream",
     "text": [
      "Iteration: 15\n",
      "Primal Objective: 20.0\n",
      "Lagrangian Dual Objective: -525.5876733149248\n",
      "Total Cost: -505.5876733149248\n",
      "Source-Sink Flow: 0.0\n"
     ]
    },
    {
     "name": "stderr",
     "output_type": "stream",
     "text": [
      "  6%|▌         | 17/300 [02:33<40:11,  8.52s/it]"
     ]
    },
    {
     "name": "stdout",
     "output_type": "stream",
     "text": [
      "Iteration: 16\n",
      "Primal Objective: 20.0\n",
      "Lagrangian Dual Objective: -492.96360979949907\n",
      "Total Cost: -472.96360979949907\n",
      "Source-Sink Flow: 0.0\n"
     ]
    },
    {
     "name": "stderr",
     "output_type": "stream",
     "text": [
      "  6%|▌         | 18/300 [02:41<38:51,  8.27s/it]"
     ]
    },
    {
     "name": "stdout",
     "output_type": "stream",
     "text": [
      "Iteration: 17\n",
      "Primal Objective: 20.0\n",
      "Lagrangian Dual Objective: -481.9786751896637\n",
      "Total Cost: -461.9786751896637\n",
      "Source-Sink Flow: 0.0\n"
     ]
    },
    {
     "name": "stderr",
     "output_type": "stream",
     "text": [
      "  6%|▋         | 19/300 [02:49<37:36,  8.03s/it]"
     ]
    },
    {
     "name": "stdout",
     "output_type": "stream",
     "text": [
      "Iteration: 18\n",
      "Primal Objective: 20.0\n",
      "Lagrangian Dual Objective: -448.4286563403963\n",
      "Total Cost: -428.4286563403963\n",
      "Source-Sink Flow: 0.0\n"
     ]
    },
    {
     "name": "stderr",
     "output_type": "stream",
     "text": [
      "  7%|▋         | 20/300 [02:58<39:03,  8.37s/it]"
     ]
    },
    {
     "name": "stdout",
     "output_type": "stream",
     "text": [
      "Iteration: 19\n",
      "Primal Objective: 20.0\n",
      "Lagrangian Dual Objective: -423.5163404457415\n",
      "Total Cost: -403.5163404457415\n",
      "Source-Sink Flow: 0.0\n"
     ]
    },
    {
     "name": "stderr",
     "output_type": "stream",
     "text": [
      "  7%|▋         | 21/300 [03:05<37:44,  8.12s/it]"
     ]
    },
    {
     "name": "stdout",
     "output_type": "stream",
     "text": [
      "Iteration: 20\n",
      "Primal Objective: 20.0\n",
      "Lagrangian Dual Objective: -395.86106431961406\n",
      "Total Cost: -375.86106431961406\n",
      "Source-Sink Flow: 0.0\n"
     ]
    },
    {
     "name": "stderr",
     "output_type": "stream",
     "text": [
      "  7%|▋         | 22/300 [03:13<36:58,  7.98s/it]"
     ]
    },
    {
     "name": "stdout",
     "output_type": "stream",
     "text": [
      "Iteration: 21\n",
      "Primal Objective: 20.0\n",
      "Lagrangian Dual Objective: -361.2830749391273\n",
      "Total Cost: -341.2830749391273\n",
      "Source-Sink Flow: 0.0\n"
     ]
    },
    {
     "name": "stderr",
     "output_type": "stream",
     "text": [
      "  8%|▊         | 23/300 [03:21<36:18,  7.87s/it]"
     ]
    },
    {
     "name": "stdout",
     "output_type": "stream",
     "text": [
      "Iteration: 22\n",
      "Primal Objective: 20.0\n",
      "Lagrangian Dual Objective: -335.1788484853588\n",
      "Total Cost: -315.1788484853588\n",
      "Source-Sink Flow: 0.0\n"
     ]
    },
    {
     "name": "stderr",
     "output_type": "stream",
     "text": [
      "  8%|▊         | 24/300 [03:28<36:03,  7.84s/it]"
     ]
    },
    {
     "name": "stdout",
     "output_type": "stream",
     "text": [
      "Iteration: 23\n",
      "Primal Objective: 20.0\n",
      "Lagrangian Dual Objective: -308.2845553005802\n",
      "Total Cost: -288.2845553005802\n",
      "Source-Sink Flow: 0.0\n"
     ]
    },
    {
     "name": "stderr",
     "output_type": "stream",
     "text": [
      "  8%|▊         | 25/300 [03:36<35:48,  7.81s/it]"
     ]
    },
    {
     "name": "stdout",
     "output_type": "stream",
     "text": [
      "Iteration: 24\n",
      "Primal Objective: 20.0\n",
      "Lagrangian Dual Objective: -307.2486415760895\n",
      "Total Cost: -287.2486415760895\n",
      "Source-Sink Flow: 0.0\n"
     ]
    },
    {
     "name": "stderr",
     "output_type": "stream",
     "text": [
      "  9%|▊         | 26/300 [03:43<35:02,  7.67s/it]"
     ]
    },
    {
     "name": "stdout",
     "output_type": "stream",
     "text": [
      "Iteration: 25\n",
      "Primal Objective: 20.0\n",
      "Lagrangian Dual Objective: -288.8356526464019\n",
      "Total Cost: -268.8356526464019\n",
      "Source-Sink Flow: 0.0\n"
     ]
    },
    {
     "name": "stderr",
     "output_type": "stream",
     "text": [
      "  9%|▉         | 27/300 [03:52<35:49,  7.87s/it]"
     ]
    },
    {
     "name": "stdout",
     "output_type": "stream",
     "text": [
      "Iteration: 26\n",
      "Primal Objective: 20.0\n",
      "Lagrangian Dual Objective: -266.9737887599797\n",
      "Total Cost: -246.9737887599797\n",
      "Source-Sink Flow: 0.0\n"
     ]
    },
    {
     "name": "stderr",
     "output_type": "stream",
     "text": [
      "  9%|▉         | 28/300 [03:59<34:52,  7.69s/it]"
     ]
    },
    {
     "name": "stdout",
     "output_type": "stream",
     "text": [
      "Iteration: 27\n",
      "Primal Objective: 20.0\n",
      "Lagrangian Dual Objective: -263.75225491236273\n",
      "Total Cost: -243.75225491236273\n",
      "Source-Sink Flow: 0.0\n"
     ]
    },
    {
     "name": "stderr",
     "output_type": "stream",
     "text": [
      " 10%|▉         | 29/300 [04:07<35:04,  7.77s/it]"
     ]
    },
    {
     "name": "stdout",
     "output_type": "stream",
     "text": [
      "Iteration: 28\n",
      "Primal Objective: 20.0\n",
      "Lagrangian Dual Objective: -243.36875956381056\n",
      "Total Cost: -223.36875956381056\n",
      "Source-Sink Flow: 0.0\n"
     ]
    },
    {
     "name": "stderr",
     "output_type": "stream",
     "text": [
      " 10%|█         | 30/300 [04:16<36:52,  8.19s/it]"
     ]
    },
    {
     "name": "stdout",
     "output_type": "stream",
     "text": [
      "Iteration: 29\n",
      "Primal Objective: 20.0\n",
      "Lagrangian Dual Objective: -222.1920745235498\n",
      "Total Cost: -202.1920745235498\n",
      "Source-Sink Flow: 0.0\n"
     ]
    },
    {
     "name": "stderr",
     "output_type": "stream",
     "text": [
      " 10%|█         | 31/300 [04:24<36:31,  8.15s/it]"
     ]
    },
    {
     "name": "stdout",
     "output_type": "stream",
     "text": [
      "Iteration: 30\n",
      "Primal Objective: 20.0\n",
      "Lagrangian Dual Objective: -205.45484473034915\n",
      "Total Cost: -185.45484473034915\n",
      "Source-Sink Flow: 0.0\n"
     ]
    },
    {
     "name": "stderr",
     "output_type": "stream",
     "text": [
      " 11%|█         | 32/300 [04:31<34:30,  7.72s/it]"
     ]
    },
    {
     "name": "stdout",
     "output_type": "stream",
     "text": [
      "Iteration: 31\n",
      "Primal Objective: 20.0\n",
      "Lagrangian Dual Objective: -195.6795526411187\n",
      "Total Cost: -175.6795526411187\n",
      "Source-Sink Flow: 0.0\n"
     ]
    },
    {
     "name": "stderr",
     "output_type": "stream",
     "text": [
      " 11%|█         | 33/300 [04:39<35:14,  7.92s/it]"
     ]
    },
    {
     "name": "stdout",
     "output_type": "stream",
     "text": [
      "Iteration: 32\n",
      "Primal Objective: 20.0\n",
      "Lagrangian Dual Objective: -183.4762328884734\n",
      "Total Cost: -163.4762328884734\n",
      "Source-Sink Flow: 0.0\n"
     ]
    },
    {
     "name": "stderr",
     "output_type": "stream",
     "text": [
      " 11%|█▏        | 34/300 [04:48<36:06,  8.15s/it]"
     ]
    },
    {
     "name": "stdout",
     "output_type": "stream",
     "text": [
      "Iteration: 33\n",
      "Primal Objective: 20.0\n",
      "Lagrangian Dual Objective: -171.38057345294746\n",
      "Total Cost: -151.38057345294746\n",
      "Source-Sink Flow: 0.0\n"
     ]
    },
    {
     "name": "stderr",
     "output_type": "stream",
     "text": [
      " 12%|█▏        | 35/300 [04:56<36:19,  8.22s/it]"
     ]
    },
    {
     "name": "stdout",
     "output_type": "stream",
     "text": [
      "Iteration: 34\n",
      "Primal Objective: 20.0\n",
      "Lagrangian Dual Objective: -163.94961020976663\n",
      "Total Cost: -143.94961020976663\n",
      "Source-Sink Flow: 0.0\n"
     ]
    },
    {
     "name": "stderr",
     "output_type": "stream",
     "text": [
      " 12%|█▏        | 36/300 [05:04<35:49,  8.14s/it]"
     ]
    },
    {
     "name": "stdout",
     "output_type": "stream",
     "text": [
      "Iteration: 35\n",
      "Primal Objective: 20.0\n",
      "Lagrangian Dual Objective: -152.07160696780102\n",
      "Total Cost: -132.07160696780102\n",
      "Source-Sink Flow: 0.0\n"
     ]
    },
    {
     "name": "stderr",
     "output_type": "stream",
     "text": [
      " 12%|█▏        | 37/300 [05:13<36:58,  8.43s/it]"
     ]
    },
    {
     "name": "stdout",
     "output_type": "stream",
     "text": [
      "Iteration: 36\n",
      "Primal Objective: 20.0\n",
      "Lagrangian Dual Objective: -148.35901023366296\n",
      "Total Cost: -128.35901023366296\n",
      "Source-Sink Flow: 0.0\n"
     ]
    },
    {
     "name": "stderr",
     "output_type": "stream",
     "text": [
      " 13%|█▎        | 38/300 [05:21<36:21,  8.33s/it]"
     ]
    },
    {
     "name": "stdout",
     "output_type": "stream",
     "text": [
      "Iteration: 37\n",
      "Primal Objective: 20.0\n",
      "Lagrangian Dual Objective: -136.67525431239739\n",
      "Total Cost: -116.67525431239739\n",
      "Source-Sink Flow: 0.0\n"
     ]
    },
    {
     "name": "stderr",
     "output_type": "stream",
     "text": [
      " 13%|█▎        | 39/300 [05:31<37:59,  8.73s/it]"
     ]
    },
    {
     "name": "stdout",
     "output_type": "stream",
     "text": [
      "Iteration: 38\n",
      "Primal Objective: 20.0\n",
      "Lagrangian Dual Objective: -127.750629526788\n",
      "Total Cost: -107.750629526788\n",
      "Source-Sink Flow: 0.0\n"
     ]
    },
    {
     "name": "stderr",
     "output_type": "stream",
     "text": [
      " 13%|█▎        | 40/300 [05:41<39:50,  9.19s/it]"
     ]
    },
    {
     "name": "stdout",
     "output_type": "stream",
     "text": [
      "Iteration: 39\n",
      "Primal Objective: 20.0\n",
      "Lagrangian Dual Objective: -125.46249765040369\n",
      "Total Cost: -105.46249765040369\n",
      "Source-Sink Flow: 0.0\n"
     ]
    },
    {
     "name": "stderr",
     "output_type": "stream",
     "text": [
      " 14%|█▎        | 41/300 [05:51<39:50,  9.23s/it]"
     ]
    },
    {
     "name": "stdout",
     "output_type": "stream",
     "text": [
      "Iteration: 40\n",
      "Primal Objective: 20.0\n",
      "Lagrangian Dual Objective: -109.81810665770388\n",
      "Total Cost: -89.81810665770388\n",
      "Source-Sink Flow: 0.0\n"
     ]
    },
    {
     "name": "stderr",
     "output_type": "stream",
     "text": [
      " 14%|█▍        | 42/300 [05:58<37:42,  8.77s/it]"
     ]
    },
    {
     "name": "stdout",
     "output_type": "stream",
     "text": [
      "Iteration: 41\n",
      "Primal Objective: 20.0\n",
      "Lagrangian Dual Objective: -107.90402329797325\n",
      "Total Cost: -87.90402329797325\n",
      "Source-Sink Flow: 0.0\n"
     ]
    },
    {
     "name": "stderr",
     "output_type": "stream",
     "text": [
      " 14%|█▍        | 43/300 [06:07<37:20,  8.72s/it]"
     ]
    },
    {
     "name": "stdout",
     "output_type": "stream",
     "text": [
      "Iteration: 42\n",
      "Primal Objective: 20.0\n",
      "Lagrangian Dual Objective: -103.39373333272727\n",
      "Total Cost: -83.39373333272727\n",
      "Source-Sink Flow: 0.0\n"
     ]
    },
    {
     "name": "stderr",
     "output_type": "stream",
     "text": [
      " 15%|█▍        | 44/300 [06:17<38:36,  9.05s/it]"
     ]
    },
    {
     "name": "stdout",
     "output_type": "stream",
     "text": [
      "Iteration: 43\n",
      "Primal Objective: 20.0\n",
      "Lagrangian Dual Objective: -88.71374774689401\n",
      "Total Cost: -68.71374774689401\n",
      "Source-Sink Flow: 0.0\n"
     ]
    },
    {
     "name": "stderr",
     "output_type": "stream",
     "text": [
      " 15%|█▌        | 45/300 [06:25<37:31,  8.83s/it]"
     ]
    },
    {
     "name": "stdout",
     "output_type": "stream",
     "text": [
      "Iteration: 44\n",
      "Primal Objective: 20.0\n",
      "Lagrangian Dual Objective: -86.276477321277\n",
      "Total Cost: -66.276477321277\n",
      "Source-Sink Flow: 0.0\n"
     ]
    },
    {
     "name": "stderr",
     "output_type": "stream",
     "text": [
      " 15%|█▌        | 46/300 [06:34<36:53,  8.72s/it]"
     ]
    },
    {
     "name": "stdout",
     "output_type": "stream",
     "text": [
      "Iteration: 45\n",
      "Primal Objective: 20.0\n",
      "Lagrangian Dual Objective: -83.64780872356393\n",
      "Total Cost: -63.64780872356393\n",
      "Source-Sink Flow: 0.0\n"
     ]
    },
    {
     "name": "stderr",
     "output_type": "stream",
     "text": [
      " 16%|█▌        | 47/300 [06:41<35:06,  8.33s/it]"
     ]
    },
    {
     "name": "stdout",
     "output_type": "stream",
     "text": [
      "Iteration: 46\n",
      "Primal Objective: 20.0\n",
      "Lagrangian Dual Objective: -79.13974603537558\n",
      "Total Cost: -59.13974603537558\n",
      "Source-Sink Flow: 0.0\n"
     ]
    },
    {
     "name": "stderr",
     "output_type": "stream",
     "text": [
      " 16%|█▌        | 48/300 [06:49<33:54,  8.08s/it]"
     ]
    },
    {
     "name": "stdout",
     "output_type": "stream",
     "text": [
      "Iteration: 47\n",
      "Primal Objective: 20.0\n",
      "Lagrangian Dual Objective: -75.56971403631896\n",
      "Total Cost: -55.569714036318956\n",
      "Source-Sink Flow: 0.0\n"
     ]
    },
    {
     "name": "stderr",
     "output_type": "stream",
     "text": [
      " 16%|█▋        | 49/300 [06:56<33:02,  7.90s/it]"
     ]
    },
    {
     "name": "stdout",
     "output_type": "stream",
     "text": [
      "Iteration: 48\n",
      "Primal Objective: 20.0\n",
      "Lagrangian Dual Objective: -68.45087403235644\n",
      "Total Cost: -48.45087403235644\n",
      "Source-Sink Flow: 0.0\n"
     ]
    },
    {
     "name": "stderr",
     "output_type": "stream",
     "text": [
      " 17%|█▋        | 50/300 [07:04<33:10,  7.96s/it]"
     ]
    },
    {
     "name": "stdout",
     "output_type": "stream",
     "text": [
      "Iteration: 49\n",
      "Primal Objective: 20.0\n",
      "Lagrangian Dual Objective: -62.55458193590168\n",
      "Total Cost: -42.55458193590168\n",
      "Source-Sink Flow: 0.0\n"
     ]
    },
    {
     "name": "stderr",
     "output_type": "stream",
     "text": [
      " 17%|█▋        | 51/300 [07:11<32:01,  7.71s/it]"
     ]
    },
    {
     "name": "stdout",
     "output_type": "stream",
     "text": [
      "Iteration: 50\n",
      "Primal Objective: 20.0\n",
      "Lagrangian Dual Objective: -59.462299487719484\n",
      "Total Cost: -39.462299487719484\n",
      "Source-Sink Flow: 0.0\n"
     ]
    },
    {
     "name": "stderr",
     "output_type": "stream",
     "text": [
      " 17%|█▋        | 52/300 [07:20<33:06,  8.01s/it]"
     ]
    },
    {
     "name": "stdout",
     "output_type": "stream",
     "text": [
      "Iteration: 51\n",
      "Primal Objective: 20.0\n",
      "Lagrangian Dual Objective: -58.52721995027401\n",
      "Total Cost: -38.52721995027401\n",
      "Source-Sink Flow: 0.0\n"
     ]
    },
    {
     "name": "stderr",
     "output_type": "stream",
     "text": [
      " 18%|█▊        | 53/300 [07:28<32:34,  7.91s/it]"
     ]
    },
    {
     "name": "stdout",
     "output_type": "stream",
     "text": [
      "Iteration: 52\n",
      "Primal Objective: 20.0\n",
      "Lagrangian Dual Objective: -56.24861084763807\n",
      "Total Cost: -36.24861084763807\n",
      "Source-Sink Flow: 0.0\n"
     ]
    },
    {
     "name": "stderr",
     "output_type": "stream",
     "text": [
      " 18%|█▊        | 54/300 [07:37<34:09,  8.33s/it]"
     ]
    },
    {
     "name": "stdout",
     "output_type": "stream",
     "text": [
      "Iteration: 53\n",
      "Primal Objective: 20.0\n",
      "Lagrangian Dual Objective: -51.27522679136131\n",
      "Total Cost: -31.275226791361312\n",
      "Source-Sink Flow: 0.0\n"
     ]
    },
    {
     "name": "stderr",
     "output_type": "stream",
     "text": [
      " 18%|█▊        | 55/300 [07:44<32:54,  8.06s/it]"
     ]
    },
    {
     "name": "stdout",
     "output_type": "stream",
     "text": [
      "Iteration: 54\n",
      "Primal Objective: 20.0\n",
      "Lagrangian Dual Objective: -45.24453548881028\n",
      "Total Cost: -25.24453548881028\n",
      "Source-Sink Flow: 0.0\n"
     ]
    },
    {
     "name": "stderr",
     "output_type": "stream",
     "text": [
      " 19%|█▊        | 56/300 [07:52<31:39,  7.78s/it]"
     ]
    },
    {
     "name": "stdout",
     "output_type": "stream",
     "text": [
      "Iteration: 55\n",
      "Primal Objective: 20.0\n",
      "Lagrangian Dual Objective: -43.294697018908856\n",
      "Total Cost: -23.294697018908856\n",
      "Source-Sink Flow: 0.0\n"
     ]
    },
    {
     "name": "stderr",
     "output_type": "stream",
     "text": [
      " 19%|█▉        | 57/300 [08:00<32:48,  8.10s/it]"
     ]
    },
    {
     "name": "stdout",
     "output_type": "stream",
     "text": [
      "Iteration: 56\n",
      "Primal Objective: 20.0\n",
      "Lagrangian Dual Objective: -42.98165122136795\n",
      "Total Cost: -22.981651221367947\n",
      "Source-Sink Flow: 0.0\n"
     ]
    },
    {
     "name": "stderr",
     "output_type": "stream",
     "text": [
      " 19%|█▉        | 58/300 [08:07<31:12,  7.74s/it]"
     ]
    },
    {
     "name": "stdout",
     "output_type": "stream",
     "text": [
      "Iteration: 57\n",
      "Primal Objective: 20.0\n",
      "Lagrangian Dual Objective: -39.33377278457408\n",
      "Total Cost: -19.33377278457408\n",
      "Source-Sink Flow: 0.0\n"
     ]
    },
    {
     "name": "stderr",
     "output_type": "stream",
     "text": [
      " 20%|█▉        | 59/300 [08:15<31:11,  7.77s/it]"
     ]
    },
    {
     "name": "stdout",
     "output_type": "stream",
     "text": [
      "Iteration: 58\n",
      "Primal Objective: 20.0\n",
      "Lagrangian Dual Objective: -38.368171890334374\n",
      "Total Cost: -18.368171890334374\n",
      "Source-Sink Flow: 0.0\n"
     ]
    },
    {
     "name": "stderr",
     "output_type": "stream",
     "text": [
      " 20%|██        | 60/300 [08:23<31:24,  7.85s/it]"
     ]
    },
    {
     "name": "stdout",
     "output_type": "stream",
     "text": [
      "Iteration: 59\n",
      "Primal Objective: 20.0\n",
      "Lagrangian Dual Objective: -36.38406996106577\n",
      "Total Cost: -16.38406996106577\n",
      "Source-Sink Flow: 0.0\n"
     ]
    },
    {
     "name": "stderr",
     "output_type": "stream",
     "text": [
      " 20%|██        | 61/300 [08:32<32:24,  8.14s/it]"
     ]
    },
    {
     "name": "stdout",
     "output_type": "stream",
     "text": [
      "Iteration: 60\n",
      "Primal Objective: 20.0\n",
      "Lagrangian Dual Objective: -32.00835843569915\n",
      "Total Cost: -12.00835843569915\n",
      "Source-Sink Flow: 0.0\n"
     ]
    },
    {
     "name": "stderr",
     "output_type": "stream",
     "text": [
      " 21%|██        | 62/300 [08:39<30:55,  7.80s/it]"
     ]
    },
    {
     "name": "stdout",
     "output_type": "stream",
     "text": [
      "Iteration: 61\n",
      "Primal Objective: 20.0\n",
      "Lagrangian Dual Objective: -31.21624184130441\n",
      "Total Cost: -11.21624184130441\n",
      "Source-Sink Flow: 0.0\n"
     ]
    },
    {
     "name": "stderr",
     "output_type": "stream",
     "text": [
      " 21%|██        | 63/300 [08:47<30:58,  7.84s/it]"
     ]
    },
    {
     "name": "stdout",
     "output_type": "stream",
     "text": [
      "Iteration: 62\n",
      "Primal Objective: 20.0\n",
      "Lagrangian Dual Objective: -28.525355306932813\n",
      "Total Cost: -8.525355306932813\n",
      "Source-Sink Flow: 0.0\n"
     ]
    },
    {
     "name": "stderr",
     "output_type": "stream",
     "text": [
      " 21%|██▏       | 64/300 [08:54<30:06,  7.65s/it]"
     ]
    },
    {
     "name": "stdout",
     "output_type": "stream",
     "text": [
      "Iteration: 63\n",
      "Primal Objective: 20.0\n",
      "Lagrangian Dual Objective: -27.869821406251514\n",
      "Total Cost: -7.869821406251514\n",
      "Source-Sink Flow: 0.0\n"
     ]
    },
    {
     "name": "stderr",
     "output_type": "stream",
     "text": [
      " 22%|██▏       | 65/300 [09:03<31:16,  7.99s/it]"
     ]
    },
    {
     "name": "stdout",
     "output_type": "stream",
     "text": [
      "Iteration: 64\n",
      "Primal Objective: 20.0\n",
      "Lagrangian Dual Objective: -25.5434445761091\n",
      "Total Cost: -5.543444576109099\n",
      "Source-Sink Flow: 0.0\n"
     ]
    },
    {
     "name": "stderr",
     "output_type": "stream",
     "text": [
      " 22%|██▏       | 66/300 [09:10<29:57,  7.68s/it]"
     ]
    },
    {
     "name": "stdout",
     "output_type": "stream",
     "text": [
      "Iteration: 65\n",
      "Primal Objective: 20.0\n",
      "Lagrangian Dual Objective: -24.421491440632096\n",
      "Total Cost: -4.421491440632096\n",
      "Source-Sink Flow: 0.0\n"
     ]
    },
    {
     "name": "stderr",
     "output_type": "stream",
     "text": [
      " 22%|██▏       | 67/300 [09:18<30:36,  7.88s/it]"
     ]
    },
    {
     "name": "stdout",
     "output_type": "stream",
     "text": [
      "Iteration: 66\n",
      "Primal Objective: 20.0\n",
      "Lagrangian Dual Objective: -21.642100478180527\n",
      "Total Cost: -1.6421004781805273\n",
      "Source-Sink Flow: 0.0\n"
     ]
    },
    {
     "name": "stderr",
     "output_type": "stream",
     "text": [
      " 23%|██▎       | 68/300 [09:26<30:36,  7.92s/it]"
     ]
    },
    {
     "name": "stdout",
     "output_type": "stream",
     "text": [
      "Iteration: 67\n",
      "Primal Objective: 20.0\n",
      "Lagrangian Dual Objective: -20.32997854656572\n",
      "Total Cost: -0.32997854656571945\n",
      "Source-Sink Flow: 0.0\n"
     ]
    },
    {
     "name": "stderr",
     "output_type": "stream",
     "text": [
      " 23%|██▎       | 69/300 [09:34<30:06,  7.82s/it]"
     ]
    },
    {
     "name": "stdout",
     "output_type": "stream",
     "text": [
      "Iteration: 68\n",
      "Primal Objective: 20.0\n",
      "Lagrangian Dual Objective: -20.39858809053402\n",
      "Total Cost: -0.39858809053401956\n",
      "Source-Sink Flow: 0.0\n"
     ]
    },
    {
     "name": "stderr",
     "output_type": "stream",
     "text": [
      " 23%|██▎       | 70/300 [09:41<29:30,  7.70s/it]"
     ]
    },
    {
     "name": "stdout",
     "output_type": "stream",
     "text": [
      "Iteration: 69\n",
      "Primal Objective: 20.0\n",
      "Lagrangian Dual Objective: -19.833280403808168\n",
      "Total Cost: 0.1667195961918324\n",
      "Source-Sink Flow: 0.0\n"
     ]
    },
    {
     "name": "stderr",
     "output_type": "stream",
     "text": [
      " 24%|██▎       | 71/300 [09:50<31:02,  8.13s/it]"
     ]
    },
    {
     "name": "stdout",
     "output_type": "stream",
     "text": [
      "Iteration: 70\n",
      "Primal Objective: 20.0\n",
      "Lagrangian Dual Objective: -16.810419280361838\n",
      "Total Cost: 3.189580719638162\n",
      "Source-Sink Flow: 0.0\n"
     ]
    },
    {
     "name": "stderr",
     "output_type": "stream",
     "text": [
      " 24%|██▍       | 72/300 [09:59<30:58,  8.15s/it]"
     ]
    },
    {
     "name": "stdout",
     "output_type": "stream",
     "text": [
      "Iteration: 71\n",
      "Primal Objective: 20.0\n",
      "Lagrangian Dual Objective: -17.34472351271861\n",
      "Total Cost: 2.655276487281391\n",
      "Source-Sink Flow: 0.0\n"
     ]
    },
    {
     "name": "stderr",
     "output_type": "stream",
     "text": [
      " 24%|██▍       | 73/300 [10:06<30:20,  8.02s/it]"
     ]
    },
    {
     "name": "stdout",
     "output_type": "stream",
     "text": [
      "Iteration: 72\n",
      "Primal Objective: 20.0\n",
      "Lagrangian Dual Objective: -15.939514030484903\n",
      "Total Cost: 4.060485969515097\n",
      "Source-Sink Flow: 0.0\n"
     ]
    },
    {
     "name": "stderr",
     "output_type": "stream",
     "text": [
      " 25%|██▍       | 74/300 [10:15<30:28,  8.09s/it]"
     ]
    },
    {
     "name": "stdout",
     "output_type": "stream",
     "text": [
      "Iteration: 73\n",
      "Primal Objective: 0.0\n",
      "Lagrangian Dual Objective: 4.814526611209839\n",
      "Total Cost: 4.814526611209839\n",
      "Source-Sink Flow: 20.0\n"
     ]
    },
    {
     "name": "stderr",
     "output_type": "stream",
     "text": [
      " 25%|██▌       | 75/300 [10:17<23:27,  6.26s/it]"
     ]
    },
    {
     "name": "stdout",
     "output_type": "stream",
     "text": [
      "Iteration: 74\n",
      "Primal Objective: 20.0\n",
      "Lagrangian Dual Objective: -17.226248314007012\n",
      "Total Cost: 2.7737516859929876\n",
      "Source-Sink Flow: 0.0\n"
     ]
    },
    {
     "name": "stderr",
     "output_type": "stream",
     "text": [
      " 25%|██▌       | 76/300 [10:24<24:16,  6.50s/it]"
     ]
    },
    {
     "name": "stdout",
     "output_type": "stream",
     "text": [
      "Iteration: 75\n",
      "Primal Objective: 20.0\n",
      "Lagrangian Dual Objective: -15.694281536340299\n",
      "Total Cost: 4.3057184636597015\n",
      "Source-Sink Flow: 0.0\n"
     ]
    },
    {
     "name": "stderr",
     "output_type": "stream",
     "text": [
      " 26%|██▌       | 77/300 [10:31<25:33,  6.88s/it]"
     ]
    },
    {
     "name": "stdout",
     "output_type": "stream",
     "text": [
      "Iteration: 76\n",
      "Primal Objective: 20.0\n",
      "Lagrangian Dual Objective: -14.998607623941382\n",
      "Total Cost: 5.001392376058618\n",
      "Source-Sink Flow: 0.0\n"
     ]
    },
    {
     "name": "stderr",
     "output_type": "stream",
     "text": [
      " 26%|██▌       | 78/300 [10:39<26:00,  7.03s/it]"
     ]
    },
    {
     "name": "stdout",
     "output_type": "stream",
     "text": [
      "Iteration: 77\n",
      "Primal Objective: 0.0\n",
      "Lagrangian Dual Objective: 4.552344247407304\n",
      "Total Cost: 4.552344247407304\n",
      "Source-Sink Flow: 20.0\n"
     ]
    },
    {
     "name": "stderr",
     "output_type": "stream",
     "text": [
      " 26%|██▋       | 79/300 [10:41<20:10,  5.48s/it]"
     ]
    },
    {
     "name": "stdout",
     "output_type": "stream",
     "text": [
      "Iteration: 78\n",
      "Primal Objective: 20.0\n",
      "Lagrangian Dual Objective: -15.732328484846827\n",
      "Total Cost: 4.2676715151531734\n",
      "Source-Sink Flow: 0.0\n"
     ]
    },
    {
     "name": "stderr",
     "output_type": "stream",
     "text": [
      " 27%|██▋       | 80/300 [10:47<21:18,  5.81s/it]"
     ]
    },
    {
     "name": "stdout",
     "output_type": "stream",
     "text": [
      "Iteration: 79\n",
      "Primal Objective: 0.0\n",
      "Lagrangian Dual Objective: 5.222984051102628\n",
      "Total Cost: 5.222984051102628\n",
      "Source-Sink Flow: 20.0\n"
     ]
    },
    {
     "name": "stderr",
     "output_type": "stream",
     "text": [
      " 27%|██▋       | 81/300 [10:49<16:21,  4.48s/it]"
     ]
    },
    {
     "name": "stdout",
     "output_type": "stream",
     "text": [
      "Iteration: 80\n",
      "Primal Objective: 20.0\n",
      "Lagrangian Dual Objective: -15.685929646771253\n",
      "Total Cost: 4.314070353228747\n",
      "Source-Sink Flow: 0.0\n"
     ]
    },
    {
     "name": "stderr",
     "output_type": "stream",
     "text": [
      " 27%|██▋       | 82/300 [10:56<19:03,  5.25s/it]"
     ]
    },
    {
     "name": "stdout",
     "output_type": "stream",
     "text": [
      "Iteration: 81\n",
      "Primal Objective: 20.0\n",
      "Lagrangian Dual Objective: -14.88644406665048\n",
      "Total Cost: 5.11355593334952\n",
      "Source-Sink Flow: 0.0\n"
     ]
    },
    {
     "name": "stderr",
     "output_type": "stream",
     "text": [
      " 28%|██▊       | 83/300 [11:02<19:53,  5.50s/it]"
     ]
    },
    {
     "name": "stdout",
     "output_type": "stream",
     "text": [
      "Iteration: 82\n",
      "Primal Objective: 0.0\n",
      "Lagrangian Dual Objective: 5.039752874750102\n",
      "Total Cost: 5.039752874750102\n",
      "Source-Sink Flow: 20.0\n"
     ]
    },
    {
     "name": "stderr",
     "output_type": "stream",
     "text": [
      " 28%|██▊       | 84/300 [11:04<16:04,  4.47s/it]"
     ]
    },
    {
     "name": "stdout",
     "output_type": "stream",
     "text": [
      "Iteration: 83\n",
      "Primal Objective: 20.0\n",
      "Lagrangian Dual Objective: -15.21642240144237\n",
      "Total Cost: 4.783577598557629\n",
      "Source-Sink Flow: 0.0\n"
     ]
    },
    {
     "name": "stderr",
     "output_type": "stream",
     "text": [
      " 28%|██▊       | 85/300 [11:10<17:53,  5.00s/it]"
     ]
    },
    {
     "name": "stdout",
     "output_type": "stream",
     "text": [
      "Iteration: 84\n",
      "Primal Objective: 0.0\n",
      "Lagrangian Dual Objective: 5.331426288067248\n",
      "Total Cost: 5.331426288067248\n",
      "Source-Sink Flow: 20.0\n"
     ]
    },
    {
     "name": "stderr",
     "output_type": "stream",
     "text": [
      " 29%|██▊       | 86/300 [11:12<14:39,  4.11s/it]"
     ]
    },
    {
     "name": "stdout",
     "output_type": "stream",
     "text": [
      "Iteration: 85\n",
      "Primal Objective: 20.0\n",
      "Lagrangian Dual Objective: -14.262581815770805\n",
      "Total Cost: 5.737418184229195\n",
      "Source-Sink Flow: 0.0\n"
     ]
    },
    {
     "name": "stderr",
     "output_type": "stream",
     "text": [
      " 29%|██▉       | 87/300 [11:18<17:00,  4.79s/it]"
     ]
    },
    {
     "name": "stdout",
     "output_type": "stream",
     "text": [
      "Iteration: 86\n",
      "Primal Objective: 0.0\n",
      "Lagrangian Dual Objective: 5.58045030679093\n",
      "Total Cost: 5.58045030679093\n",
      "Source-Sink Flow: 20.0\n"
     ]
    },
    {
     "name": "stderr",
     "output_type": "stream",
     "text": [
      " 29%|██▉       | 88/300 [11:20<13:51,  3.92s/it]"
     ]
    },
    {
     "name": "stdout",
     "output_type": "stream",
     "text": [
      "Iteration: 87\n",
      "Primal Objective: 20.0\n",
      "Lagrangian Dual Objective: -14.324580561293446\n",
      "Total Cost: 5.6754194387065535\n",
      "Source-Sink Flow: 0.0\n"
     ]
    },
    {
     "name": "stderr",
     "output_type": "stream",
     "text": [
      " 30%|██▉       | 89/300 [11:26<16:10,  4.60s/it]"
     ]
    },
    {
     "name": "stdout",
     "output_type": "stream",
     "text": [
      "Iteration: 88\n",
      "Primal Objective: 0.0\n",
      "Lagrangian Dual Objective: 5.653375098445976\n",
      "Total Cost: 5.653375098445976\n",
      "Source-Sink Flow: 20.0\n"
     ]
    },
    {
     "name": "stderr",
     "output_type": "stream",
     "text": [
      " 30%|███       | 90/300 [11:27<12:18,  3.52s/it]"
     ]
    },
    {
     "name": "stdout",
     "output_type": "stream",
     "text": [
      "Iteration: 89\n",
      "Primal Objective: 0.0\n",
      "Lagrangian Dual Objective: 6.438330524076406\n",
      "Total Cost: 6.438330524076406\n",
      "Source-Sink Flow: 20.0\n"
     ]
    },
    {
     "name": "stderr",
     "output_type": "stream",
     "text": [
      " 30%|███       | 91/300 [11:29<10:13,  2.93s/it]"
     ]
    },
    {
     "name": "stdout",
     "output_type": "stream",
     "text": [
      "Iteration: 90\n",
      "Primal Objective: 20.0\n",
      "Lagrangian Dual Objective: -13.951507929049505\n",
      "Total Cost: 6.048492070950495\n",
      "Source-Sink Flow: 0.0\n"
     ]
    },
    {
     "name": "stderr",
     "output_type": "stream",
     "text": [
      " 31%|███       | 92/300 [11:34<11:55,  3.44s/it]"
     ]
    },
    {
     "name": "stdout",
     "output_type": "stream",
     "text": [
      "Iteration: 91\n",
      "Primal Objective: 0.0\n",
      "Lagrangian Dual Objective: 6.476621311140214\n",
      "Total Cost: 6.476621311140214\n",
      "Source-Sink Flow: 20.0\n"
     ]
    },
    {
     "name": "stderr",
     "output_type": "stream",
     "text": [
      " 31%|███       | 93/300 [11:35<09:44,  2.83s/it]"
     ]
    },
    {
     "name": "stdout",
     "output_type": "stream",
     "text": [
      "Iteration: 92\n",
      "Primal Objective: 20.0\n",
      "Lagrangian Dual Objective: -13.37345967413414\n",
      "Total Cost: 6.626540325865861\n",
      "Source-Sink Flow: 0.0\n"
     ]
    },
    {
     "name": "stderr",
     "output_type": "stream",
     "text": [
      " 31%|███▏      | 94/300 [11:40<11:43,  3.42s/it]"
     ]
    },
    {
     "name": "stdout",
     "output_type": "stream",
     "text": [
      "Iteration: 93\n",
      "Primal Objective: 0.0\n",
      "Lagrangian Dual Objective: 6.3757970586313\n",
      "Total Cost: 6.3757970586313\n",
      "Source-Sink Flow: 20.0\n"
     ]
    },
    {
     "name": "stderr",
     "output_type": "stream",
     "text": [
      " 32%|███▏      | 95/300 [11:41<09:41,  2.84s/it]"
     ]
    },
    {
     "name": "stdout",
     "output_type": "stream",
     "text": [
      "Iteration: 94\n",
      "Primal Objective: 0.0\n",
      "Lagrangian Dual Objective: 6.9518790029061694\n",
      "Total Cost: 6.9518790029061694\n",
      "Source-Sink Flow: 20.0\n"
     ]
    },
    {
     "name": "stderr",
     "output_type": "stream",
     "text": [
      " 32%|███▏      | 96/300 [11:43<08:31,  2.51s/it]"
     ]
    },
    {
     "name": "stdout",
     "output_type": "stream",
     "text": [
      "Iteration: 95\n",
      "Primal Objective: 20.0\n",
      "Lagrangian Dual Objective: -12.894763460764409\n",
      "Total Cost: 7.105236539235591\n",
      "Source-Sink Flow: 0.0\n"
     ]
    },
    {
     "name": "stderr",
     "output_type": "stream",
     "text": [
      " 32%|███▏      | 97/300 [11:47<09:39,  2.85s/it]"
     ]
    },
    {
     "name": "stdout",
     "output_type": "stream",
     "text": [
      "Iteration: 96\n",
      "Primal Objective: 0.0\n",
      "Lagrangian Dual Objective: 6.871169985270822\n",
      "Total Cost: 6.871169985270822\n",
      "Source-Sink Flow: 20.0\n"
     ]
    },
    {
     "name": "stderr",
     "output_type": "stream",
     "text": [
      " 33%|███▎      | 98/300 [11:48<08:10,  2.43s/it]"
     ]
    },
    {
     "name": "stdout",
     "output_type": "stream",
     "text": [
      "Iteration: 97\n",
      "Primal Objective: 20.0\n",
      "Lagrangian Dual Objective: -12.695899097379515\n",
      "Total Cost: 7.304100902620485\n",
      "Source-Sink Flow: 0.0\n"
     ]
    },
    {
     "name": "stderr",
     "output_type": "stream",
     "text": [
      " 33%|███▎      | 99/300 [11:52<09:28,  2.83s/it]"
     ]
    },
    {
     "name": "stdout",
     "output_type": "stream",
     "text": [
      "Iteration: 98\n",
      "Primal Objective: 0.0\n",
      "Lagrangian Dual Objective: 6.864867558523742\n",
      "Total Cost: 6.864867558523742\n",
      "Source-Sink Flow: 20.0\n"
     ]
    },
    {
     "name": "stderr",
     "output_type": "stream",
     "text": [
      " 33%|███▎      | 100/300 [11:53<07:39,  2.30s/it]"
     ]
    },
    {
     "name": "stdout",
     "output_type": "stream",
     "text": [
      "Iteration: 99\n",
      "Primal Objective: 0.0\n",
      "Lagrangian Dual Objective: 7.287656414659081\n",
      "Total Cost: 7.287656414659081\n",
      "Source-Sink Flow: 20.0\n"
     ]
    },
    {
     "name": "stderr",
     "output_type": "stream",
     "text": [
      " 34%|███▎      | 101/300 [11:54<06:14,  1.88s/it]"
     ]
    },
    {
     "name": "stdout",
     "output_type": "stream",
     "text": [
      "Iteration: 100\n",
      "Primal Objective: 0.0\n",
      "Lagrangian Dual Objective: 7.685077939426304\n",
      "Total Cost: 7.685077939426304\n",
      "Source-Sink Flow: 20.0\n"
     ]
    },
    {
     "name": "stderr",
     "output_type": "stream",
     "text": [
      " 34%|███▍      | 102/300 [11:56<06:04,  1.84s/it]"
     ]
    },
    {
     "name": "stdout",
     "output_type": "stream",
     "text": [
      "Iteration: 101\n",
      "Primal Objective: 20.0\n",
      "Lagrangian Dual Objective: -12.403576776053937\n",
      "Total Cost: 7.596423223946063\n",
      "Source-Sink Flow: 0.0\n"
     ]
    },
    {
     "name": "stderr",
     "output_type": "stream",
     "text": [
      " 34%|███▍      | 103/300 [11:58<06:47,  2.07s/it]"
     ]
    },
    {
     "name": "stdout",
     "output_type": "stream",
     "text": [
      "Iteration: 102\n",
      "Primal Objective: 0.0\n",
      "Lagrangian Dual Objective: 7.699207538348501\n",
      "Total Cost: 7.699207538348501\n",
      "Source-Sink Flow: 20.0\n"
     ]
    },
    {
     "name": "stderr",
     "output_type": "stream",
     "text": [
      " 35%|███▍      | 104/300 [12:00<06:08,  1.88s/it]"
     ]
    },
    {
     "name": "stdout",
     "output_type": "stream",
     "text": [
      "Iteration: 103\n",
      "Primal Objective: 20.0\n",
      "Lagrangian Dual Objective: -12.489176360339668\n",
      "Total Cost: 7.510823639660332\n",
      "Source-Sink Flow: 0.0\n"
     ]
    },
    {
     "name": "stderr",
     "output_type": "stream",
     "text": [
      " 35%|███▌      | 105/300 [12:04<08:09,  2.51s/it]"
     ]
    },
    {
     "name": "stdout",
     "output_type": "stream",
     "text": [
      "Iteration: 104\n",
      "Primal Objective: 0.0\n",
      "Lagrangian Dual Objective: 7.609868754457361\n",
      "Total Cost: 7.609868754457361\n",
      "Source-Sink Flow: 20.0\n"
     ]
    },
    {
     "name": "stderr",
     "output_type": "stream",
     "text": [
      " 35%|███▌      | 106/300 [12:05<06:34,  2.04s/it]"
     ]
    },
    {
     "name": "stdout",
     "output_type": "stream",
     "text": [
      "Iteration: 105\n",
      "Primal Objective: 0.0\n",
      "Lagrangian Dual Objective: 7.901538010072356\n",
      "Total Cost: 7.901538010072356\n",
      "Source-Sink Flow: 20.0\n"
     ]
    },
    {
     "name": "stderr",
     "output_type": "stream",
     "text": [
      " 36%|███▌      | 107/300 [12:05<05:23,  1.68s/it]"
     ]
    },
    {
     "name": "stdout",
     "output_type": "stream",
     "text": [
      "Iteration: 106\n",
      "Primal Objective: 0.0\n",
      "Lagrangian Dual Objective: 8.175707110350455\n",
      "Total Cost: 8.175707110350455\n",
      "Source-Sink Flow: 20.0\n"
     ]
    },
    {
     "name": "stderr",
     "output_type": "stream",
     "text": [
      " 36%|███▌      | 108/300 [12:07<04:55,  1.54s/it]"
     ]
    },
    {
     "name": "stdout",
     "output_type": "stream",
     "text": [
      "Iteration: 107\n",
      "Primal Objective: 20.0\n",
      "Lagrangian Dual Objective: -12.07780801929072\n",
      "Total Cost: 7.922191980709281\n",
      "Source-Sink Flow: 0.0\n"
     ]
    },
    {
     "name": "stderr",
     "output_type": "stream",
     "text": [
      " 36%|███▋      | 109/300 [12:10<06:33,  2.06s/it]"
     ]
    },
    {
     "name": "stdout",
     "output_type": "stream",
     "text": [
      "Iteration: 108\n",
      "Primal Objective: 0.0\n",
      "Lagrangian Dual Objective: 8.13211409768123\n",
      "Total Cost: 8.13211409768123\n",
      "Source-Sink Flow: 20.0\n"
     ]
    },
    {
     "name": "stderr",
     "output_type": "stream",
     "text": [
      " 37%|███▋      | 110/300 [12:11<05:25,  1.72s/it]"
     ]
    },
    {
     "name": "stdout",
     "output_type": "stream",
     "text": [
      "Iteration: 109\n",
      "Primal Objective: 0.0\n",
      "Lagrangian Dual Objective: 8.35983456566662\n",
      "Total Cost: 8.35983456566662\n",
      "Source-Sink Flow: 20.0\n"
     ]
    },
    {
     "name": "stderr",
     "output_type": "stream",
     "text": [
      " 37%|███▋      | 111/300 [12:12<04:52,  1.55s/it]"
     ]
    },
    {
     "name": "stdout",
     "output_type": "stream",
     "text": [
      "Iteration: 110\n",
      "Primal Objective: 20.0\n",
      "Lagrangian Dual Objective: -11.75115026358793\n",
      "Total Cost: 8.24884973641207\n",
      "Source-Sink Flow: 0.0\n"
     ]
    },
    {
     "name": "stderr",
     "output_type": "stream",
     "text": [
      " 37%|███▋      | 112/300 [12:15<05:47,  1.85s/it]"
     ]
    },
    {
     "name": "stdout",
     "output_type": "stream",
     "text": [
      "Iteration: 111\n",
      "Primal Objective: 0.0\n",
      "Lagrangian Dual Objective: 8.324562743419568\n",
      "Total Cost: 8.324562743419568\n",
      "Source-Sink Flow: 20.0\n"
     ]
    },
    {
     "name": "stderr",
     "output_type": "stream",
     "text": [
      " 38%|███▊      | 113/300 [12:15<04:52,  1.56s/it]"
     ]
    },
    {
     "name": "stdout",
     "output_type": "stream",
     "text": [
      "Iteration: 112\n",
      "Primal Objective: 0.0\n",
      "Lagrangian Dual Objective: 8.513703720600727\n",
      "Total Cost: 8.513703720600727\n",
      "Source-Sink Flow: 20.0\n"
     ]
    },
    {
     "name": "stderr",
     "output_type": "stream",
     "text": [
      " 38%|███▊      | 114/300 [12:16<04:20,  1.40s/it]"
     ]
    },
    {
     "name": "stdout",
     "output_type": "stream",
     "text": [
      "Iteration: 113\n",
      "Primal Objective: 20.0\n",
      "Lagrangian Dual Objective: -11.68584363193368\n",
      "Total Cost: 8.31415636806632\n",
      "Source-Sink Flow: 0.0\n"
     ]
    },
    {
     "name": "stderr",
     "output_type": "stream",
     "text": [
      " 38%|███▊      | 115/300 [12:19<05:26,  1.76s/it]"
     ]
    },
    {
     "name": "stdout",
     "output_type": "stream",
     "text": [
      "Iteration: 114\n",
      "Primal Objective: 0.0\n",
      "Lagrangian Dual Objective: 8.4613551548742\n",
      "Total Cost: 8.4613551548742\n",
      "Source-Sink Flow: 20.0\n"
     ]
    },
    {
     "name": "stderr",
     "output_type": "stream",
     "text": [
      " 39%|███▊      | 116/300 [12:20<04:36,  1.50s/it]"
     ]
    },
    {
     "name": "stdout",
     "output_type": "stream",
     "text": [
      "Iteration: 115\n",
      "Primal Objective: 0.0\n",
      "Lagrangian Dual Objective: 8.618452624265256\n",
      "Total Cost: 8.618452624265256\n",
      "Source-Sink Flow: 20.0\n"
     ]
    },
    {
     "name": "stderr",
     "output_type": "stream",
     "text": [
      " 39%|███▉      | 117/300 [12:21<04:19,  1.42s/it]"
     ]
    },
    {
     "name": "stdout",
     "output_type": "stream",
     "text": [
      "Iteration: 116\n",
      "Primal Objective: 20.0\n",
      "Lagrangian Dual Objective: -11.343845892002891\n",
      "Total Cost: 8.656154107997109\n",
      "Source-Sink Flow: 0.0\n"
     ]
    },
    {
     "name": "stderr",
     "output_type": "stream",
     "text": [
      " 39%|███▉      | 118/300 [12:24<05:30,  1.81s/it]"
     ]
    },
    {
     "name": "stdout",
     "output_type": "stream",
     "text": [
      "Iteration: 117\n",
      "Primal Objective: 0.0\n",
      "Lagrangian Dual Objective: 8.58140905218451\n",
      "Total Cost: 8.58140905218451\n",
      "Source-Sink Flow: 20.0\n"
     ]
    },
    {
     "name": "stderr",
     "output_type": "stream",
     "text": [
      " 40%|███▉      | 119/300 [12:25<04:35,  1.52s/it]"
     ]
    },
    {
     "name": "stdout",
     "output_type": "stream",
     "text": [
      "Iteration: 118\n",
      "Primal Objective: 0.0\n",
      "Lagrangian Dual Objective: 8.711891696701192\n",
      "Total Cost: 8.711891696701192\n",
      "Source-Sink Flow: 20.0\n"
     ]
    },
    {
     "name": "stderr",
     "output_type": "stream",
     "text": [
      " 40%|████      | 120/300 [12:26<04:33,  1.52s/it]"
     ]
    },
    {
     "name": "stdout",
     "output_type": "stream",
     "text": [
      "Iteration: 119\n",
      "Primal Objective: 20.0\n",
      "Lagrangian Dual Objective: -11.189270041457409\n",
      "Total Cost: 8.810729958542591\n",
      "Source-Sink Flow: 0.0\n"
     ]
    },
    {
     "name": "stderr",
     "output_type": "stream",
     "text": [
      " 40%|████      | 121/300 [12:28<04:55,  1.65s/it]"
     ]
    },
    {
     "name": "stdout",
     "output_type": "stream",
     "text": [
      "Iteration: 120\n",
      "Primal Objective: 0.0\n",
      "Lagrangian Dual Objective: 8.685306623994693\n",
      "Total Cost: 8.685306623994693\n",
      "Source-Sink Flow: 20.0\n"
     ]
    },
    {
     "name": "stderr",
     "output_type": "stream",
     "text": [
      " 41%|████      | 122/300 [12:29<04:10,  1.41s/it]"
     ]
    },
    {
     "name": "stdout",
     "output_type": "stream",
     "text": [
      "Iteration: 121\n",
      "Primal Objective: 0.0\n",
      "Lagrangian Dual Objective: 8.793683420807941\n",
      "Total Cost: 8.793683420807941\n",
      "Source-Sink Flow: 20.0\n"
     ]
    },
    {
     "name": "stderr",
     "output_type": "stream",
     "text": [
      " 41%|████      | 123/300 [12:30<03:42,  1.26s/it]"
     ]
    },
    {
     "name": "stdout",
     "output_type": "stream",
     "text": [
      "Iteration: 122\n",
      "Primal Objective: 0.0\n",
      "Lagrangian Dual Objective: 8.89555760981241\n",
      "Total Cost: 8.89555760981241\n",
      "Source-Sink Flow: 20.0\n"
     ]
    },
    {
     "name": "stderr",
     "output_type": "stream",
     "text": [
      " 41%|████▏     | 124/300 [12:31<03:26,  1.17s/it]"
     ]
    },
    {
     "name": "stdout",
     "output_type": "stream",
     "text": [
      "Iteration: 123\n",
      "Primal Objective: 20.0\n",
      "Lagrangian Dual Objective: -11.088362202903934\n",
      "Total Cost: 8.911637797096066\n",
      "Source-Sink Flow: 0.0\n"
     ]
    },
    {
     "name": "stderr",
     "output_type": "stream",
     "text": [
      " 42%|████▏     | 125/300 [12:34<04:42,  1.61s/it]"
     ]
    },
    {
     "name": "stdout",
     "output_type": "stream",
     "text": [
      "Iteration: 124\n",
      "Primal Objective: 0.0\n",
      "Lagrangian Dual Objective: 8.865355311278584\n",
      "Total Cost: 8.865355311278584\n",
      "Source-Sink Flow: 20.0\n"
     ]
    },
    {
     "name": "stderr",
     "output_type": "stream",
     "text": [
      " 42%|████▏     | 126/300 [12:34<04:00,  1.38s/it]"
     ]
    },
    {
     "name": "stdout",
     "output_type": "stream",
     "text": [
      "Iteration: 125\n",
      "Primal Objective: 0.0\n",
      "Lagrangian Dual Objective: 8.949970382678671\n",
      "Total Cost: 8.949970382678671\n",
      "Source-Sink Flow: 20.0\n"
     ]
    },
    {
     "name": "stderr",
     "output_type": "stream",
     "text": [
      " 42%|████▏     | 127/300 [12:35<03:33,  1.23s/it]"
     ]
    },
    {
     "name": "stdout",
     "output_type": "stream",
     "text": [
      "Iteration: 126\n",
      "Primal Objective: 0.0\n",
      "Lagrangian Dual Objective: 9.02950854979475\n",
      "Total Cost: 9.02950854979475\n",
      "Source-Sink Flow: 20.0\n"
     ]
    },
    {
     "name": "stderr",
     "output_type": "stream",
     "text": [
      " 43%|████▎     | 128/300 [12:36<03:27,  1.21s/it]"
     ]
    },
    {
     "name": "stdout",
     "output_type": "stream",
     "text": [
      "Iteration: 127\n",
      "Primal Objective: 20.0\n",
      "Lagrangian Dual Objective: -11.041868258944906\n",
      "Total Cost: 8.958131741055094\n",
      "Source-Sink Flow: 0.0\n"
     ]
    },
    {
     "name": "stderr",
     "output_type": "stream",
     "text": [
      " 43%|████▎     | 129/300 [12:38<03:51,  1.36s/it]"
     ]
    },
    {
     "name": "stdout",
     "output_type": "stream",
     "text": [
      "Iteration: 128\n",
      "Primal Objective: 0.0\n",
      "Lagrangian Dual Objective: 9.011518694869187\n",
      "Total Cost: 9.011518694869187\n",
      "Source-Sink Flow: 20.0\n"
     ]
    },
    {
     "name": "stderr",
     "output_type": "stream",
     "text": [
      " 43%|████▎     | 130/300 [12:39<03:26,  1.21s/it]"
     ]
    },
    {
     "name": "stdout",
     "output_type": "stream",
     "text": [
      "Iteration: 129\n",
      "Primal Objective: 0.0\n",
      "Lagrangian Dual Objective: 9.077581823865113\n",
      "Total Cost: 9.077581823865113\n",
      "Source-Sink Flow: 20.0\n"
     ]
    },
    {
     "name": "stderr",
     "output_type": "stream",
     "text": [
      " 44%|████▎     | 131/300 [12:40<03:21,  1.19s/it]"
     ]
    },
    {
     "name": "stdout",
     "output_type": "stream",
     "text": [
      "Iteration: 130\n",
      "Primal Objective: 20.0\n",
      "Lagrangian Dual Objective: -11.000384010122348\n",
      "Total Cost: 8.999615989877652\n",
      "Source-Sink Flow: 0.0\n"
     ]
    },
    {
     "name": "stderr",
     "output_type": "stream",
     "text": [
      " 44%|████▍     | 132/300 [12:42<03:42,  1.33s/it]"
     ]
    },
    {
     "name": "stdout",
     "output_type": "stream",
     "text": [
      "Iteration: 131\n",
      "Primal Objective: 0.0\n",
      "Lagrangian Dual Objective: 9.054743802759424\n",
      "Total Cost: 9.054743802759424\n",
      "Source-Sink Flow: 20.0\n"
     ]
    },
    {
     "name": "stderr",
     "output_type": "stream",
     "text": [
      " 44%|████▍     | 133/300 [12:43<03:17,  1.18s/it]"
     ]
    },
    {
     "name": "stdout",
     "output_type": "stream",
     "text": [
      "Iteration: 132\n",
      "Primal Objective: 0.0\n",
      "Lagrangian Dual Objective: 9.109614780693393\n",
      "Total Cost: 9.109614780693393\n",
      "Source-Sink Flow: 20.0\n"
     ]
    },
    {
     "name": "stderr",
     "output_type": "stream",
     "text": [
      " 45%|████▍     | 134/300 [12:44<03:15,  1.18s/it]"
     ]
    },
    {
     "name": "stdout",
     "output_type": "stream",
     "text": [
      "Iteration: 133\n",
      "Primal Objective: 0.0\n",
      "Lagrangian Dual Objective: 9.161193499951306\n",
      "Total Cost: 9.161193499951306\n",
      "Source-Sink Flow: 20.0\n"
     ]
    },
    {
     "name": "stderr",
     "output_type": "stream",
     "text": [
      " 45%|████▌     | 135/300 [12:45<03:16,  1.19s/it]"
     ]
    },
    {
     "name": "stdout",
     "output_type": "stream",
     "text": [
      "Iteration: 134\n",
      "Primal Objective: 0.0\n",
      "Lagrangian Dual Objective: 9.209677496053752\n",
      "Total Cost: 9.209677496053752\n",
      "Source-Sink Flow: 20.0\n"
     ]
    },
    {
     "name": "stderr",
     "output_type": "stream",
     "text": [
      " 45%|████▌     | 136/300 [12:47<03:35,  1.31s/it]"
     ]
    },
    {
     "name": "stdout",
     "output_type": "stream",
     "text": [
      "Iteration: 135\n",
      "Primal Objective: 20.0\n",
      "Lagrangian Dual Objective: -10.816531312192184\n",
      "Total Cost: 9.183468687807816\n",
      "Source-Sink Flow: 0.0\n"
     ]
    },
    {
     "name": "stderr",
     "output_type": "stream",
     "text": [
      " 46%|████▌     | 137/300 [12:48<03:49,  1.41s/it]"
     ]
    },
    {
     "name": "stdout",
     "output_type": "stream",
     "text": [
      "Iteration: 136\n",
      "Primal Objective: 0.0\n",
      "Lagrangian Dual Objective: 9.201491203918566\n",
      "Total Cost: 9.201491203918566\n",
      "Source-Sink Flow: 20.0\n"
     ]
    },
    {
     "name": "stderr",
     "output_type": "stream",
     "text": [
      " 46%|████▌     | 138/300 [12:49<03:25,  1.27s/it]"
     ]
    },
    {
     "name": "stdout",
     "output_type": "stream",
     "text": [
      "Iteration: 137\n",
      "Primal Objective: 20.0\n",
      "Lagrangian Dual Objective: -10.846612019167894\n",
      "Total Cost: 9.153387980832106\n",
      "Source-Sink Flow: 0.0\n"
     ]
    },
    {
     "name": "stderr",
     "output_type": "stream",
     "text": [
      " 46%|████▋     | 139/300 [12:51<03:34,  1.33s/it]"
     ]
    },
    {
     "name": "stdout",
     "output_type": "stream",
     "text": [
      "Iteration: 138\n",
      "Primal Objective: 0.0\n",
      "Lagrangian Dual Objective: 9.186619255587424\n",
      "Total Cost: 9.186619255587424\n",
      "Source-Sink Flow: 20.0\n"
     ]
    },
    {
     "name": "stderr",
     "output_type": "stream",
     "text": [
      " 47%|████▋     | 140/300 [12:52<03:09,  1.18s/it]"
     ]
    },
    {
     "name": "stdout",
     "output_type": "stream",
     "text": [
      "Iteration: 139\n",
      "Primal Objective: 0.0\n",
      "Lagrangian Dual Objective: 9.22220185534904\n",
      "Total Cost: 9.22220185534904\n",
      "Source-Sink Flow: 20.0\n"
     ]
    },
    {
     "name": "stderr",
     "output_type": "stream",
     "text": [
      " 47%|████▋     | 141/300 [12:52<02:51,  1.08s/it]"
     ]
    },
    {
     "name": "stdout",
     "output_type": "stream",
     "text": [
      "Iteration: 140\n",
      "Primal Objective: 0.0\n",
      "Lagrangian Dual Objective: 9.255649499124964\n",
      "Total Cost: 9.255649499124964\n",
      "Source-Sink Flow: 20.0\n"
     ]
    },
    {
     "name": "stderr",
     "output_type": "stream",
     "text": [
      " 47%|████▋     | 142/300 [12:53<02:42,  1.03s/it]"
     ]
    },
    {
     "name": "stdout",
     "output_type": "stream",
     "text": [
      "Iteration: 141\n",
      "Primal Objective: 20.0\n",
      "Lagrangian Dual Objective: -10.756264052676606\n",
      "Total Cost: 9.243735947323394\n",
      "Source-Sink Flow: 0.0\n"
     ]
    },
    {
     "name": "stderr",
     "output_type": "stream",
     "text": [
      " 48%|████▊     | 143/300 [12:55<02:59,  1.14s/it]"
     ]
    },
    {
     "name": "stdout",
     "output_type": "stream",
     "text": [
      "Iteration: 142\n",
      "Primal Objective: 0.0\n",
      "Lagrangian Dual Objective: 9.247929416162641\n",
      "Total Cost: 9.247929416162641\n",
      "Source-Sink Flow: 20.0\n"
     ]
    },
    {
     "name": "stderr",
     "output_type": "stream",
     "text": [
      " 48%|████▊     | 144/300 [12:56<02:42,  1.04s/it]"
     ]
    },
    {
     "name": "stdout",
     "output_type": "stream",
     "text": [
      "Iteration: 143\n",
      "Primal Objective: 0.0\n",
      "Lagrangian Dual Objective: 9.27571049392062\n",
      "Total Cost: 9.27571049392062\n",
      "Source-Sink Flow: 20.0\n"
     ]
    },
    {
     "name": "stderr",
     "output_type": "stream",
     "text": [
      " 48%|████▊     | 145/300 [12:56<02:32,  1.02it/s]"
     ]
    },
    {
     "name": "stdout",
     "output_type": "stream",
     "text": [
      "Iteration: 144\n",
      "Primal Objective: 0.0\n",
      "Lagrangian Dual Objective: 9.301824707013107\n",
      "Total Cost: 9.301824707013107\n",
      "Source-Sink Flow: 20.0\n"
     ]
    },
    {
     "name": "stderr",
     "output_type": "stream",
     "text": [
      " 49%|████▊     | 146/300 [12:58<02:47,  1.09s/it]"
     ]
    },
    {
     "name": "stdout",
     "output_type": "stream",
     "text": [
      "Iteration: 145\n",
      "Primal Objective: 0.0\n",
      "Lagrangian Dual Objective: 9.326372067320058\n",
      "Total Cost: 9.326372067320058\n",
      "Source-Sink Flow: 20.0\n"
     ]
    },
    {
     "name": "stderr",
     "output_type": "stream",
     "text": [
      " 49%|████▉     | 147/300 [12:59<03:04,  1.21s/it]"
     ]
    },
    {
     "name": "stdout",
     "output_type": "stream",
     "text": [
      "Iteration: 146\n",
      "Primal Objective: 20.0\n",
      "Lagrangian Dual Objective: -10.669840590440486\n",
      "Total Cost: 9.330159409559514\n",
      "Source-Sink Flow: 0.0\n"
     ]
    },
    {
     "name": "stderr",
     "output_type": "stream",
     "text": [
      " 49%|████▉     | 148/300 [13:01<03:09,  1.25s/it]"
     ]
    },
    {
     "name": "stdout",
     "output_type": "stream",
     "text": [
      "Iteration: 147\n",
      "Primal Objective: 20.0\n",
      "Lagrangian Dual Objective: -10.697129304475201\n",
      "Total Cost: 9.302870695524799\n",
      "Source-Sink Flow: 0.0\n"
     ]
    },
    {
     "name": "stderr",
     "output_type": "stream",
     "text": [
      " 50%|████▉     | 149/300 [13:02<03:20,  1.32s/it]"
     ]
    },
    {
     "name": "stdout",
     "output_type": "stream",
     "text": [
      "Iteration: 148\n",
      "Primal Objective: 0.0\n",
      "Lagrangian Dual Objective: 9.293462462438136\n",
      "Total Cost: 9.293462462438136\n",
      "Source-Sink Flow: 20.0\n"
     ]
    },
    {
     "name": "stderr",
     "output_type": "stream",
     "text": [
      " 50%|█████     | 150/300 [13:03<02:56,  1.17s/it]"
     ]
    },
    {
     "name": "stdout",
     "output_type": "stream",
     "text": [
      "Iteration: 149\n",
      "Primal Objective: 0.0\n",
      "Lagrangian Dual Objective: 9.312627788468523\n",
      "Total Cost: 9.312627788468523\n",
      "Source-Sink Flow: 20.0\n"
     ]
    },
    {
     "name": "stderr",
     "output_type": "stream",
     "text": [
      " 50%|█████     | 151/300 [13:04<02:38,  1.07s/it]"
     ]
    },
    {
     "name": "stdout",
     "output_type": "stream",
     "text": [
      "Iteration: 150\n",
      "Primal Objective: 0.0\n",
      "Lagrangian Dual Objective: 9.3306431949371\n",
      "Total Cost: 9.3306431949371\n",
      "Source-Sink Flow: 20.0\n"
     ]
    },
    {
     "name": "stderr",
     "output_type": "stream",
     "text": [
      " 51%|█████     | 152/300 [13:04<02:27,  1.01it/s]"
     ]
    },
    {
     "name": "stdout",
     "output_type": "stream",
     "text": [
      "Iteration: 151\n",
      "Primal Objective: 0.0\n",
      "Lagrangian Dual Objective: 9.347577677017545\n",
      "Total Cost: 9.347577677017545\n",
      "Source-Sink Flow: 20.0\n"
     ]
    },
    {
     "name": "stderr",
     "output_type": "stream",
     "text": [
      " 51%|█████     | 153/300 [13:05<02:18,  1.06it/s]"
     ]
    },
    {
     "name": "stdout",
     "output_type": "stream",
     "text": [
      "Iteration: 152\n",
      "Primal Objective: 0.0\n",
      "Lagrangian Dual Objective: 9.363496090173179\n",
      "Total Cost: 9.363496090173179\n",
      "Source-Sink Flow: 20.0\n"
     ]
    },
    {
     "name": "stderr",
     "output_type": "stream",
     "text": [
      " 51%|█████▏    | 154/300 [13:06<02:19,  1.05it/s]"
     ]
    },
    {
     "name": "stdout",
     "output_type": "stream",
     "text": [
      "Iteration: 153\n",
      "Primal Objective: 0.0\n",
      "Lagrangian Dual Objective: 9.37845939853946\n",
      "Total Cost: 9.37845939853946\n",
      "Source-Sink Flow: 20.0\n"
     ]
    },
    {
     "name": "stderr",
     "output_type": "stream",
     "text": [
      " 52%|█████▏    | 155/300 [13:07<02:18,  1.05it/s]"
     ]
    },
    {
     "name": "stdout",
     "output_type": "stream",
     "text": [
      "Iteration: 154\n",
      "Primal Objective: 20.0\n",
      "Lagrangian Dual Objective: -10.630267071764269\n",
      "Total Cost: 9.369732928235731\n",
      "Source-Sink Flow: 0.0\n"
     ]
    },
    {
     "name": "stderr",
     "output_type": "stream",
     "text": [
      " 52%|█████▏    | 156/300 [13:09<02:31,  1.05s/it]"
     ]
    },
    {
     "name": "stdout",
     "output_type": "stream",
     "text": [
      "Iteration: 155\n",
      "Primal Objective: 0.0\n",
      "Lagrangian Dual Objective: 9.37373677647865\n",
      "Total Cost: 9.37373677647865\n",
      "Source-Sink Flow: 20.0\n"
     ]
    },
    {
     "name": "stderr",
     "output_type": "stream",
     "text": [
      " 52%|█████▏    | 157/300 [13:10<02:38,  1.11s/it]"
     ]
    },
    {
     "name": "stdout",
     "output_type": "stream",
     "text": [
      "Iteration: 156\n",
      "Primal Objective: 20.0\n",
      "Lagrangian Dual Objective: -10.62567827105795\n",
      "Total Cost: 9.37432172894205\n",
      "Source-Sink Flow: 0.0\n"
     ]
    },
    {
     "name": "stderr",
     "output_type": "stream",
     "text": [
      " 53%|█████▎    | 158/300 [13:11<02:48,  1.19s/it]"
     ]
    },
    {
     "name": "stdout",
     "output_type": "stream",
     "text": [
      "Iteration: 157\n",
      "Primal Objective: 0.0\n",
      "Lagrangian Dual Objective: 9.36959853418596\n",
      "Total Cost: 9.36959853418596\n",
      "Source-Sink Flow: 20.0\n"
     ]
    },
    {
     "name": "stderr",
     "output_type": "stream",
     "text": [
      " 53%|█████▎    | 159/300 [13:12<02:33,  1.09s/it]"
     ]
    },
    {
     "name": "stdout",
     "output_type": "stream",
     "text": [
      "Iteration: 158\n",
      "Primal Objective: 0.0\n",
      "Lagrangian Dual Objective: 9.380580166384394\n",
      "Total Cost: 9.380580166384394\n",
      "Source-Sink Flow: 20.0\n"
     ]
    },
    {
     "name": "stderr",
     "output_type": "stream",
     "text": [
      " 53%|█████▎    | 160/300 [13:13<02:21,  1.01s/it]"
     ]
    },
    {
     "name": "stdout",
     "output_type": "stream",
     "text": [
      "Iteration: 159\n",
      "Primal Objective: 0.0\n",
      "Lagrangian Dual Objective: 9.390902900650923\n",
      "Total Cost: 9.390902900650923\n",
      "Source-Sink Flow: 20.0\n"
     ]
    },
    {
     "name": "stderr",
     "output_type": "stream",
     "text": [
      " 54%|█████▎    | 161/300 [13:14<02:19,  1.00s/it]"
     ]
    },
    {
     "name": "stdout",
     "output_type": "stream",
     "text": [
      "Iteration: 160\n",
      "Primal Objective: 20.0\n",
      "Lagrangian Dual Objective: -10.608513732849703\n",
      "Total Cost: 9.391486267150297\n",
      "Source-Sink Flow: 0.0\n"
     ]
    },
    {
     "name": "stderr",
     "output_type": "stream",
     "text": [
      " 54%|█████▍    | 162/300 [13:15<02:28,  1.08s/it]"
     ]
    },
    {
     "name": "stdout",
     "output_type": "stream",
     "text": [
      "Iteration: 161\n",
      "Primal Objective: 0.0\n",
      "Lagrangian Dual Objective: 9.389410379662165\n",
      "Total Cost: 9.389410379662165\n",
      "Source-Sink Flow: 20.0\n"
     ]
    },
    {
     "name": "stderr",
     "output_type": "stream",
     "text": [
      " 54%|█████▍    | 163/300 [13:16<02:17,  1.00s/it]"
     ]
    },
    {
     "name": "stdout",
     "output_type": "stream",
     "text": [
      "Iteration: 162\n",
      "Primal Objective: 0.0\n",
      "Lagrangian Dual Objective: 9.397984277580182\n",
      "Total Cost: 9.397984277580182\n",
      "Source-Sink Flow: 20.0\n"
     ]
    },
    {
     "name": "stderr",
     "output_type": "stream",
     "text": [
      " 55%|█████▍    | 164/300 [13:17<02:18,  1.02s/it]"
     ]
    },
    {
     "name": "stdout",
     "output_type": "stream",
     "text": [
      "Iteration: 163\n",
      "Primal Objective: 20.0\n",
      "Lagrangian Dual Objective: -10.595510906055772\n",
      "Total Cost: 9.404489093944228\n",
      "Source-Sink Flow: 0.0\n"
     ]
    },
    {
     "name": "stderr",
     "output_type": "stream",
     "text": [
      " 55%|█████▌    | 165/300 [13:18<02:22,  1.06s/it]"
     ]
    },
    {
     "name": "stdout",
     "output_type": "stream",
     "text": [
      "Iteration: 164\n",
      "Primal Objective: 0.0\n",
      "Lagrangian Dual Objective: 9.394758193584698\n",
      "Total Cost: 9.394758193584698\n",
      "Source-Sink Flow: 20.0\n"
     ]
    },
    {
     "name": "stderr",
     "output_type": "stream",
     "text": [
      " 55%|█████▌    | 166/300 [13:19<02:12,  1.01it/s]"
     ]
    },
    {
     "name": "stdout",
     "output_type": "stream",
     "text": [
      "Iteration: 165\n",
      "Primal Objective: 0.0\n",
      "Lagrangian Dual Objective: 9.401879536013041\n",
      "Total Cost: 9.401879536013041\n",
      "Source-Sink Flow: 20.0\n"
     ]
    },
    {
     "name": "stderr",
     "output_type": "stream",
     "text": [
      " 56%|█████▌    | 167/300 [13:20<02:05,  1.06it/s]"
     ]
    },
    {
     "name": "stdout",
     "output_type": "stream",
     "text": [
      "Iteration: 166\n",
      "Primal Objective: 0.0\n",
      "Lagrangian Dual Objective: 9.408573597895689\n",
      "Total Cost: 9.408573597895689\n",
      "Source-Sink Flow: 20.0\n"
     ]
    },
    {
     "name": "stderr",
     "output_type": "stream",
     "text": [
      " 56%|█████▌    | 168/300 [13:21<01:59,  1.10it/s]"
     ]
    },
    {
     "name": "stdout",
     "output_type": "stream",
     "text": [
      "Iteration: 167\n",
      "Primal Objective: 0.0\n",
      "Lagrangian Dual Objective: 9.41486601606538\n",
      "Total Cost: 9.41486601606538\n",
      "Source-Sink Flow: 20.0\n"
     ]
    },
    {
     "name": "stderr",
     "output_type": "stream",
     "text": [
      " 56%|█████▋    | 169/300 [13:22<02:00,  1.09it/s]"
     ]
    },
    {
     "name": "stdout",
     "output_type": "stream",
     "text": [
      "Iteration: 168\n",
      "Primal Objective: 0.0\n",
      "Lagrangian Dual Objective: 9.42078088914488\n",
      "Total Cost: 9.42078088914488\n",
      "Source-Sink Flow: 20.0\n"
     ]
    },
    {
     "name": "stderr",
     "output_type": "stream",
     "text": [
      " 57%|█████▋    | 170/300 [13:22<02:01,  1.07it/s]"
     ]
    },
    {
     "name": "stdout",
     "output_type": "stream",
     "text": [
      "Iteration: 169\n",
      "Primal Objective: 20.0\n",
      "Lagrangian Dual Objective: -10.578943894445414\n",
      "Total Cost: 9.421056105554586\n",
      "Source-Sink Flow: 0.0\n"
     ]
    },
    {
     "name": "stderr",
     "output_type": "stream",
     "text": [
      " 57%|█████▋    | 171/300 [13:23<02:03,  1.04it/s]"
     ]
    },
    {
     "name": "stdout",
     "output_type": "stream",
     "text": [
      "Iteration: 170\n",
      "Primal Objective: 0.0\n",
      "Lagrangian Dual Objective: 9.419223775550677\n",
      "Total Cost: 9.419223775550677\n",
      "Source-Sink Flow: 20.0\n"
     ]
    },
    {
     "name": "stderr",
     "output_type": "stream",
     "text": [
      " 57%|█████▋    | 172/300 [13:24<01:58,  1.08it/s]"
     ]
    },
    {
     "name": "stdout",
     "output_type": "stream",
     "text": [
      "Iteration: 171\n",
      "Primal Objective: 0.0\n",
      "Lagrangian Dual Objective: 9.42413657449254\n",
      "Total Cost: 9.42413657449254\n",
      "Source-Sink Flow: 20.0\n"
     ]
    },
    {
     "name": "stderr",
     "output_type": "stream",
     "text": [
      " 58%|█████▊    | 173/300 [13:25<02:01,  1.05it/s]"
     ]
    },
    {
     "name": "stdout",
     "output_type": "stream",
     "text": [
      "Iteration: 172\n",
      "Primal Objective: 20.0\n",
      "Lagrangian Dual Objective: -10.572639256553298\n",
      "Total Cost: 9.427360743446702\n",
      "Source-Sink Flow: 0.0\n"
     ]
    },
    {
     "name": "stderr",
     "output_type": "stream",
     "text": [
      " 58%|█████▊    | 174/300 [13:26<02:04,  1.01it/s]"
     ]
    },
    {
     "name": "stdout",
     "output_type": "stream",
     "text": [
      "Iteration: 173\n",
      "Primal Objective: 0.0\n",
      "Lagrangian Dual Objective: 9.422408678689655\n",
      "Total Cost: 9.422408678689655\n",
      "Source-Sink Flow: 20.0\n"
     ]
    },
    {
     "name": "stderr",
     "output_type": "stream",
     "text": [
      " 58%|█████▊    | 175/300 [13:27<01:58,  1.05it/s]"
     ]
    },
    {
     "name": "stdout",
     "output_type": "stream",
     "text": [
      "Iteration: 174\n",
      "Primal Objective: 0.0\n",
      "Lagrangian Dual Objective: 9.426489170885992\n",
      "Total Cost: 9.426489170885992\n",
      "Source-Sink Flow: 20.0\n"
     ]
    },
    {
     "name": "stderr",
     "output_type": "stream",
     "text": [
      " 59%|█████▊    | 176/300 [13:28<01:53,  1.10it/s]"
     ]
    },
    {
     "name": "stdout",
     "output_type": "stream",
     "text": [
      "Iteration: 175\n",
      "Primal Objective: 0.0\n",
      "Lagrangian Dual Objective: 9.43032483355055\n",
      "Total Cost: 9.43032483355055\n",
      "Source-Sink Flow: 20.0\n"
     ]
    },
    {
     "name": "stderr",
     "output_type": "stream",
     "text": [
      " 59%|█████▉    | 177/300 [13:29<01:52,  1.09it/s]"
     ]
    },
    {
     "name": "stdout",
     "output_type": "stream",
     "text": [
      "Iteration: 176\n",
      "Primal Objective: 0.0\n",
      "Lagrangian Dual Objective: 9.433930356455232\n",
      "Total Cost: 9.433930356455232\n",
      "Source-Sink Flow: 20.0\n"
     ]
    },
    {
     "name": "stderr",
     "output_type": "stream",
     "text": [
      " 59%|█████▉    | 178/300 [13:30<02:09,  1.06s/it]"
     ]
    },
    {
     "name": "stdout",
     "output_type": "stream",
     "text": [
      "Iteration: 177\n",
      "Primal Objective: 20.0\n",
      "Lagrangian Dual Objective: -10.56573917863259\n",
      "Total Cost: 9.43426082136741\n",
      "Source-Sink Flow: 0.0\n"
     ]
    },
    {
     "name": "stderr",
     "output_type": "stream",
     "text": [
      " 60%|█████▉    | 179/300 [13:31<02:05,  1.04s/it]"
     ]
    },
    {
     "name": "stdout",
     "output_type": "stream",
     "text": [
      "Iteration: 178\n",
      "Primal Objective: 0.0\n",
      "Lagrangian Dual Objective: 9.433250432102659\n",
      "Total Cost: 9.433250432102659\n",
      "Source-Sink Flow: 20.0\n"
     ]
    },
    {
     "name": "stderr",
     "output_type": "stream",
     "text": [
      " 60%|██████    | 180/300 [13:32<01:58,  1.01it/s]"
     ]
    },
    {
     "name": "stdout",
     "output_type": "stream",
     "text": [
      "Iteration: 179\n",
      "Primal Objective: 0.0\n",
      "Lagrangian Dual Objective: 9.436245121738919\n",
      "Total Cost: 9.436245121738919\n",
      "Source-Sink Flow: 20.0\n"
     ]
    },
    {
     "name": "stderr",
     "output_type": "stream",
     "text": [
      " 60%|██████    | 181/300 [13:33<01:51,  1.06it/s]"
     ]
    },
    {
     "name": "stdout",
     "output_type": "stream",
     "text": [
      "Iteration: 180\n",
      "Primal Objective: 0.0\n",
      "Lagrangian Dual Objective: 9.43906012999701\n",
      "Total Cost: 9.43906012999701\n",
      "Source-Sink Flow: 20.0\n"
     ]
    },
    {
     "name": "stderr",
     "output_type": "stream",
     "text": [
      " 61%|██████    | 182/300 [13:34<01:50,  1.07it/s]"
     ]
    },
    {
     "name": "stdout",
     "output_type": "stream",
     "text": [
      "Iteration: 181\n",
      "Primal Objective: 0.0\n",
      "Lagrangian Dual Objective: 9.441706237759611\n",
      "Total Cost: 9.441706237759611\n",
      "Source-Sink Flow: 20.0\n"
     ]
    },
    {
     "name": "stderr",
     "output_type": "stream",
     "text": [
      " 61%|██████    | 183/300 [13:35<01:49,  1.07it/s]"
     ]
    },
    {
     "name": "stdout",
     "output_type": "stream",
     "text": [
      "Iteration: 182\n",
      "Primal Objective: 20.0\n",
      "Lagrangian Dual Objective: -10.561563491235727\n",
      "Total Cost: 9.438436508764273\n",
      "Source-Sink Flow: 0.0\n"
     ]
    },
    {
     "name": "stderr",
     "output_type": "stream",
     "text": [
      " 61%|██████▏   | 184/300 [13:36<01:51,  1.04it/s]"
     ]
    },
    {
     "name": "stdout",
     "output_type": "stream",
     "text": [
      "Iteration: 183\n",
      "Primal Objective: 0.0\n",
      "Lagrangian Dual Objective: 9.440656579538748\n",
      "Total Cost: 9.440656579538748\n",
      "Source-Sink Flow: 20.0\n"
     ]
    },
    {
     "name": "stderr",
     "output_type": "stream",
     "text": [
      " 62%|██████▏   | 185/300 [13:37<01:46,  1.08it/s]"
     ]
    },
    {
     "name": "stdout",
     "output_type": "stream",
     "text": [
      "Iteration: 184\n",
      "Primal Objective: 0.0\n",
      "Lagrangian Dual Objective: 9.442854394308641\n",
      "Total Cost: 9.442854394308641\n",
      "Source-Sink Flow: 20.0\n"
     ]
    },
    {
     "name": "stderr",
     "output_type": "stream",
     "text": [
      " 62%|██████▏   | 186/300 [13:38<01:46,  1.07it/s]"
     ]
    },
    {
     "name": "stdout",
     "output_type": "stream",
     "text": [
      "Iteration: 185\n",
      "Primal Objective: 20.0\n",
      "Lagrangian Dual Objective: -10.557280052777235\n",
      "Total Cost: 9.442719947222765\n",
      "Source-Sink Flow: 0.0\n"
     ]
    },
    {
     "name": "stderr",
     "output_type": "stream",
     "text": [
      " 62%|██████▏   | 187/300 [13:39<01:49,  1.04it/s]"
     ]
    },
    {
     "name": "stdout",
     "output_type": "stream",
     "text": [
      "Iteration: 186\n",
      "Primal Objective: 0.0\n",
      "Lagrangian Dual Objective: 9.442234838981106\n",
      "Total Cost: 9.442234838981106\n",
      "Source-Sink Flow: 20.0\n"
     ]
    },
    {
     "name": "stderr",
     "output_type": "stream",
     "text": [
      " 63%|██████▎   | 188/300 [13:40<01:46,  1.05it/s]"
     ]
    },
    {
     "name": "stdout",
     "output_type": "stream",
     "text": [
      "Iteration: 187\n",
      "Primal Objective: 0.0\n",
      "Lagrangian Dual Objective: 9.444060308763932\n",
      "Total Cost: 9.444060308763932\n",
      "Source-Sink Flow: 20.0\n"
     ]
    },
    {
     "name": "stderr",
     "output_type": "stream",
     "text": [
      " 63%|██████▎   | 189/300 [13:41<01:43,  1.07it/s]"
     ]
    },
    {
     "name": "stdout",
     "output_type": "stream",
     "text": [
      "Iteration: 188\n",
      "Primal Objective: 0.0\n",
      "Lagrangian Dual Objective: 9.4457762503598\n",
      "Total Cost: 9.4457762503598\n",
      "Source-Sink Flow: 20.0\n"
     ]
    },
    {
     "name": "stderr",
     "output_type": "stream",
     "text": [
      " 63%|██████▎   | 190/300 [13:42<01:41,  1.08it/s]"
     ]
    },
    {
     "name": "stdout",
     "output_type": "stream",
     "text": [
      "Iteration: 189\n",
      "Primal Objective: 20.0\n",
      "Lagrangian Dual Objective: -10.552790614721058\n",
      "Total Cost: 9.447209385278942\n",
      "Source-Sink Flow: 0.0\n"
     ]
    },
    {
     "name": "stderr",
     "output_type": "stream",
     "text": [
      " 64%|██████▎   | 191/300 [13:43<01:41,  1.08it/s]"
     ]
    },
    {
     "name": "stdout",
     "output_type": "stream",
     "text": [
      "Iteration: 190\n",
      "Primal Objective: 0.0\n",
      "Lagrangian Dual Objective: 9.445254044641606\n",
      "Total Cost: 9.445254044641606\n",
      "Source-Sink Flow: 20.0\n"
     ]
    },
    {
     "name": "stderr",
     "output_type": "stream",
     "text": [
      " 64%|██████▍   | 192/300 [13:43<01:38,  1.10it/s]"
     ]
    },
    {
     "name": "stdout",
     "output_type": "stream",
     "text": [
      "Iteration: 191\n",
      "Primal Objective: 0.0\n",
      "Lagrangian Dual Objective: 9.446679278276074\n",
      "Total Cost: 9.446679278276074\n",
      "Source-Sink Flow: 20.0\n"
     ]
    },
    {
     "name": "stderr",
     "output_type": "stream",
     "text": [
      " 64%|██████▍   | 193/300 [13:44<01:34,  1.13it/s]"
     ]
    },
    {
     "name": "stdout",
     "output_type": "stream",
     "text": [
      "Iteration: 192\n",
      "Primal Objective: 0.0\n",
      "Lagrangian Dual Objective: 9.44801899789247\n",
      "Total Cost: 9.44801899789247\n",
      "Source-Sink Flow: 20.0\n"
     ]
    },
    {
     "name": "stderr",
     "output_type": "stream",
     "text": [
      " 65%|██████▍   | 194/300 [13:45<01:33,  1.13it/s]"
     ]
    },
    {
     "name": "stdout",
     "output_type": "stream",
     "text": [
      "Iteration: 193\n",
      "Primal Objective: 20.0\n",
      "Lagrangian Dual Objective: -10.552387143788723\n",
      "Total Cost: 9.447612856211277\n",
      "Source-Sink Flow: 0.0\n"
     ]
    },
    {
     "name": "stderr",
     "output_type": "stream",
     "text": [
      " 65%|██████▌   | 195/300 [13:46<01:33,  1.12it/s]"
     ]
    },
    {
     "name": "stdout",
     "output_type": "stream",
     "text": [
      "Iteration: 194\n",
      "Primal Objective: 0.0\n",
      "Lagrangian Dual Objective: 9.447591016313954\n",
      "Total Cost: 9.447591016313954\n",
      "Source-Sink Flow: 20.0\n"
     ]
    },
    {
     "name": "stderr",
     "output_type": "stream",
     "text": [
      " 65%|██████▌   | 196/300 [13:47<01:30,  1.15it/s]"
     ]
    },
    {
     "name": "stdout",
     "output_type": "stream",
     "text": [
      "Iteration: 195\n",
      "Primal Objective: 0.0\n",
      "Lagrangian Dual Objective: 9.448703765991826\n",
      "Total Cost: 9.448703765991826\n",
      "Source-Sink Flow: 20.0\n"
     ]
    },
    {
     "name": "stderr",
     "output_type": "stream",
     "text": [
      " 66%|██████▌   | 197/300 [13:48<01:29,  1.15it/s]"
     ]
    },
    {
     "name": "stdout",
     "output_type": "stream",
     "text": [
      "Iteration: 196\n",
      "Primal Objective: 0.0\n",
      "Lagrangian Dual Objective: 9.449749750689014\n",
      "Total Cost: 9.449749750689014\n",
      "Source-Sink Flow: 20.0\n"
     ]
    },
    {
     "name": "stderr",
     "output_type": "stream",
     "text": [
      " 66%|██████▌   | 198/300 [13:49<01:31,  1.11it/s]"
     ]
    },
    {
     "name": "stdout",
     "output_type": "stream",
     "text": [
      "Iteration: 197\n",
      "Primal Objective: 20.0\n",
      "Lagrangian Dual Objective: -10.550558885133261\n",
      "Total Cost: 9.449441114866739\n",
      "Source-Sink Flow: 0.0\n"
     ]
    },
    {
     "name": "stderr",
     "output_type": "stream",
     "text": [
      " 66%|██████▋   | 199/300 [13:50<01:31,  1.11it/s]"
     ]
    },
    {
     "name": "stdout",
     "output_type": "stream",
     "text": [
      "Iteration: 198\n",
      "Primal Objective: 0.0\n",
      "Lagrangian Dual Objective: 9.449534219846212\n",
      "Total Cost: 9.449534219846212\n",
      "Source-Sink Flow: 20.0\n"
     ]
    },
    {
     "name": "stderr",
     "output_type": "stream",
     "text": [
      " 67%|██████▋   | 200/300 [13:51<01:31,  1.09it/s]"
     ]
    },
    {
     "name": "stdout",
     "output_type": "stream",
     "text": [
      "Iteration: 199\n",
      "Primal Objective: 0.0\n",
      "Lagrangian Dual Objective: 9.450402997999937\n",
      "Total Cost: 9.450402997999937\n",
      "Source-Sink Flow: 20.0\n"
     ]
    },
    {
     "name": "stderr",
     "output_type": "stream",
     "text": [
      " 67%|██████▋   | 201/300 [13:51<01:30,  1.10it/s]"
     ]
    },
    {
     "name": "stdout",
     "output_type": "stream",
     "text": [
      "Iteration: 200\n",
      "Primal Objective: 20.0\n",
      "Lagrangian Dual Objective: -10.54979919269345\n",
      "Total Cost: 9.45020080730655\n",
      "Source-Sink Flow: 0.0\n"
     ]
    },
    {
     "name": "stderr",
     "output_type": "stream",
     "text": [
      " 67%|██████▋   | 202/300 [13:52<01:30,  1.09it/s]"
     ]
    },
    {
     "name": "stdout",
     "output_type": "stream",
     "text": [
      "Iteration: 201\n",
      "Primal Objective: 0.0\n",
      "Lagrangian Dual Objective: 9.450223981530383\n",
      "Total Cost: 9.450223981530383\n",
      "Source-Sink Flow: 20.0\n"
     ]
    },
    {
     "name": "stderr",
     "output_type": "stream",
     "text": [
      " 68%|██████▊   | 203/300 [13:53<01:26,  1.12it/s]"
     ]
    },
    {
     "name": "stdout",
     "output_type": "stream",
     "text": [
      "Iteration: 202\n",
      "Primal Objective: 0.0\n",
      "Lagrangian Dual Objective: 9.450945574764425\n",
      "Total Cost: 9.450945574764425\n",
      "Source-Sink Flow: 20.0\n"
     ]
    },
    {
     "name": "stderr",
     "output_type": "stream",
     "text": [
      " 68%|██████▊   | 204/300 [13:54<01:23,  1.14it/s]"
     ]
    },
    {
     "name": "stdout",
     "output_type": "stream",
     "text": [
      "Iteration: 203\n",
      "Primal Objective: 0.0\n",
      "Lagrangian Dual Objective: 9.451623872404424\n",
      "Total Cost: 9.451623872404424\n",
      "Source-Sink Flow: 20.0\n"
     ]
    },
    {
     "name": "stderr",
     "output_type": "stream",
     "text": [
      " 68%|██████▊   | 205/300 [13:55<01:23,  1.14it/s]"
     ]
    },
    {
     "name": "stdout",
     "output_type": "stream",
     "text": [
      "Iteration: 204\n",
      "Primal Objective: 0.0\n",
      "Lagrangian Dual Objective: 9.45226147218602\n",
      "Total Cost: 9.45226147218602\n",
      "Source-Sink Flow: 20.0\n"
     ]
    },
    {
     "name": "stderr",
     "output_type": "stream",
     "text": [
      " 69%|██████▊   | 206/300 [13:56<01:21,  1.15it/s]"
     ]
    },
    {
     "name": "stdout",
     "output_type": "stream",
     "text": [
      "Iteration: 205\n",
      "Primal Objective: 0.0\n",
      "Lagrangian Dual Objective: 9.452860815980715\n",
      "Total Cost: 9.452860815980715\n",
      "Source-Sink Flow: 20.0\n"
     ]
    },
    {
     "name": "stderr",
     "output_type": "stream",
     "text": [
      " 69%|██████▉   | 207/300 [13:57<01:22,  1.13it/s]"
     ]
    },
    {
     "name": "stdout",
     "output_type": "stream",
     "text": [
      "Iteration: 206\n",
      "Primal Objective: 0.0\n",
      "Lagrangian Dual Objective: 9.453424199147735\n",
      "Total Cost: 9.453424199147735\n",
      "Source-Sink Flow: 20.0\n"
     ]
    },
    {
     "name": "stderr",
     "output_type": "stream",
     "text": [
      " 69%|██████▉   | 208/300 [13:58<01:20,  1.14it/s]"
     ]
    },
    {
     "name": "stdout",
     "output_type": "stream",
     "text": [
      "Iteration: 207\n",
      "Primal Objective: 20.0\n",
      "Lagrangian Dual Objective: -10.546910733188971\n",
      "Total Cost: 9.453089266811029\n",
      "Source-Sink Flow: 0.0\n"
     ]
    },
    {
     "name": "stderr",
     "output_type": "stream",
     "text": [
      " 70%|██████▉   | 209/300 [13:58<01:19,  1.14it/s]"
     ]
    },
    {
     "name": "stdout",
     "output_type": "stream",
     "text": [
      "Iteration: 208\n",
      "Primal Objective: 0.0\n",
      "Lagrangian Dual Objective: 9.453308110978245\n",
      "Total Cost: 9.453308110978245\n",
      "Source-Sink Flow: 20.0\n"
     ]
    },
    {
     "name": "stderr",
     "output_type": "stream",
     "text": [
      " 70%|███████   | 210/300 [13:59<01:18,  1.15it/s]"
     ]
    },
    {
     "name": "stdout",
     "output_type": "stream",
     "text": [
      "Iteration: 209\n",
      "Primal Objective: 0.0\n",
      "Lagrangian Dual Objective: 9.453776048022636\n",
      "Total Cost: 9.453776048022636\n",
      "Source-Sink Flow: 20.0\n"
     ]
    },
    {
     "name": "stderr",
     "output_type": "stream",
     "text": [
      " 70%|███████   | 211/300 [14:00<01:16,  1.16it/s]"
     ]
    },
    {
     "name": "stdout",
     "output_type": "stream",
     "text": [
      "Iteration: 210\n",
      "Primal Objective: 20.0\n",
      "Lagrangian Dual Objective: -10.546832138641342\n",
      "Total Cost: 9.453167861358658\n",
      "Source-Sink Flow: 0.0\n"
     ]
    },
    {
     "name": "stderr",
     "output_type": "stream",
     "text": [
      " 71%|███████   | 212/300 [14:01<01:15,  1.16it/s]"
     ]
    },
    {
     "name": "stdout",
     "output_type": "stream",
     "text": [
      "Iteration: 211\n",
      "Primal Objective: 0.0\n",
      "Lagrangian Dual Objective: 9.453635960335193\n",
      "Total Cost: 9.453635960335193\n",
      "Source-Sink Flow: 20.0\n"
     ]
    },
    {
     "name": "stderr",
     "output_type": "stream",
     "text": [
      " 71%|███████   | 213/300 [14:02<01:14,  1.17it/s]"
     ]
    },
    {
     "name": "stdout",
     "output_type": "stream",
     "text": [
      "Iteration: 212\n",
      "Primal Objective: 0.0\n",
      "Lagrangian Dual Objective: 9.454024621357277\n",
      "Total Cost: 9.454024621357277\n",
      "Source-Sink Flow: 20.0\n"
     ]
    },
    {
     "name": "stderr",
     "output_type": "stream",
     "text": [
      " 71%|███████▏  | 214/300 [14:03<01:12,  1.18it/s]"
     ]
    },
    {
     "name": "stdout",
     "output_type": "stream",
     "text": [
      "Iteration: 213\n",
      "Primal Objective: 0.0\n",
      "Lagrangian Dual Objective: 9.454389962718036\n",
      "Total Cost: 9.454389962718036\n",
      "Source-Sink Flow: 20.0\n"
     ]
    },
    {
     "name": "stderr",
     "output_type": "stream",
     "text": [
      " 72%|███████▏  | 215/300 [14:03<01:12,  1.17it/s]"
     ]
    },
    {
     "name": "stdout",
     "output_type": "stream",
     "text": [
      "Iteration: 214\n",
      "Primal Objective: 0.0\n",
      "Lagrangian Dual Objective: 9.454733383597139\n",
      "Total Cost: 9.454733383597139\n",
      "Source-Sink Flow: 20.0\n"
     ]
    },
    {
     "name": "stderr",
     "output_type": "stream",
     "text": [
      " 72%|███████▏  | 216/300 [14:04<01:14,  1.13it/s]"
     ]
    },
    {
     "name": "stdout",
     "output_type": "stream",
     "text": [
      "Iteration: 215\n",
      "Primal Objective: 20.0\n",
      "Lagrangian Dual Objective: -10.545308636472283\n",
      "Total Cost: 9.454691363527717\n",
      "Source-Sink Flow: 0.0\n"
     ]
    },
    {
     "name": "stderr",
     "output_type": "stream",
     "text": [
      " 72%|███████▏  | 217/300 [14:05<01:13,  1.13it/s]"
     ]
    },
    {
     "name": "stdout",
     "output_type": "stream",
     "text": [
      "Iteration: 216\n",
      "Primal Objective: 0.0\n",
      "Lagrangian Dual Objective: 9.45463894519134\n",
      "Total Cost: 9.45463894519134\n",
      "Source-Sink Flow: 20.0\n"
     ]
    },
    {
     "name": "stderr",
     "output_type": "stream",
     "text": [
      " 73%|███████▎  | 218/300 [14:06<01:12,  1.13it/s]"
     ]
    },
    {
     "name": "stdout",
     "output_type": "stream",
     "text": [
      "Iteration: 217\n",
      "Primal Objective: 0.0\n",
      "Lagrangian Dual Objective: 9.454924185078802\n",
      "Total Cost: 9.454924185078802\n",
      "Source-Sink Flow: 20.0\n"
     ]
    },
    {
     "name": "stderr",
     "output_type": "stream",
     "text": [
      " 73%|███████▎  | 219/300 [14:07<01:11,  1.14it/s]"
     ]
    },
    {
     "name": "stdout",
     "output_type": "stream",
     "text": [
      "Iteration: 218\n",
      "Primal Objective: 0.0\n",
      "Lagrangian Dual Objective: 9.455192310573013\n",
      "Total Cost: 9.455192310573013\n",
      "Source-Sink Flow: 20.0\n"
     ]
    },
    {
     "name": "stderr",
     "output_type": "stream",
     "text": [
      " 73%|███████▎  | 220/300 [14:08<01:08,  1.16it/s]"
     ]
    },
    {
     "name": "stdout",
     "output_type": "stream",
     "text": [
      "Iteration: 219\n",
      "Primal Objective: 0.0\n",
      "Lagrangian Dual Objective: 9.455444348537561\n",
      "Total Cost: 9.455444348537561\n",
      "Source-Sink Flow: 20.0\n"
     ]
    },
    {
     "name": "stderr",
     "output_type": "stream",
     "text": [
      " 74%|███████▎  | 221/300 [14:09<01:10,  1.12it/s]"
     ]
    },
    {
     "name": "stdout",
     "output_type": "stream",
     "text": [
      "Iteration: 220\n",
      "Primal Objective: 0.0\n",
      "Lagrangian Dual Objective: 9.455681264224234\n",
      "Total Cost: 9.455681264224234\n",
      "Source-Sink Flow: 20.0\n"
     ]
    },
    {
     "name": "stderr",
     "output_type": "stream",
     "text": [
      " 74%|███████▍  | 222/300 [14:10<01:08,  1.13it/s]"
     ]
    },
    {
     "name": "stdout",
     "output_type": "stream",
     "text": [
      "Iteration: 221\n",
      "Primal Objective: 20.0\n",
      "Lagrangian Dual Objective: -10.544566623633543\n",
      "Total Cost: 9.455433376366457\n",
      "Source-Sink Flow: 0.0\n"
     ]
    },
    {
     "name": "stderr",
     "output_type": "stream",
     "text": [
      " 74%|███████▍  | 223/300 [14:11<01:08,  1.12it/s]"
     ]
    },
    {
     "name": "stdout",
     "output_type": "stream",
     "text": [
      "Iteration: 222\n",
      "Primal Objective: 0.0\n",
      "Lagrangian Dual Objective: 9.455598310716498\n",
      "Total Cost: 9.455598310716498\n",
      "Source-Sink Flow: 20.0\n"
     ]
    },
    {
     "name": "stderr",
     "output_type": "stream",
     "text": [
      " 75%|███████▍  | 224/300 [14:12<01:08,  1.10it/s]"
     ]
    },
    {
     "name": "stdout",
     "output_type": "stream",
     "text": [
      "Iteration: 223\n",
      "Primal Objective: 20.0\n",
      "Lagrangian Dual Objective: -10.544251219962323\n",
      "Total Cost: 9.455748780037677\n",
      "Source-Sink Flow: 0.0\n"
     ]
    },
    {
     "name": "stderr",
     "output_type": "stream",
     "text": [
      " 75%|███████▌  | 225/300 [14:13<01:09,  1.08it/s]"
     ]
    },
    {
     "name": "stdout",
     "output_type": "stream",
     "text": [
      "Iteration: 224\n",
      "Primal Objective: 0.0\n",
      "Lagrangian Dual Objective: 9.455545155875779\n",
      "Total Cost: 9.455545155875779\n",
      "Source-Sink Flow: 20.0\n"
     ]
    },
    {
     "name": "stderr",
     "output_type": "stream",
     "text": [
      " 75%|███████▌  | 226/300 [14:13<01:06,  1.11it/s]"
     ]
    },
    {
     "name": "stdout",
     "output_type": "stream",
     "text": [
      "Iteration: 225\n",
      "Primal Objective: 20.0\n",
      "Lagrangian Dual Objective: -10.544648849509063\n",
      "Total Cost: 9.455351150490937\n",
      "Source-Sink Flow: 0.0\n"
     ]
    },
    {
     "name": "stderr",
     "output_type": "stream",
     "text": [
      " 76%|███████▌  | 227/300 [14:14<01:04,  1.13it/s]"
     ]
    },
    {
     "name": "stdout",
     "output_type": "stream",
     "text": [
      "Iteration: 226\n",
      "Primal Objective: 0.0\n",
      "Lagrangian Dual Objective: 9.45549841090825\n",
      "Total Cost: 9.45549841090825\n",
      "Source-Sink Flow: 20.0\n"
     ]
    },
    {
     "name": "stderr",
     "output_type": "stream",
     "text": [
      " 76%|███████▌  | 228/300 [14:15<01:02,  1.15it/s]"
     ]
    },
    {
     "name": "stdout",
     "output_type": "stream",
     "text": [
      "Iteration: 227\n",
      "Primal Objective: 0.0\n",
      "Lagrangian Dual Objective: 9.455652045422779\n",
      "Total Cost: 9.455652045422779\n",
      "Source-Sink Flow: 20.0\n"
     ]
    },
    {
     "name": "stderr",
     "output_type": "stream",
     "text": [
      " 76%|███████▋  | 229/300 [14:16<01:01,  1.16it/s]"
     ]
    },
    {
     "name": "stdout",
     "output_type": "stream",
     "text": [
      "Iteration: 228\n",
      "Primal Objective: 0.0\n",
      "Lagrangian Dual Objective: 9.45579646186642\n",
      "Total Cost: 9.45579646186642\n",
      "Source-Sink Flow: 20.0\n"
     ]
    },
    {
     "name": "stderr",
     "output_type": "stream",
     "text": [
      " 77%|███████▋  | 230/300 [14:17<01:00,  1.15it/s]"
     ]
    },
    {
     "name": "stdout",
     "output_type": "stream",
     "text": [
      "Iteration: 229\n",
      "Primal Objective: 0.0\n",
      "Lagrangian Dual Objective: 9.455932213323466\n",
      "Total Cost: 9.455932213323466\n",
      "Source-Sink Flow: 20.0\n"
     ]
    },
    {
     "name": "stderr",
     "output_type": "stream",
     "text": [
      " 77%|███████▋  | 231/300 [14:18<00:59,  1.17it/s]"
     ]
    },
    {
     "name": "stdout",
     "output_type": "stream",
     "text": [
      "Iteration: 230\n",
      "Primal Objective: 0.0\n",
      "Lagrangian Dual Objective: 9.456059819693069\n",
      "Total Cost: 9.456059819693069\n",
      "Source-Sink Flow: 20.0\n"
     ]
    },
    {
     "name": "stderr",
     "output_type": "stream",
     "text": [
      " 77%|███████▋  | 232/300 [14:18<00:57,  1.18it/s]"
     ]
    },
    {
     "name": "stdout",
     "output_type": "stream",
     "text": [
      "Iteration: 231\n",
      "Primal Objective: 0.0\n",
      "Lagrangian Dual Objective: 9.456179769680519\n",
      "Total Cost: 9.456179769680519\n",
      "Source-Sink Flow: 20.0\n"
     ]
    },
    {
     "name": "stderr",
     "output_type": "stream",
     "text": [
      " 78%|███████▊  | 233/300 [14:19<00:56,  1.18it/s]"
     ]
    },
    {
     "name": "stdout",
     "output_type": "stream",
     "text": [
      "Iteration: 232\n",
      "Primal Objective: 0.0\n",
      "Lagrangian Dual Objective: 9.456292522668699\n",
      "Total Cost: 9.456292522668699\n",
      "Source-Sink Flow: 20.0\n"
     ]
    },
    {
     "name": "stderr",
     "output_type": "stream",
     "text": [
      " 78%|███████▊  | 234/300 [14:20<00:56,  1.16it/s]"
     ]
    },
    {
     "name": "stdout",
     "output_type": "stream",
     "text": [
      "Iteration: 233\n",
      "Primal Objective: 0.0\n",
      "Lagrangian Dual Objective: 9.456398510477598\n",
      "Total Cost: 9.456398510477598\n",
      "Source-Sink Flow: 20.0\n"
     ]
    },
    {
     "name": "stderr",
     "output_type": "stream",
     "text": [
      " 78%|███████▊  | 235/300 [14:21<00:55,  1.17it/s]"
     ]
    },
    {
     "name": "stdout",
     "output_type": "stream",
     "text": [
      "Iteration: 234\n",
      "Primal Objective: 20.0\n",
      "Lagrangian Dual Objective: -10.543650551123577\n",
      "Total Cost: 9.456349448876423\n",
      "Source-Sink Flow: 0.0\n"
     ]
    },
    {
     "name": "stderr",
     "output_type": "stream",
     "text": [
      " 79%|███████▊  | 236/300 [14:22<00:55,  1.16it/s]"
     ]
    },
    {
     "name": "stdout",
     "output_type": "stream",
     "text": [
      "Iteration: 235\n",
      "Primal Objective: 0.0\n",
      "Lagrangian Dual Objective: 9.456369253225052\n",
      "Total Cost: 9.456369253225052\n",
      "Source-Sink Flow: 20.0\n"
     ]
    },
    {
     "name": "stderr",
     "output_type": "stream",
     "text": [
      " 79%|███████▉  | 237/300 [14:23<00:53,  1.18it/s]"
     ]
    },
    {
     "name": "stdout",
     "output_type": "stream",
     "text": [
      "Iteration: 236\n",
      "Primal Objective: 0.0\n",
      "Lagrangian Dual Objective: 9.456457285003314\n",
      "Total Cost: 9.456457285003314\n",
      "Source-Sink Flow: 20.0\n"
     ]
    },
    {
     "name": "stderr",
     "output_type": "stream",
     "text": [
      " 79%|███████▉  | 238/300 [14:24<00:53,  1.15it/s]"
     ]
    },
    {
     "name": "stdout",
     "output_type": "stream",
     "text": [
      "Iteration: 237\n",
      "Primal Objective: 0.0\n",
      "Lagrangian Dual Objective: 9.456540034874891\n",
      "Total Cost: 9.456540034874891\n",
      "Source-Sink Flow: 20.0\n"
     ]
    },
    {
     "name": "stderr",
     "output_type": "stream",
     "text": [
      " 80%|███████▉  | 239/300 [14:24<00:52,  1.16it/s]"
     ]
    },
    {
     "name": "stdout",
     "output_type": "stream",
     "text": [
      "Iteration: 238\n",
      "Primal Objective: 0.0\n",
      "Lagrangian Dual Objective: 9.45661781975416\n",
      "Total Cost: 9.45661781975416\n",
      "Source-Sink Flow: 20.0\n"
     ]
    },
    {
     "name": "stderr",
     "output_type": "stream",
     "text": [
      " 80%|████████  | 240/300 [14:25<00:52,  1.14it/s]"
     ]
    },
    {
     "name": "stdout",
     "output_type": "stream",
     "text": [
      "Iteration: 239\n",
      "Primal Objective: 0.0\n",
      "Lagrangian Dual Objective: 9.456690937540687\n",
      "Total Cost: 9.456690937540687\n",
      "Source-Sink Flow: 20.0\n"
     ]
    },
    {
     "name": "stderr",
     "output_type": "stream",
     "text": [
      " 80%|████████  | 241/300 [14:26<00:50,  1.16it/s]"
     ]
    },
    {
     "name": "stdout",
     "output_type": "stream",
     "text": [
      "Iteration: 240\n",
      "Primal Objective: 0.0\n",
      "Lagrangian Dual Objective: 9.45675966826001\n",
      "Total Cost: 9.45675966826001\n",
      "Source-Sink Flow: 20.0\n"
     ]
    },
    {
     "name": "stderr",
     "output_type": "stream",
     "text": [
      " 81%|████████  | 242/300 [14:27<00:49,  1.16it/s]"
     ]
    },
    {
     "name": "stdout",
     "output_type": "stream",
     "text": [
      "Iteration: 241\n",
      "Primal Objective: 0.0\n",
      "Lagrangian Dual Objective: 9.456824275136178\n",
      "Total Cost: 9.456824275136178\n",
      "Source-Sink Flow: 20.0\n"
     ]
    },
    {
     "name": "stderr",
     "output_type": "stream",
     "text": [
      " 81%|████████  | 243/300 [14:28<00:51,  1.10it/s]"
     ]
    },
    {
     "name": "stdout",
     "output_type": "stream",
     "text": [
      "Iteration: 242\n",
      "Primal Objective: 20.0\n",
      "Lagrangian Dual Objective: -10.54324331140906\n",
      "Total Cost: 9.45675668859094\n",
      "Source-Sink Flow: 0.0\n"
     ]
    },
    {
     "name": "stderr",
     "output_type": "stream",
     "text": [
      " 81%|████████▏ | 244/300 [14:29<00:50,  1.11it/s]"
     ]
    },
    {
     "name": "stdout",
     "output_type": "stream",
     "text": [
      "Iteration: 243\n",
      "Primal Objective: 0.0\n",
      "Lagrangian Dual Objective: 9.456798151015306\n",
      "Total Cost: 9.456798151015306\n",
      "Source-Sink Flow: 20.0\n"
     ]
    },
    {
     "name": "stderr",
     "output_type": "stream",
     "text": [
      " 82%|████████▏ | 245/300 [14:30<00:48,  1.12it/s]"
     ]
    },
    {
     "name": "stdout",
     "output_type": "stream",
     "text": [
      "Iteration: 244\n",
      "Primal Objective: 20.0\n",
      "Lagrangian Dual Objective: -10.543271022438324\n",
      "Total Cost: 9.456728977561676\n",
      "Source-Sink Flow: 0.0\n"
     ]
    },
    {
     "name": "stderr",
     "output_type": "stream",
     "text": [
      " 82%|████████▏ | 246/300 [14:31<00:48,  1.12it/s]"
     ]
    },
    {
     "name": "stdout",
     "output_type": "stream",
     "text": [
      "Iteration: 245\n",
      "Primal Objective: 0.0\n",
      "Lagrangian Dual Objective: 9.456781089159593\n",
      "Total Cost: 9.456781089159593\n",
      "Source-Sink Flow: 20.0\n"
     ]
    },
    {
     "name": "stderr",
     "output_type": "stream",
     "text": [
      " 82%|████████▏ | 247/300 [14:32<00:46,  1.15it/s]"
     ]
    },
    {
     "name": "stdout",
     "output_type": "stream",
     "text": [
      "Iteration: 246\n",
      "Primal Objective: 0.0\n",
      "Lagrangian Dual Objective: 9.456828504405891\n",
      "Total Cost: 9.456828504405891\n",
      "Source-Sink Flow: 20.0\n"
     ]
    },
    {
     "name": "stderr",
     "output_type": "stream",
     "text": [
      " 83%|████████▎ | 248/300 [14:32<00:44,  1.17it/s]"
     ]
    },
    {
     "name": "stdout",
     "output_type": "stream",
     "text": [
      "Iteration: 247\n",
      "Primal Objective: 0.0\n",
      "Lagrangian Dual Objective: 9.45687307473741\n",
      "Total Cost: 9.45687307473741\n",
      "Source-Sink Flow: 20.0\n"
     ]
    },
    {
     "name": "stderr",
     "output_type": "stream",
     "text": [
      " 83%|████████▎ | 249/300 [14:33<00:43,  1.18it/s]"
     ]
    },
    {
     "name": "stdout",
     "output_type": "stream",
     "text": [
      "Iteration: 248\n",
      "Primal Objective: 0.0\n",
      "Lagrangian Dual Objective: 9.456914970849036\n",
      "Total Cost: 9.456914970849036\n",
      "Source-Sink Flow: 20.0\n"
     ]
    },
    {
     "name": "stderr",
     "output_type": "stream",
     "text": [
      " 83%|████████▎ | 250/300 [14:34<00:42,  1.19it/s]"
     ]
    },
    {
     "name": "stdout",
     "output_type": "stream",
     "text": [
      "Iteration: 249\n",
      "Primal Objective: 0.0\n",
      "Lagrangian Dual Objective: 9.45695435319397\n",
      "Total Cost: 9.45695435319397\n",
      "Source-Sink Flow: 20.0\n"
     ]
    },
    {
     "name": "stderr",
     "output_type": "stream",
     "text": [
      " 84%|████████▎ | 251/300 [14:35<00:40,  1.20it/s]"
     ]
    },
    {
     "name": "stdout",
     "output_type": "stream",
     "text": [
      "Iteration: 250\n",
      "Primal Objective: 20.0\n",
      "Lagrangian Dual Objective: -10.543024909908048\n",
      "Total Cost: 9.456975090091952\n",
      "Source-Sink Flow: 0.0\n"
     ]
    },
    {
     "name": "stderr",
     "output_type": "stream",
     "text": [
      " 84%|████████▍ | 252/300 [14:36<00:40,  1.19it/s]"
     ]
    },
    {
     "name": "stdout",
     "output_type": "stream",
     "text": [
      "Iteration: 251\n",
      "Primal Objective: 0.0\n",
      "Lagrangian Dual Objective: 9.4569448600992\n",
      "Total Cost: 9.4569448600992\n",
      "Source-Sink Flow: 20.0\n"
     ]
    },
    {
     "name": "stderr",
     "output_type": "stream",
     "text": [
      " 84%|████████▍ | 253/300 [14:37<00:39,  1.19it/s]"
     ]
    },
    {
     "name": "stdout",
     "output_type": "stream",
     "text": [
      "Iteration: 252\n",
      "Primal Objective: 0.0\n",
      "Lagrangian Dual Objective: 9.456977570444788\n",
      "Total Cost: 9.456977570444788\n",
      "Source-Sink Flow: 20.0\n"
     ]
    },
    {
     "name": "stderr",
     "output_type": "stream",
     "text": [
      " 85%|████████▍ | 254/300 [14:37<00:38,  1.20it/s]"
     ]
    },
    {
     "name": "stdout",
     "output_type": "stream",
     "text": [
      "Iteration: 253\n",
      "Primal Objective: 0.0\n",
      "Lagrangian Dual Objective: 9.45700831816964\n",
      "Total Cost: 9.45700831816964\n",
      "Source-Sink Flow: 20.0\n"
     ]
    },
    {
     "name": "stderr",
     "output_type": "stream",
     "text": [
      " 85%|████████▌ | 255/300 [14:38<00:38,  1.17it/s]"
     ]
    },
    {
     "name": "stdout",
     "output_type": "stream",
     "text": [
      "Iteration: 254\n",
      "Primal Objective: 0.0\n",
      "Lagrangian Dual Objective: 9.457037221031\n",
      "Total Cost: 9.457037221031\n",
      "Source-Sink Flow: 20.0\n"
     ]
    },
    {
     "name": "stderr",
     "output_type": "stream",
     "text": [
      " 85%|████████▌ | 256/300 [14:39<00:37,  1.19it/s]"
     ]
    },
    {
     "name": "stdout",
     "output_type": "stream",
     "text": [
      "Iteration: 255\n",
      "Primal Objective: 0.0\n",
      "Lagrangian Dual Objective: 9.45706438972065\n",
      "Total Cost: 9.45706438972065\n",
      "Source-Sink Flow: 20.0\n"
     ]
    },
    {
     "name": "stderr",
     "output_type": "stream",
     "text": [
      " 86%|████████▌ | 257/300 [14:40<00:35,  1.20it/s]"
     ]
    },
    {
     "name": "stdout",
     "output_type": "stream",
     "text": [
      "Iteration: 256\n",
      "Primal Objective: 0.0\n",
      "Lagrangian Dual Objective: 9.45708992828896\n",
      "Total Cost: 9.45708992828896\n",
      "Source-Sink Flow: 20.0\n"
     ]
    },
    {
     "name": "stderr",
     "output_type": "stream",
     "text": [
      " 86%|████████▌ | 258/300 [14:41<00:34,  1.21it/s]"
     ]
    },
    {
     "name": "stdout",
     "output_type": "stream",
     "text": [
      "Iteration: 257\n",
      "Primal Objective: 0.0\n",
      "Lagrangian Dual Objective: 9.457113934543159\n",
      "Total Cost: 9.457113934543159\n",
      "Source-Sink Flow: 20.0\n"
     ]
    },
    {
     "name": "stderr",
     "output_type": "stream",
     "text": [
      " 86%|████████▋ | 259/300 [14:42<00:34,  1.20it/s]"
     ]
    },
    {
     "name": "stdout",
     "output_type": "stream",
     "text": [
      "Iteration: 258\n",
      "Primal Objective: 20.0\n",
      "Lagrangian Dual Objective: -10.542872872471994\n",
      "Total Cost: 9.457127127528006\n",
      "Source-Sink Flow: 0.0\n"
     ]
    },
    {
     "name": "stderr",
     "output_type": "stream",
     "text": [
      " 87%|████████▋ | 260/300 [14:42<00:33,  1.20it/s]"
     ]
    },
    {
     "name": "stdout",
     "output_type": "stream",
     "text": [
      "Iteration: 259\n",
      "Primal Objective: 0.0\n",
      "Lagrangian Dual Objective: 9.457106747720328\n",
      "Total Cost: 9.457106747720328\n",
      "Source-Sink Flow: 20.0\n"
     ]
    },
    {
     "name": "stderr",
     "output_type": "stream",
     "text": [
      " 87%|████████▋ | 261/300 [14:43<00:32,  1.21it/s]"
     ]
    },
    {
     "name": "stdout",
     "output_type": "stream",
     "text": [
      "Iteration: 260\n",
      "Primal Objective: 0.0\n",
      "Lagrangian Dual Objective: 9.457126686930954\n",
      "Total Cost: 9.457126686930954\n",
      "Source-Sink Flow: 20.0\n"
     ]
    },
    {
     "name": "stderr",
     "output_type": "stream",
     "text": [
      " 87%|████████▋ | 262/300 [14:44<00:31,  1.21it/s]"
     ]
    },
    {
     "name": "stdout",
     "output_type": "stream",
     "text": [
      "Iteration: 261\n",
      "Primal Objective: 20.0\n",
      "Lagrangian Dual Objective: -10.54286636894668\n",
      "Total Cost: 9.45713363105332\n",
      "Source-Sink Flow: 0.0\n"
     ]
    },
    {
     "name": "stderr",
     "output_type": "stream",
     "text": [
      " 88%|████████▊ | 263/300 [14:45<00:30,  1.21it/s]"
     ]
    },
    {
     "name": "stdout",
     "output_type": "stream",
     "text": [
      "Iteration: 262\n",
      "Primal Objective: 0.0\n",
      "Lagrangian Dual Objective: 9.457119727929195\n",
      "Total Cost: 9.457119727929195\n",
      "Source-Sink Flow: 20.0\n"
     ]
    },
    {
     "name": "stderr",
     "output_type": "stream",
     "text": [
      " 88%|████████▊ | 264/300 [14:46<00:29,  1.23it/s]"
     ]
    },
    {
     "name": "stdout",
     "output_type": "stream",
     "text": [
      "Iteration: 263\n",
      "Primal Objective: 0.0\n",
      "Lagrangian Dual Objective: 9.457136289118525\n",
      "Total Cost: 9.457136289118525\n",
      "Source-Sink Flow: 20.0\n"
     ]
    },
    {
     "name": "stderr",
     "output_type": "stream",
     "text": [
      " 88%|████████▊ | 265/300 [14:47<00:28,  1.21it/s]"
     ]
    },
    {
     "name": "stdout",
     "output_type": "stream",
     "text": [
      "Iteration: 264\n",
      "Primal Objective: 0.0\n",
      "Lagrangian Dual Objective: 9.457151856636491\n",
      "Total Cost: 9.457151856636491\n",
      "Source-Sink Flow: 20.0\n"
     ]
    },
    {
     "name": "stderr",
     "output_type": "stream",
     "text": [
      " 89%|████████▊ | 266/300 [14:47<00:28,  1.21it/s]"
     ]
    },
    {
     "name": "stdout",
     "output_type": "stream",
     "text": [
      "Iteration: 265\n",
      "Primal Objective: 0.0\n",
      "Lagrangian Dual Objective: 9.45716649010338\n",
      "Total Cost: 9.45716649010338\n",
      "Source-Sink Flow: 20.0\n"
     ]
    },
    {
     "name": "stderr",
     "output_type": "stream",
     "text": [
      " 89%|████████▉ | 267/300 [14:48<00:27,  1.21it/s]"
     ]
    },
    {
     "name": "stdout",
     "output_type": "stream",
     "text": [
      "Iteration: 266\n",
      "Primal Objective: 0.0\n",
      "Lagrangian Dual Objective: 9.457180245562256\n",
      "Total Cost: 9.457180245562256\n",
      "Source-Sink Flow: 20.0\n"
     ]
    },
    {
     "name": "stderr",
     "output_type": "stream",
     "text": [
      " 89%|████████▉ | 268/300 [14:49<00:26,  1.22it/s]"
     ]
    },
    {
     "name": "stdout",
     "output_type": "stream",
     "text": [
      "Iteration: 267\n",
      "Primal Objective: 0.0\n",
      "Lagrangian Dual Objective: 9.457193175693586\n",
      "Total Cost: 9.457193175693586\n",
      "Source-Sink Flow: 20.0\n"
     ]
    },
    {
     "name": "stderr",
     "output_type": "stream",
     "text": [
      " 90%|████████▉ | 269/300 [14:50<00:25,  1.22it/s]"
     ]
    },
    {
     "name": "stdout",
     "output_type": "stream",
     "text": [
      "Iteration: 268\n",
      "Primal Objective: 0.0\n",
      "Lagrangian Dual Objective: 9.457205330017064\n",
      "Total Cost: 9.457205330017064\n",
      "Source-Sink Flow: 20.0\n"
     ]
    },
    {
     "name": "stderr",
     "output_type": "stream",
     "text": [
      " 90%|█████████ | 270/300 [14:51<00:24,  1.21it/s]"
     ]
    },
    {
     "name": "stdout",
     "output_type": "stream",
     "text": [
      "Iteration: 269\n",
      "Primal Objective: 0.0\n",
      "Lagrangian Dual Objective: 9.457216755081108\n",
      "Total Cost: 9.457216755081108\n",
      "Source-Sink Flow: 20.0\n"
     ]
    },
    {
     "name": "stderr",
     "output_type": "stream",
     "text": [
      " 90%|█████████ | 271/300 [14:51<00:23,  1.22it/s]"
     ]
    },
    {
     "name": "stdout",
     "output_type": "stream",
     "text": [
      "Iteration: 270\n",
      "Primal Objective: 20.0\n",
      "Lagrangian Dual Objective: -10.54278917208162\n",
      "Total Cost: 9.45721082791838\n",
      "Source-Sink Flow: 0.0\n"
     ]
    },
    {
     "name": "stderr",
     "output_type": "stream",
     "text": [
      " 91%|█████████ | 272/300 [14:52<00:23,  1.21it/s]"
     ]
    },
    {
     "name": "stdout",
     "output_type": "stream",
     "text": [
      "Iteration: 271\n",
      "Primal Objective: 0.0\n",
      "Lagrangian Dual Objective: 9.45721400107508\n",
      "Total Cost: 9.45721400107508\n",
      "Source-Sink Flow: 20.0\n"
     ]
    },
    {
     "name": "stderr",
     "output_type": "stream",
     "text": [
      " 91%|█████████ | 273/300 [14:53<00:22,  1.22it/s]"
     ]
    },
    {
     "name": "stdout",
     "output_type": "stream",
     "text": [
      "Iteration: 272\n",
      "Primal Objective: 0.0\n",
      "Lagrangian Dual Objective: 9.457223490550492\n",
      "Total Cost: 9.457223490550492\n",
      "Source-Sink Flow: 20.0\n"
     ]
    },
    {
     "name": "stderr",
     "output_type": "stream",
     "text": [
      " 91%|█████████▏| 274/300 [14:54<00:21,  1.24it/s]"
     ]
    },
    {
     "name": "stdout",
     "output_type": "stream",
     "text": [
      "Iteration: 273\n",
      "Primal Objective: 0.0\n",
      "Lagrangian Dual Objective: 9.457232410657353\n",
      "Total Cost: 9.457232410657353\n",
      "Source-Sink Flow: 20.0\n"
     ]
    },
    {
     "name": "stderr",
     "output_type": "stream",
     "text": [
      " 92%|█████████▏| 275/300 [14:55<00:20,  1.23it/s]"
     ]
    },
    {
     "name": "stdout",
     "output_type": "stream",
     "text": [
      "Iteration: 274\n",
      "Primal Objective: 0.0\n",
      "Lagrangian Dual Objective: 9.457240795557826\n",
      "Total Cost: 9.457240795557826\n",
      "Source-Sink Flow: 20.0\n"
     ]
    },
    {
     "name": "stderr",
     "output_type": "stream",
     "text": [
      " 92%|█████████▏| 276/300 [14:55<00:19,  1.23it/s]"
     ]
    },
    {
     "name": "stdout",
     "output_type": "stream",
     "text": [
      "Iteration: 275\n",
      "Primal Objective: 0.0\n",
      "Lagrangian Dual Objective: 9.45724867736426\n",
      "Total Cost: 9.45724867736426\n",
      "Source-Sink Flow: 20.0\n"
     ]
    },
    {
     "name": "stderr",
     "output_type": "stream",
     "text": [
      " 92%|█████████▏| 277/300 [14:56<00:18,  1.22it/s]"
     ]
    },
    {
     "name": "stdout",
     "output_type": "stream",
     "text": [
      "Iteration: 276\n",
      "Primal Objective: 0.0\n",
      "Lagrangian Dual Objective: 9.45725608626231\n",
      "Total Cost: 9.45725608626231\n",
      "Source-Sink Flow: 20.0\n"
     ]
    },
    {
     "name": "stderr",
     "output_type": "stream",
     "text": [
      " 93%|█████████▎| 278/300 [14:57<00:18,  1.20it/s]"
     ]
    },
    {
     "name": "stdout",
     "output_type": "stream",
     "text": [
      "Iteration: 277\n",
      "Primal Objective: 20.0\n",
      "Lagrangian Dual Objective: -10.542738455621858\n",
      "Total Cost: 9.457261544378142\n",
      "Source-Sink Flow: 0.0\n"
     ]
    },
    {
     "name": "stderr",
     "output_type": "stream",
     "text": [
      " 93%|█████████▎| 279/300 [14:58<00:17,  1.21it/s]"
     ]
    },
    {
     "name": "stdout",
     "output_type": "stream",
     "text": [
      "Iteration: 278\n",
      "Primal Objective: 0.0\n",
      "Lagrangian Dual Objective: 9.457253436126384\n",
      "Total Cost: 9.457253436126384\n",
      "Source-Sink Flow: 20.0\n"
     ]
    },
    {
     "name": "stderr",
     "output_type": "stream",
     "text": [
      " 93%|█████████▎| 280/300 [14:59<00:16,  1.22it/s]"
     ]
    },
    {
     "name": "stdout",
     "output_type": "stream",
     "text": [
      "Iteration: 279\n",
      "Primal Objective: 20.0\n",
      "Lagrangian Dual Objective: -10.542741146621026\n",
      "Total Cost: 9.457258853378974\n",
      "Source-Sink Flow: 0.0\n"
     ]
    },
    {
     "name": "stderr",
     "output_type": "stream",
     "text": [
      " 94%|█████████▎| 281/300 [15:00<00:15,  1.22it/s]"
     ]
    },
    {
     "name": "stdout",
     "output_type": "stream",
     "text": [
      "Iteration: 280\n",
      "Primal Objective: 0.0\n",
      "Lagrangian Dual Objective: 9.457251516692429\n",
      "Total Cost: 9.457251516692429\n",
      "Source-Sink Flow: 20.0\n"
     ]
    },
    {
     "name": "stderr",
     "output_type": "stream",
     "text": [
      " 94%|█████████▍| 282/300 [15:00<00:14,  1.22it/s]"
     ]
    },
    {
     "name": "stdout",
     "output_type": "stream",
     "text": [
      "Iteration: 281\n",
      "Primal Objective: 0.0\n",
      "Lagrangian Dual Objective: 9.45725695411251\n",
      "Total Cost: 9.45725695411251\n",
      "Source-Sink Flow: 20.0\n"
     ]
    },
    {
     "name": "stderr",
     "output_type": "stream",
     "text": [
      " 94%|█████████▍| 283/300 [15:01<00:13,  1.24it/s]"
     ]
    },
    {
     "name": "stdout",
     "output_type": "stream",
     "text": [
      "Iteration: 282\n",
      "Primal Objective: 0.0\n",
      "Lagrangian Dual Objective: 9.457262065287383\n",
      "Total Cost: 9.457262065287383\n",
      "Source-Sink Flow: 20.0\n"
     ]
    },
    {
     "name": "stderr",
     "output_type": "stream",
     "text": [
      " 95%|█████████▍| 284/300 [15:02<00:12,  1.24it/s]"
     ]
    },
    {
     "name": "stdout",
     "output_type": "stream",
     "text": [
      "Iteration: 283\n",
      "Primal Objective: 0.0\n",
      "Lagrangian Dual Objective: 9.457266869791761\n",
      "Total Cost: 9.457266869791761\n",
      "Source-Sink Flow: 20.0\n"
     ]
    },
    {
     "name": "stderr",
     "output_type": "stream",
     "text": [
      " 95%|█████████▌| 285/300 [15:03<00:12,  1.25it/s]"
     ]
    },
    {
     "name": "stdout",
     "output_type": "stream",
     "text": [
      "Iteration: 284\n",
      "Primal Objective: 0.0\n",
      "Lagrangian Dual Objective: 9.457271386025884\n",
      "Total Cost: 9.457271386025884\n",
      "Source-Sink Flow: 20.0\n"
     ]
    },
    {
     "name": "stderr",
     "output_type": "stream",
     "text": [
      " 95%|█████████▌| 286/300 [15:04<00:11,  1.25it/s]"
     ]
    },
    {
     "name": "stdout",
     "output_type": "stream",
     "text": [
      "Iteration: 285\n",
      "Primal Objective: 0.0\n",
      "Lagrangian Dual Objective: 9.457275631285949\n",
      "Total Cost: 9.457275631285949\n",
      "Source-Sink Flow: 20.0\n"
     ]
    },
    {
     "name": "stderr",
     "output_type": "stream",
     "text": [
      " 96%|█████████▌| 287/300 [15:04<00:10,  1.23it/s]"
     ]
    },
    {
     "name": "stdout",
     "output_type": "stream",
     "text": [
      "Iteration: 286\n",
      "Primal Objective: 20.0\n",
      "Lagrangian Dual Objective: -10.542723714617871\n",
      "Total Cost: 9.457276285382129\n",
      "Source-Sink Flow: 0.0\n"
     ]
    },
    {
     "name": "stderr",
     "output_type": "stream",
     "text": [
      " 96%|█████████▌| 288/300 [15:05<00:09,  1.24it/s]"
     ]
    },
    {
     "name": "stdout",
     "output_type": "stream",
     "text": [
      "Iteration: 287\n",
      "Primal Objective: 0.0\n",
      "Lagrangian Dual Objective: 9.457274459409229\n",
      "Total Cost: 9.457274459409229\n",
      "Source-Sink Flow: 20.0\n"
     ]
    },
    {
     "name": "stderr",
     "output_type": "stream",
     "text": [
      " 96%|█████████▋| 289/300 [15:06<00:08,  1.23it/s]"
     ]
    },
    {
     "name": "stdout",
     "output_type": "stream",
     "text": [
      "Iteration: 288\n",
      "Primal Objective: 0.0\n",
      "Lagrangian Dual Objective: 9.457277985454322\n",
      "Total Cost: 9.457277985454322\n",
      "Source-Sink Flow: 20.0\n"
     ]
    },
    {
     "name": "stderr",
     "output_type": "stream",
     "text": [
      " 97%|█████████▋| 290/300 [15:07<00:08,  1.24it/s]"
     ]
    },
    {
     "name": "stdout",
     "output_type": "stream",
     "text": [
      "Iteration: 289\n",
      "Primal Objective: 0.0\n",
      "Lagrangian Dual Objective: 9.457281299936717\n",
      "Total Cost: 9.457281299936717\n",
      "Source-Sink Flow: 20.0\n"
     ]
    },
    {
     "name": "stderr",
     "output_type": "stream",
     "text": [
      " 97%|█████████▋| 291/300 [15:08<00:07,  1.24it/s]"
     ]
    },
    {
     "name": "stdout",
     "output_type": "stream",
     "text": [
      "Iteration: 290\n",
      "Primal Objective: 0.0\n",
      "Lagrangian Dual Objective: 9.45728441555016\n",
      "Total Cost: 9.45728441555016\n",
      "Source-Sink Flow: 20.0\n"
     ]
    },
    {
     "name": "stderr",
     "output_type": "stream",
     "text": [
      " 97%|█████████▋| 292/300 [15:08<00:06,  1.24it/s]"
     ]
    },
    {
     "name": "stdout",
     "output_type": "stream",
     "text": [
      "Iteration: 291\n",
      "Primal Objective: 0.0\n",
      "Lagrangian Dual Objective: 9.457287344226806\n",
      "Total Cost: 9.457287344226806\n",
      "Source-Sink Flow: 20.0\n"
     ]
    },
    {
     "name": "stderr",
     "output_type": "stream",
     "text": [
      " 98%|█████████▊| 293/300 [15:09<00:05,  1.24it/s]"
     ]
    },
    {
     "name": "stdout",
     "output_type": "stream",
     "text": [
      "Iteration: 292\n",
      "Primal Objective: 0.0\n",
      "Lagrangian Dual Objective: 9.457290097182836\n",
      "Total Cost: 9.457290097182836\n",
      "Source-Sink Flow: 20.0\n"
     ]
    },
    {
     "name": "stderr",
     "output_type": "stream",
     "text": [
      " 98%|█████████▊| 294/300 [15:10<00:04,  1.24it/s]"
     ]
    },
    {
     "name": "stdout",
     "output_type": "stream",
     "text": [
      "Iteration: 293\n",
      "Primal Objective: 0.0\n",
      "Lagrangian Dual Objective: 9.457292684961514\n",
      "Total Cost: 9.457292684961514\n",
      "Source-Sink Flow: 20.0\n"
     ]
    },
    {
     "name": "stderr",
     "output_type": "stream",
     "text": [
      " 98%|█████████▊| 295/300 [15:11<00:04,  1.24it/s]"
     ]
    },
    {
     "name": "stdout",
     "output_type": "stream",
     "text": [
      "Iteration: 294\n",
      "Primal Objective: 20.0\n",
      "Lagrangian Dual Objective: -10.542706101143139\n",
      "Total Cost: 9.457293898856861\n",
      "Source-Sink Flow: 0.0\n"
     ]
    },
    {
     "name": "stderr",
     "output_type": "stream",
     "text": [
      " 99%|█████████▊| 296/300 [15:12<00:03,  1.23it/s]"
     ]
    },
    {
     "name": "stdout",
     "output_type": "stream",
     "text": [
      "Iteration: 295\n",
      "Primal Objective: 0.0\n",
      "Lagrangian Dual Objective: 9.4572916687656\n",
      "Total Cost: 9.4572916687656\n",
      "Source-Sink Flow: 20.0\n"
     ]
    },
    {
     "name": "stderr",
     "output_type": "stream",
     "text": [
      " 99%|█████████▉| 297/300 [15:13<00:02,  1.24it/s]"
     ]
    },
    {
     "name": "stdout",
     "output_type": "stream",
     "text": [
      "Iteration: 296\n",
      "Primal Objective: 0.0\n",
      "Lagrangian Dual Objective: 9.457293818133163\n",
      "Total Cost: 9.457293818133163\n",
      "Source-Sink Flow: 20.0\n"
     ]
    },
    {
     "name": "stderr",
     "output_type": "stream",
     "text": [
      " 99%|█████████▉| 298/300 [15:13<00:01,  1.24it/s]"
     ]
    },
    {
     "name": "stdout",
     "output_type": "stream",
     "text": [
      "Iteration: 297\n",
      "Primal Objective: 0.0\n",
      "Lagrangian Dual Objective: 9.45729583853867\n",
      "Total Cost: 9.45729583853867\n",
      "Source-Sink Flow: 20.0\n"
     ]
    },
    {
     "name": "stderr",
     "output_type": "stream",
     "text": [
      "100%|█████████▉| 299/300 [15:14<00:00,  1.23it/s]"
     ]
    },
    {
     "name": "stdout",
     "output_type": "stream",
     "text": [
      "Iteration: 298\n",
      "Primal Objective: 0.0\n",
      "Lagrangian Dual Objective: 9.457297737719859\n",
      "Total Cost: 9.457297737719859\n",
      "Source-Sink Flow: 20.0\n"
     ]
    },
    {
     "name": "stderr",
     "output_type": "stream",
     "text": [
      "100%|██████████| 300/300 [15:15<00:00,  3.05s/it]"
     ]
    },
    {
     "name": "stdout",
     "output_type": "stream",
     "text": [
      "Iteration: 299\n",
      "Primal Objective: 20.0\n",
      "Lagrangian Dual Objective: -10.542703172527322\n",
      "Total Cost: 9.457296827472678\n",
      "Source-Sink Flow: 0.0\n",
      "Elapsed Time: 915.4701778888702\n"
     ]
    },
    {
     "name": "stderr",
     "output_type": "stream",
     "text": [
      "\n"
     ]
    }
   ],
   "source": [
    "from time import time\n",
    "# flight_demand = {(0, 1, 0):2, (1, 0, 0):9, (0, 1, 1):3, (1, 0, 1):4}\n",
    "lambda_s = {i:0 for i in flight_demand.keys()}\n",
    "\n",
    "# max_iter = 300\n",
    "# alpha = 0.92\n",
    "# epsilon = 0.1\n",
    "# step_size = 0.1\n",
    "max_iter = 300\n",
    "alpha = 0.94\n",
    "epsilon = 0.1\n",
    "step_size = 0.12\n",
    "\n",
    "ofv = []\n",
    "multipliers_to_plot = np.empty((max_iter, len(flight_demand)))\n",
    "m = Model(\"LagrangianRelaxationExample\")\n",
    "m.setParam('OutputFlag', 0)\n",
    "flow = m.addVars(edges, name=\"flow\", lb=0)\n",
    "print('Building Flow Balance Constraints')\n",
    "for n in tqdm(nodes):\n",
    "    m.addConstr(sum(flow[i, j] for i, j in edges if j == n) -\n",
    "    sum(flow[i, j] for i, j in edges if i == n) == supply.get(n, 0), f\"node_{n}\")\n",
    "start_time = time()\n",
    "print('Solving the Relaxation Problem')\n",
    "for iteration in tqdm(range(max_iter)):\n",
    "    primal_objective = quicksum(c[i,j] * flow[i,j] for i,j in edges)\n",
    "    lagragian_dual_objective = quicksum(lambda_s[i] * (flight_demand[i] - get_flight_edges(i, flow)) for i in flight_demand.keys())\n",
    "    m.setObjective(primal_objective + lagragian_dual_objective, GRB.MINIMIZE)\n",
    "    m.optimize()\n",
    "\n",
    "    subgradeints = {i: flight_demand[i] - get_flight_edges(i, flow).getValue() for i in flight_demand.keys()}\n",
    "\n",
    "    solution = m.getAttr('x', flow)\n",
    "    flow_sum = sum(solution[i, j] for (i, j) in edges if i == 'Source' and j == 'Sink')\n",
    "    primal_ofv = primal_objective.getValue()\n",
    "    lr_ofv = lagragian_dual_objective.getValue()\n",
    "    subgradients = subgradeints\n",
    "\n",
    "    for i in flight_demand.keys():\n",
    "        lambda_s[i] = max(0, lambda_s[i] + step_size * subgradients[i])\n",
    "\n",
    "    step_size *= alpha\n",
    "\n",
    "    if all(abs(subgradient) < epsilon for subgradient in list(subgradients.values())):\n",
    "        print(\"Convergence achieved after\", iteration, \"iterations\")\n",
    "        break\n",
    "\n",
    "    print(\"Iteration:\", iteration)\n",
    "    print(\"Primal Objective:\", primal_ofv)\n",
    "    print(\"Lagrangian Dual Objective:\", lr_ofv)\n",
    "    print('Total Cost:', primal_ofv + lr_ofv)\n",
    "    print('Source-Sink Flow:', flow_sum)\n",
    "    # print('Lagraingian Multipliers:', np.array(list(lambda_s.values())).round(2), \"\\n\")\n",
    "    multipliers_to_plot[iteration] = list(lambda_s.values())\n",
    "    ofv.append(primal_ofv + lr_ofv)\n",
    "    # if lr_ofv > 0:\n",
    "    #     print(\"Lagrangian Dual Objective is positive. Stop the algorithm.\")\n",
    "    #     print(lambda_s)\n",
    "    #     break\n",
    "        \n",
    "print('Elapsed Time:', time() - start_time)"
   ]
  },
  {
   "cell_type": "code",
   "execution_count": 14,
   "metadata": {},
   "outputs": [],
   "source": [
    "with open('edges.txt', 'w') as f:\n",
    "    for item in edges:\n",
    "        f.write(\"%s\\n\" % str(item))\n",
    "with open('nodes.txt', 'w') as f:\n",
    "    for item in nodes:\n",
    "        f.write(\"%s\\n\" % str(item))"
   ]
  },
  {
   "cell_type": "code",
   "execution_count": 31,
   "metadata": {},
   "outputs": [
    {
     "data": {
      "image/png": "[encoded data removed]",
      "text/plain": [
       "<Figure size 2000x800 with 2 Axes>"
      ]
     },
     "metadata": {},
     "output_type": "display_data"
    }
   ],
   "source": [
    "import matplotlib.pyplot as plt\n",
    "fig, ax = plt.subplots(nrows=1, ncols=2, figsize=(10, 4), dpi=200)\n",
    "\n",
    "# ax[0].plot(multipliers_to_plot[:iteration])\n",
    "# ax[0].set(xlabel='Iterations', ylabel='Lagragian Multipliers', title='Lagragian Multipliers')\n",
    "# ax[0].legend(['v1-v2 at t=1 (d=2)', 'v2-v1 at t=1 (d=9)', 'v1-v2 at t=2 (d=3)', 'v2-v1 at t=2 (d=4)'])\n",
    "\n",
    "\n",
    "ax[1].plot(ofv)\n",
    "ax[1].set(xlabel='Iterations', ylabel='LR OFV', title='Objective Fuction Value')\n",
    "plt.show()\n",
    "\n"
   ]
  },
  {
   "cell_type": "markdown",
   "metadata": {},
   "source": [
    "# Assignment Problem Archive"
   ]
  },
  {
   "cell_type": "code",
   "execution_count": null,
   "metadata": {},
   "outputs": [],
   "source": [
    "LAX_DTLA = schedule[schedule['od'] == 'LAX_DTLA'].reset_index(drop=True).reset_index()\n",
    "LAX_DTLA['index'] = LAX_DTLA['index'].apply(lambda x: 'LAX_DTLA_' + str(x))"
   ]
  },
  {
   "cell_type": "markdown",
   "metadata": {},
   "source": [
    "DTLA_LAX = schedule[schedule['od'] == 'DTLA_LAX'].reset_index(drop=True).reset_index()\n",
    "DTLA_LAX['index'] = DTLA_LAX['index'].apply(lambda x: 'DTLA_LAX_' + str(x))"
   ]
  },
  {
   "cell_type": "code",
   "execution_count": null,
   "metadata": {},
   "outputs": [],
   "source": [
    "LAX_DTLA['arrival_time'] = LAX_DTLA['schedule'] + 10\n",
    "DTLA_LAX['arrival_time'] = DTLA_LAX['schedule'] + 10"
   ]
  },
  {
   "cell_type": "code",
   "execution_count": null,
   "metadata": {},
   "outputs": [],
   "source": [
    "nodes = ['Source', 'Sink']\n",
    "nodes.extend(LAX_DTLA['index']+'A')\n",
    "nodes.extend(LAX_DTLA['index']+'B')\n",
    "nodes.extend(DTLA_LAX['index']+'A')\n",
    "nodes.extend(DTLA_LAX['index']+'B')"
   ]
  },
  {
   "cell_type": "code",
   "execution_count": null,
   "metadata": {},
   "outputs": [],
   "source": [
    "edges = [('Source', 'Sink')]\n",
    "cost = [-100]\n",
    "for i in LAX_DTLA['index']:\n",
    "    edges.append(('Source', i+'A'))\n",
    "    cost.append(1)\n",
    "    edges.append((i+'A', i+'B'))\n",
    "    cost.append(0)\n",
    "    edges.append((i+'B', 'Sink'))\n",
    "    cost.append(0)\n",
    "for i in DTLA_LAX['index']:\n",
    "    edges.append(('Source', i+'A'))\n",
    "    cost.append(1)\n",
    "    edges.append((i+'A', i+'B'))\n",
    "    cost.append(0)\n",
    "    edges.append((i+'B', 'Sink'))\n",
    "    cost.append(0)\n",
    "\n",
    "for previous_task in LAX_DTLA.iterrows():\n",
    "    for next_task in LAX_DTLA.iterrows():\n",
    "        if previous_task[1]['arrival_time']+10 <= next_task[1]['schedule']:\n",
    "            edges.append((previous_task[1]['index']+'B', next_task[1]['index']+'A'))\n",
    "            cost.append(-1)\n",
    "\n",
    "for previous_task in DTLA_LAX.iterrows():\n",
    "    for next_task in DTLA_LAX.iterrows():\n",
    "        if previous_task[1]['arrival_time']+10 <= next_task[1]['schedule']:\n",
    "            edges.append((previous_task[1]['index']+'B', next_task[1]['index']+'A'))\n",
    "            cost.append(0)\n",
    "\n",
    "for previous_task in LAX_DTLA.iterrows():\n",
    "    for next_task in DTLA_LAX.iterrows():\n",
    "        if previous_task[1]['arrival_time'] <= next_task[1]['schedule']:\n",
    "            edges.append((previous_task[1]['index']+'B', next_task[1]['index']+'A'))\n",
    "            cost.append(0)\n",
    "\n",
    "for previous_task in DTLA_LAX.iterrows():\n",
    "    for next_task in LAX_DTLA.iterrows():\n",
    "        if previous_task[1]['arrival_time'] <= next_task[1]['schedule']:\n",
    "            edges.append((previous_task[1]['index']+'B', next_task[1]['index']+'A'))\n",
    "            cost.append(0)"
   ]
  },
  {
   "cell_type": "code",
   "execution_count": null,
   "metadata": {},
   "outputs": [],
   "source": [
    "capacities = [GRB.INFINITY] + [1] * len(edges)\n",
    "capacities = dict(zip(edges, capacities))\n",
    "\n",
    "cost = dict(zip(edges, cost))\n",
    "supply = {'Source': -20, 'Sink': 20}"
   ]
  },
  {
   "cell_type": "code",
   "execution_count": null,
   "metadata": {},
   "outputs": [],
   "source": [
    "m = Model(\"MCNF\")\n",
    "\n",
    "flow = m.addVars(edges, obj=cost, name=\"flow\", lb=0, ub=capacities)\n",
    "for n in nodes:\n",
    "    m.addConstr(sum(flow[i, j] for i, j in edges if j == n) -\n",
    "                sum(flow[i, j] for i, j in edges if i == n) == supply.get(n, 0), f\"node_{n}\")\n",
    "\n",
    "for i, j in edges:\n",
    "    if i.endswith('A') and j.endswith('B'):\n",
    "        m.addConstr(flow[i, j] == 1, f\"flow_{i}_to_{j}\")\n",
    "\n",
    "m.optimize()\n",
    "\n",
    "if m.status == GRB.OPTIMAL:\n",
    "    solution = m.getAttr('x', flow)\n",
    "    flow_sum = sum(solution[i, j] for (i, j) in edges if i == 'Source' and j.endswith('A'))\n",
    "    print(\"Sum of flow from Source to nodes with A:\", flow_sum)\n",
    "else:\n",
    "    print(\"No optimal solution found.\")\n"
   ]
  },
  {
   "cell_type": "code",
   "execution_count": null,
   "metadata": {},
   "outputs": [],
   "source": []
  }
 ],
 "metadata": {
  "kernelspec": {
   "display_name": "base",
   "language": "python",
   "name": "python3"
  },
  "language_info": {
   "codemirror_mode": {
    "name": "ipython",
    "version": 3
   },
   "file_extension": ".py",
   "mimetype": "text/x-python",
   "name": "python",
   "nbconvert_exporter": "python",
   "pygments_lexer": "ipython3",
   "version": "3.11.0"
  }
 },
 "nbformat": 4,
 "nbformat_minor": 2
}
