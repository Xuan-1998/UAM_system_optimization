{
 "cells": [
  {
   "cell_type": "code",
   "execution_count": 1,
   "metadata": {},
   "outputs": [
    {
     "name": "stdout",
     "output_type": "stream",
     "text": [
      "Optimized values:\n",
      "D_h: nan\n",
      "D_v: 1000\n"
     ]
    },
    {
     "name": "stderr",
     "output_type": "stream",
     "text": [
      "/var/folders/6n/l9s50q1j7d97405nlg3xkn000000gn/T/ipykernel_12837/3325383953.py:8: RuntimeWarning: divide by zero encountered in scalar divide\n",
      "  return -(term1 + term2 + term3) * D_v / V_v + lambda_val * (V_v - V_h * D_v / D_h)\n",
      "/Library/Frameworks/Python.framework/Versions/3.11/lib/python3.11/site-packages/scipy/optimize/_numdiff.py:576: RuntimeWarning: invalid value encountered in subtract\n",
      "  df = fun(x) - f0\n"
     ]
    }
   ],
   "source": [
    "import scipy.optimize as optimize\n",
    "\n",
    "def objective(x, W, rho, S, C_D0, K, eta_mech, eta_prop):\n",
    "    V_h, V_v, lambda_val = x\n",
    "    term1 = (W * V_v) / (eta_mech * eta_prop)\n",
    "    term2 = 0.5 * rho * V_h**3 * S * C_D0\n",
    "    term3 = (K * W**2) / (0.5 * rho * V_h * S)\n",
    "    return -(term1 + term2 + term3) * D_v / V_v + lambda_val * (V_v - V_h * D_v / D_h)\n",
    "\n",
    "def constraint(x):\n",
    "    V_h, V_v, lambda_val = x\n",
    "    return D_h / D_v - V_h / V_v\n",
    "\n",
    "# Given parameters\n",
    "rho = 1.1729\n",
    "MTOM = 2182\n",
    "g = 9.8\n",
    "W = MTOM * g\n",
    "S = 13\n",
    "C_D0 = 0.015\n",
    "LD = 18\n",
    "V_v = 5.5\n",
    "V_D = 5.5\n",
    "FoM = 0.8\n",
    "f = 1.03\n",
    "eta_cruise = 0.9\n",
    "K = 1 / (4 * C_D0 * LD**2)\n",
    "\n",
    "# Additional variables\n",
    "eta_mech = 0.9\n",
    "eta_prop = 0.9\n",
    "D_v = 1000  # Arbitrary initial value for D_v\n",
    "D_h = 0    # Initial value for D_h (will be updated)\n",
    "\n",
    "# Solve the optimization problem\n",
    "result = optimize.minimize(objective, [1, 1, 1], args=(W, rho, S, C_D0, K, eta_mech, eta_prop),\n",
    "                           constraints={'type': 'eq', 'fun': constraint})\n",
    "V_h, V_v, lambda_val = result.x\n",
    "D_h = V_h / V_v * D_v\n",
    "\n",
    "print(\"Optimized values:\")\n",
    "print(\"D_h:\", D_h)\n",
    "print(\"D_v:\", D_v)\n"
   ]
  },
  {
   "cell_type": "code",
   "execution_count": null,
   "metadata": {},
   "outputs": [],
   "source": []
  }
 ],
 "metadata": {
  "kernelspec": {
   "display_name": "Python 3",
   "language": "python",
   "name": "python3"
  },
  "language_info": {
   "codemirror_mode": {
    "name": "ipython",
    "version": 3
   },
   "file_extension": ".py",
   "mimetype": "text/x-python",
   "name": "python",
   "nbconvert_exporter": "python",
   "pygments_lexer": "ipython3",
   "version": "3.11.3"
  },
  "orig_nbformat": 4
 },
 "nbformat": 4,
 "nbformat_minor": 2
}
